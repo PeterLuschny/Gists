{
 "cells": [
  {
   "cell_type": "markdown",
   "metadata": {},
   "source": [
    "This is a SageMath notebook.\n",
    "Peter Luschny\n",
    "2024/01/25"
   ]
  },
  {
   "cell_type": "markdown",
   "metadata": {},
   "source": [
    "We study the compositions of n where the first part is the largest part and the last part is not 1. (A368279 and A369492.)"
   ]
  },
  {
   "cell_type": "code",
   "execution_count": 1,
   "metadata": {},
   "outputs": [],
   "source": [
    "def _A368279Compositions(n: int, verbose=False):\n",
    "    \"\"\"\n",
    "    Generates all interpart restricted compositions of n (n >= 1) with \n",
    "    first part equal to the largest part and the last part not 1.\n",
    "    An adaption of Kelleher's algorithm. See Kelleher 2006, 'Encoding\n",
    "    partitions as ascending compositions' chapters 3 and 4 for details.\n",
    "    https://jeromekelleher.net/generating-integer-partitions.html\n",
    "    \"\"\"\n",
    "    count = 0\n",
    "    a = [0 for i in range(n + 1)]\n",
    "    k = 1\n",
    "    a[0] = 1\n",
    "    a[1] = n - 1\n",
    "    while k != 0:\n",
    "        x = a[k - 1] + 1\n",
    "        y = a[k] - 1\n",
    "        k -= 1\n",
    "        while 1 <= y:\n",
    "            a[k] = x\n",
    "            x = 1\n",
    "            y -= x\n",
    "            k += 1\n",
    "        a[k] = x + y\n",
    "        if a[k] != 1:\n",
    "            if all(part <= a[0] for part in a[:k + 1]):\n",
    "                yield a[:k + 1]\n",
    "                count += 1\n",
    "    if verbose:\n",
    "        print(f\"The number of A368279-compositions of {n} is {count}.\")"
   ]
  },
  {
   "cell_type": "markdown",
   "metadata": {},
   "source": [
    "Let's first look at the corner cases.<br> \n",
    "For n = 1, there are no A368279-compositions, \n",
    "(since [1] is the only composition of 1 but we exclude compositions ending with 1), and the algorithm correctly terminates without returning a composition. In this case it is convenient to let the function return [ ].<br> \n",
    "For n = 0, the algorithm is not defined. "
   ]
  },
  {
   "cell_type": "code",
   "execution_count": 2,
   "metadata": {},
   "outputs": [],
   "source": [
    "def A368279Compositions(n: int, verbose=False):\n",
    "    if n == 1: return [[]]\n",
    "    return _A368279Compositions(n, verbose)"
   ]
  },
  {
   "cell_type": "code",
   "execution_count": 3,
   "metadata": {},
   "outputs": [
    {
     "name": "stdout",
     "output_type": "stream",
     "text": [
      "[2, 1, 1, 2]\n",
      "[2, 2, 2]\n",
      "[3, 1, 2]\n",
      "[3, 3]\n",
      "[4, 2]\n",
      "[6]\n"
     ]
    }
   ],
   "source": [
    "for p in A368279Compositions(6): \n",
    "    print(p)"
   ]
  },
  {
   "cell_type": "markdown",
   "metadata": {},
   "source": [
    "The compositions for a fixed n are sorted by ascending first part. Now we want to reverse this and list them by falling first part. The reason is that this way we later get increasing values when representing the compositions as binary words."
   ]
  },
  {
   "cell_type": "code",
   "execution_count": 4,
   "metadata": {},
   "outputs": [],
   "source": [
    "def A368279CompositionsInReverseOrder(n):\n",
    "    stack = [] \n",
    "    for c in A368279Compositions(n): \n",
    "        stack.append(c)\n",
    "    return reversed(stack) "
   ]
  },
  {
   "cell_type": "code",
   "execution_count": 5,
   "metadata": {},
   "outputs": [
    {
     "name": "stdout",
     "output_type": "stream",
     "text": [
      "[6]\n",
      "[4, 2]\n",
      "[3, 3]\n",
      "[3, 1, 2]\n",
      "[2, 2, 2]\n",
      "[2, 1, 1, 2]\n"
     ]
    }
   ],
   "source": [
    "for c in A368279CompositionsInReverseOrder(6): \n",
    "    print(c)"
   ]
  },
  {
   "cell_type": "markdown",
   "metadata": {},
   "source": [
    "Concat the compostions in a single list."
   ]
  },
  {
   "cell_type": "code",
   "execution_count": 6,
   "metadata": {},
   "outputs": [],
   "source": [
    "def A368279CompositionsListInReverseOrder(size):\n",
    "    total = []\n",
    "    for n in range(1, size):\n",
    "        total.extend(A368279CompositionsInReverseOrder(n)) \n",
    "    return total  "
   ]
  },
  {
   "cell_type": "code",
   "execution_count": 7,
   "metadata": {},
   "outputs": [
    {
     "name": "stdout",
     "output_type": "stream",
     "text": [
      "[]\n",
      "[2]\n",
      "[3]\n",
      "[4]\n",
      "[2, 2]\n",
      "[5]\n",
      "[3, 2]\n",
      "[2, 1, 2]\n",
      "[6]\n",
      "[4, 2]\n",
      "[3, 3]\n",
      "[3, 1, 2]\n",
      "[2, 2, 2]\n",
      "[2, 1, 1, 2]\n"
     ]
    }
   ],
   "source": [
    "for c in A368279CompositionsListInReverseOrder(7):  \n",
    "    print(c)"
   ]
  },
  {
   "cell_type": "code",
   "execution_count": 8,
   "metadata": {},
   "outputs": [],
   "source": [
    "# Integer compositions -> Binary words\n",
    "def binword(w):\n",
    "    return Words([0, 1])(w.to_code()) \n",
    "\n",
    "# Integer compositions -> Dyck paths\n",
    "def dyckpath(c):\n",
    "    return DyckWord(sum([[1]*a + [0]*a for a in c], []))"
   ]
  },
  {
   "cell_type": "markdown",
   "metadata": {},
   "source": [
    "Combine the four representations in a table. <br>\n",
    "Encoded as an integer, a binary string, a dyckpath (brackets), and a composition."
   ]
  },
  {
   "cell_type": "code",
   "execution_count": 9,
   "metadata": {},
   "outputs": [],
   "source": [
    "def A368279CompositionsMaps(size):\n",
    "    for c in A368279CompositionsListInReverseOrder(size):\n",
    "        bw = str(binword(Composition(c)))\n",
    "        dyck = str(dyckpath(c))\n",
    "        dec = int(bw, 2)\n",
    "        print(f\"{dec:3d} | {bw.ljust(7)} | {dyck.ljust(14)} | {c}\")"
   ]
  },
  {
   "cell_type": "markdown",
   "metadata": {},
   "source": [
    "<p style=\"color:brown; font-size:18px\">The Main Table<p>"
   ]
  },
  {
   "cell_type": "code",
   "execution_count": 10,
   "metadata": {},
   "outputs": [
    {
     "name": "stdout",
     "output_type": "stream",
     "text": [
      "  0 | 0       |                | []\n",
      "  2 | 10      | (())           | [2]\n",
      "  4 | 100     | ((()))         | [3]\n",
      "  8 | 1000    | (((())))       | [4]\n",
      " 10 | 1010    | (())(())       | [2, 2]\n",
      " 16 | 10000   | ((((()))))     | [5]\n",
      " 18 | 10010   | ((()))(())     | [3, 2]\n",
      " 22 | 10110   | (())()(())     | [2, 1, 2]\n",
      " 32 | 100000  | (((((())))))   | [6]\n",
      " 34 | 100010  | (((())))(())   | [4, 2]\n",
      " 36 | 100100  | ((()))((()))   | [3, 3]\n",
      " 38 | 100110  | ((()))()(())   | [3, 1, 2]\n",
      " 42 | 101010  | (())(())(())   | [2, 2, 2]\n",
      " 46 | 101110  | (())()()(())   | [2, 1, 1, 2]\n",
      " 64 | 1000000 | ((((((())))))) | [7]\n",
      " 66 | 1000010 | ((((()))))(()) | [5, 2]\n",
      " 68 | 1000100 | (((())))((())) | [4, 3]\n",
      " 70 | 1000110 | (((())))()(()) | [4, 1, 2]\n",
      " 74 | 1001010 | ((()))(())(()) | [3, 2, 2]\n",
      " 76 | 1001100 | ((()))()((())) | [3, 1, 3]\n",
      " 78 | 1001110 | ((()))()()(()) | [3, 1, 1, 2]\n",
      " 86 | 1010110 | (())(())()(()) | [2, 2, 1, 2]\n",
      " 90 | 1011010 | (())()(())(()) | [2, 1, 2, 2]\n",
      " 94 | 1011110 | (())()()()(()) | [2, 1, 1, 1, 2]\n"
     ]
    }
   ],
   "source": [
    "A368279CompositionsMaps(8)"
   ]
  },
  {
   "cell_type": "markdown",
   "metadata": {},
   "source": [
    "There are other representations, but less illuminating. \n",
    "We have the following interpretation of the Dyck paths plotted below:\n",
    "\"A group of elephants moves from right to left.\n",
    "The boss goes first and minors are placed in\n",
    "the middle and are not allowed to run at the end.\""
   ]
  },
  {
   "cell_type": "code",
   "execution_count": 11,
   "metadata": {
    "scrolled": false
   },
   "outputs": [
    {
     "name": "stdout",
     "output_type": "stream",
     "text": [
      "      /\\      \n",
      "     /  \\     \n",
      "    /    \\    \n",
      "   /      \\   \n",
      "  /        \\  \n",
      " /          \\ \n",
      "/            \\\n",
      "[[[[[[[., .], .], .], .], .], .], .]\n",
      "[[[[[[[[], []], []], []], []], []], []], []]\n",
      "[7]\n",
      "\n",
      "    /\\        \n",
      "   /  \\       \n",
      "  /    \\      \n",
      " /      \\  /\\ \n",
      "/        \\/  \\\n",
      "[[[[[., .], .], .], .], [[., .], .]]\n",
      "[[[[[[], []], []], []], []], [[[], []], []]]\n",
      "[5, 2]\n",
      "\n",
      "   /\\         \n",
      "  /  \\    /\\  \n",
      " /    \\  /  \\ \n",
      "/      \\/    \\\n",
      "[[[[., .], .], .], [[[., .], .], .]]\n",
      "[[[[[], []], []], []], [[[[], []], []], []]]\n",
      "[4, 3]\n",
      "\n",
      "   /\\         \n",
      "  /  \\        \n",
      " /    \\    /\\ \n",
      "/      \\/\\/  \\\n",
      "[[[[., .], .], .], [., [[., .], .]]]\n",
      "[[[[[], []], []], []], [[], [[[], []], []]]]\n",
      "[4, 1, 2]\n",
      "\n",
      "  /\\          \n",
      " /  \\  /\\  /\\ \n",
      "/    \\/  \\/  \\\n",
      "[[[., .], .], [[., .], [[., .], .]]]\n",
      "[[[[], []], []], [[[], []], [[[], []], []]]]\n",
      "[3, 2, 2]\n",
      "\n",
      "  /\\      /\\  \n",
      " /  \\    /  \\ \n",
      "/    \\/\\/    \\\n",
      "[[[., .], .], [., [[[., .], .], .]]]\n",
      "[[[[], []], []], [[], [[[[], []], []], []]]]\n",
      "[3, 1, 3]\n",
      "\n",
      "  /\\          \n",
      " /  \\      /\\ \n",
      "/    \\/\\/\\/  \\\n",
      "[[[., .], .], [., [., [[., .], .]]]]\n",
      "[[[[], []], []], [[], [[], [[[], []], []]]]]\n",
      "[3, 1, 1, 2]\n",
      "\n",
      " /\\  /\\    /\\ \n",
      "/  \\/  \\/\\/  \\\n",
      "[[., .], [[., .], [., [[., .], .]]]]\n",
      "[[[], []], [[[], []], [[], [[[], []], []]]]]\n",
      "[2, 2, 1, 2]\n",
      "\n",
      " /\\    /\\  /\\ \n",
      "/  \\/\\/  \\/  \\\n",
      "[[., .], [., [[., .], [[., .], .]]]]\n",
      "[[[], []], [[], [[[], []], [[[], []], []]]]]\n",
      "[2, 1, 2, 2]\n",
      "\n",
      " /\\        /\\ \n",
      "/  \\/\\/\\/\\/  \\\n",
      "[[., .], [., [., [., [[., .], .]]]]]\n",
      "[[[], []], [[], [[], [[], [[[], []], []]]]]]\n",
      "[2, 1, 1, 1, 2]\n",
      "\n"
     ]
    }
   ],
   "source": [
    "C = A368279CompositionsInReverseOrder(7)\n",
    "for c in C: \n",
    "    dyck = dyckpath(c)\n",
    "    dyck.pretty_print(type=\"NE-SE\")\n",
    "    bit = dyck.to_binary_tree()\n",
    "    print(bit)\n",
    "    print(bit.as_ordered_tree())\n",
    "    print(c); print()"
   ]
  },
  {
   "cell_type": "markdown",
   "metadata": {},
   "source": [
    "The compact format: the bitstring of a A368279-composition in decimal representation."
   ]
  },
  {
   "cell_type": "code",
   "execution_count": 12,
   "metadata": {},
   "outputs": [],
   "source": [
    "def EncodeA368279Compositions(size):\n",
    "    total = []\n",
    "    for n in range(1, size):\n",
    "        stack = [] \n",
    "        for c in A368279Compositions(n): \n",
    "            bw = binword(Composition(c))\n",
    "            stack.append(int(str(bw), 2))\n",
    "        total.extend(reversed(stack)) \n",
    "    return total"
   ]
  },
  {
   "cell_type": "code",
   "execution_count": 13,
   "metadata": {},
   "outputs": [
    {
     "name": "stdout",
     "output_type": "stream",
     "text": [
      "[0, 2, 4, 8, 10, 16, 18, 22, 32, 34, 36, 38, 42, 46, 64, 66, 68, 70, 74, 76, 78, 86, 90, 94, 128, 130, 132, 134, 136, 138, 140, 142, 146, 148, 150, 154, 156, 158, 170, 174, 182, 186, 190, 256, 258, 260, 262, 264, 266, 268, 270, 274, 276, 278, 280, 282, 284, 286, 292, 294, 298, 300, 302, 306, 308, 310, 314, 316, 318, 342, 346, 350, 362, 366, 374, 378, 382]\n"
     ]
    }
   ],
   "source": [
    "EncodeA368279List = EncodeA368279Compositions(10)\n",
    "print(EncodeA368279List)"
   ]
  },
  {
   "cell_type": "markdown",
   "metadata": {},
   "source": [
    "This is now OEIS A369492."
   ]
  },
  {
   "cell_type": "code",
   "execution_count": 14,
   "metadata": {},
   "outputs": [
    {
     "name": "stdout",
     "output_type": "stream",
     "text": [
      "  0 | 0\n",
      "  2 | 10\n",
      "  4 | 100\n",
      "  8 | 1000\n",
      " 10 | 1010\n",
      " 16 | 10000\n",
      " 18 | 10010\n",
      " 22 | 10110\n",
      " 32 | 100000\n",
      " 34 | 100010\n",
      " 36 | 100100\n",
      " 38 | 100110\n",
      " 42 | 101010\n",
      " 46 | 101110\n",
      " 64 | 1000000\n",
      " 66 | 1000010\n",
      " 68 | 1000100\n",
      " 70 | 1000110\n",
      " 74 | 1001010\n",
      " 76 | 1001100\n",
      " 78 | 1001110\n",
      " 86 | 1010110\n",
      " 90 | 1011010\n",
      " 94 | 1011110\n",
      "128 | 10000000\n",
      "130 | 10000010\n",
      "132 | 10000100\n",
      "134 | 10000110\n",
      "136 | 10001000\n",
      "138 | 10001010\n",
      "140 | 10001100\n",
      "142 | 10001110\n",
      "146 | 10010010\n",
      "148 | 10010100\n",
      "150 | 10010110\n",
      "154 | 10011010\n",
      "156 | 10011100\n",
      "158 | 10011110\n",
      "170 | 10101010\n",
      "174 | 10101110\n",
      "182 | 10110110\n",
      "186 | 10111010\n",
      "190 | 10111110\n",
      "256 | 100000000\n",
      "258 | 100000010\n",
      "260 | 100000100\n",
      "262 | 100000110\n",
      "264 | 100001000\n",
      "266 | 100001010\n",
      "268 | 100001100\n",
      "270 | 100001110\n",
      "274 | 100010010\n",
      "276 | 100010100\n",
      "278 | 100010110\n",
      "280 | 100011000\n",
      "282 | 100011010\n",
      "284 | 100011100\n",
      "286 | 100011110\n",
      "292 | 100100100\n",
      "294 | 100100110\n",
      "298 | 100101010\n",
      "300 | 100101100\n",
      "302 | 100101110\n",
      "306 | 100110010\n",
      "308 | 100110100\n",
      "310 | 100110110\n",
      "314 | 100111010\n",
      "316 | 100111100\n",
      "318 | 100111110\n",
      "342 | 101010110\n",
      "346 | 101011010\n",
      "350 | 101011110\n",
      "362 | 101101010\n",
      "366 | 101101110\n",
      "374 | 101110110\n",
      "378 | 101111010\n",
      "382 | 101111110\n"
     ]
    }
   ],
   "source": [
    "for dec in EncodeA368279List:\n",
    "    print(f\"{dec:3d} | {dec:b}\")"
   ]
  },
  {
   "cell_type": "markdown",
   "metadata": {},
   "source": [
    "Note that this sequence can be written as a table with row n having length A368279(n) (for n >= 1). How the row length can be calculated is shown in the appendix. <br> \n",
    "   \n",
    "   0;<br>\n",
    "   2;<br>\n",
    "   4;<br>\n",
    "   8, 10;<br>\n",
    "  16, 18, 22;<br>\n",
    "  32, 34, 36, 38, 42, 46;<br>\n",
    "  64, 66, 68, 70, 74, 76, 78, 86, 90, 94;<br>\n",
    "  ...;"
   ]
  },
  {
   "cell_type": "markdown",
   "metadata": {},
   "source": [
    "<p style=\"color:brown; font-size:18px\">APPENDIX (Cardinality)</p>"
   ]
  },
  {
   "cell_type": "code",
   "execution_count": 15,
   "metadata": {},
   "outputs": [],
   "source": [
    "@cached_function\n",
    "def F(k, n): \n",
    "    return sum(F(k, n-j) for j in range(1, min(k, n))) if n > 1 else n\n",
    "def a(n): return sum(F(k+1, n+1-k) - F(k+1, n-k) for k in range(n+1))"
   ]
  },
  {
   "cell_type": "code",
   "execution_count": 16,
   "metadata": {},
   "outputs": [
    {
     "name": "stdout",
     "output_type": "stream",
     "text": [
      "[1, 0, 1, 1, 2, 3, 6, 10, 19, 34, 63, 116, 216]\n"
     ]
    }
   ],
   "source": [
    "print([a(n) for n in (0..12)])"
   ]
  },
  {
   "cell_type": "code",
   "execution_count": 17,
   "metadata": {},
   "outputs": [],
   "source": [
    "def C(n): \n",
    "    return sum(Compositions(n, max_part=k, inner=[k]).cardinality()\n",
    "           for k in (0..n))\n",
    "def a(n): return C(n) - C(n-1) if n > 1 else 1 - n"
   ]
  },
  {
   "cell_type": "code",
   "execution_count": 18,
   "metadata": {},
   "outputs": [
    {
     "name": "stdout",
     "output_type": "stream",
     "text": [
      "[1, 0, 1, 1, 2, 3, 6, 10, 19, 34, 63, 116, 216]\n"
     ]
    }
   ],
   "source": [
    "print([a(n) for n in (0..12)])"
   ]
  },
  {
   "cell_type": "markdown",
   "metadata": {},
   "source": [
    "Generating function for A368279.\n",
    "\n",
    "$$ (1 - x) \\sum_{j=0}^\\infty \\frac{x^j} {1 - \\sum_{k=1}^j x^k} $$"
   ]
  },
  {
   "cell_type": "code",
   "execution_count": 19,
   "metadata": {},
   "outputs": [],
   "source": [
    "def A368279List(prec):\n",
    "    P.<x> = PowerSeriesRing(QQ, prec)\n",
    "    return P((1 - x) * sum(x^j / (1 - sum(x^k for k in range(1, j+1))) \n",
    "                       for j in range(0, prec+2))).list()"
   ]
  },
  {
   "cell_type": "code",
   "execution_count": 20,
   "metadata": {},
   "outputs": [
    {
     "name": "stdout",
     "output_type": "stream",
     "text": [
      "[1, 0, 1, 1, 2, 3, 6, 10, 19, 34, 63, 116, 216]\n"
     ]
    }
   ],
   "source": [
    "print(A368279List(12))"
   ]
  },
  {
   "cell_type": "markdown",
   "metadata": {},
   "source": [
    "Finally, we remark that A079500 - A368279 = A007059 and that A368279 are the row sums of A368579."
   ]
  }
 ],
 "metadata": {
  "kernelspec": {
   "display_name": "SageMath 9.3",
   "language": "sage",
   "name": "sagemath"
  },
  "language_info": {
   "codemirror_mode": {
    "name": "ipython",
    "version": 3
   },
   "file_extension": ".py",
   "mimetype": "text/x-python",
   "name": "python",
   "nbconvert_exporter": "python",
   "pygments_lexer": "ipython3",
   "version": "3.7.10"
  }
 },
 "nbformat": 4,
 "nbformat_minor": 4
}
