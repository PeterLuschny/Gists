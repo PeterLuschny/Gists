{
 "cells": [
  {
   "cell_type": "markdown",
   "id": "a7008a5d",
   "metadata": {},
   "source": [
    "<h1 style=\"background: orange; color: #5E7AFF; text-align: center; line-height: 200%; letter-spacing: 1px; font-weight: bold;\">Möbius's Companion<br>\n",
    "<span style=\"font-size: smaller; font-weight: normal;line-height: 150%;\">Peter Luschny, April 2025</span></h1>"
   ]
  },
  {
   "cell_type": "code",
   "execution_count": null,
   "id": "25234a1b",
   "metadata": {},
   "outputs": [],
   "source": [
    "##############################################################################\n",
    "## This is a SageMath Jupyter notebook, written in Python 3.13 with Sage 10.5.\n",
    "\n",
    "from typing import Callable\n",
    "from sage.all import ZZ, valuation, matrix, srange, cached_function, moebius, simplify, exp, log, divisors, factor, prime_divisors, prime_range, is_prime, sigma, sqrt"
   ]
  },
  {
   "cell_type": "markdown",
   "id": "b6231021",
   "metadata": {},
   "source": [
    "<h1 style=\"color:#CD5C5C;background:white; line-height: 150%;\n",
    "border-top: thick solid #CD5C5C; float: left; width: 100%; margin-top: 1em;\">\n",
    "Introduction</h1>"
   ]
  },
  {
   "cell_type": "markdown",
   "id": "33bcc3ef",
   "metadata": {},
   "source": [
    "The basis of divisibility theory is given by the triangle A113704 and its inverse triangle, the Möbius triangle A363914, whose first column represents the Möbius function A008683. This theory considers divisibility without taking multiplicity of divisors into account.\n",
    "\n",
    "The theory that considers the multiplicity of divisors is based on the divisibility triangle A382944 and its inverse triangle A382881, whose first column is the analog of the Möbius function and is represented by sequence A382883.\n",
    "\n",
    "Just as the values of the Möbius function (0, 1, -1, not 0) lead to the decomposition (A013929, A030229, A030059, and A005117), the current sequence leads to the decomposition (A382943, A383016, A383017, and A383106).\n",
    "\n",
    "The summatory function of A382883 is A382942, which is the counterpart of Mertens's function A002321. A382940(n) = A382883(n)*n is the counterpart of A055615, and A382941 is the counterpart of the exponential von Mangoldt function A014963.\n",
    "\n",
    "Similar to the Möbius function, sequence A382883 can also be viewed as a transformation. Under this transformation, A000012 is mapped to A383104 and A000027 to A383124. The Dirichlet inverse of A382883 is A383210."
   ]
  },
  {
   "cell_type": "markdown",
   "id": "69a308a1",
   "metadata": {},
   "source": [
    "<h1 style=\"color:#CD5C5C;background:white; line-height: 150%;\n",
    "border-top: thick solid #CD5C5C; float: left; width: 100%; margin-top: 1em;\">\n",
    "Notation</h1>"
   ]
  },
  {
   "cell_type": "markdown",
   "id": "ecd48825",
   "metadata": {},
   "source": [
    "<p style=\"color:brown;font-size:large\">Note the following naming conventions:<br>\n",
    "\n",
    "µ is the name of the Möbius sequence (A008683). <br>\n",
    "ν is the name of the Möbius companion sequence (A382883).\n",
    "\n",
    "µ is the Greek small letter mu and ν is the Greek small letter nu.<br>\n",
    "We also use these Unicode characters as Python names and parts of Python names. \n",
    "\n",
    "ΣT is the sequence of row sums of the lower triangular matrix T. <br>\n",
    "Σa is the sequence of partial sums of the sequence a. "
   ]
  },
  {
   "cell_type": "markdown",
   "id": "1d93f2d0",
   "metadata": {},
   "source": [
    "Given the arithmetic function $ \\alpha $, we call the Dirichlet convolution $ \\alpha * g $ the $ \\alpha $-transform and write\n",
    "$$\n",
    "    \\alpha T : (g, n) \\mapsto \\sum_{d \\mid n} \\alpha(d) \\, g\\!\\left(\\frac{n}{d}\\right).\n",
    "$$\n",
    "Thus in particular µT is the Möbius transform and νT its companion transform."
   ]
  },
  {
   "cell_type": "markdown",
   "id": "00b8f6e1",
   "metadata": {},
   "source": [
    "| Name                                     |  OEIS                                     | Values   |\n",
    "| :-------------------------------         | :-----:                                   | :------  | \n",
    "| valuation(n, k)                          | [A382944](https://oeis.org/draft/A382944) | 1, 0, 1, 0, 1, 1, 0, 1, 0, 1, 0, 1, 2, 0, 1, 0, 1, 0 |\n",
    "| -Sum_{d\\|n, d<n} valuation(n, d)*T(d, k) | [A382881](https://oeis.org/draft/A382881) | 1, 0, 1, 0, -1, 1, 0, -1, 0, 1, 0, 1, -2, 0, 1, 0, -1 |\n",
    "| -Sum_{d\\|n, d<n} valuation(n, d)*ν(d)    | [A382883](https://oeis.org/draft/A382883) | 1, -1, -1, 1, -1, 1, -1, 1, 1, 1, -1, 0, -1, 1, 1, 0 |\n",
    "| -Sum_{d\\|n, d<n} ν(n/d)*a(d)             | [A383210](https://oeis.org/draft/A383210) | 1, 1, 1, 0, 1, 1, 1, -2, 0, 1, 1, -1, 1, 1, 1, -3, 1 |\n",
    "| Sum_{d\\|n} ν(n/d)                        | [A383104](https://oeis.org/draft/A383104) | 1, 0, 0, 1, 0, 0, 0, 2, 1, 0, 0, 1, 0, 0, 0, 2, 0, 1 |\n",
    "| Sum_{d\\|n} ν(n/d)*µ(d)                   | [A383123](https://oeis.org/draft/A383123) | 1, -2, -2, 2, -2, 4, -2, 0, 2, 4, -2, -3, -2, 4, 4  |\n",
    "| Sum_{d\\|n} ν(d)*(n/d)                    | [A383124](https://oeis.org/draft/A383124) | 1, 1, 2, 3, 4, 2, 6, 7, 7, 4, 10, 7, 12, 6, 8, 14 |\n",
    "| Exp(Sum_{d\\|n} ν(d)*log(n/d))            | [A382941](https://oeis.org/draft/A382941) | 1, 2, 3, 2, 5, 1, 7, 4, 3, 1, 11, 3, 13, 1, 1, 16, 17 |\n",
    "| Sum_{j=0..n} ν(j)                        | [A382942](https://oeis.org/draft/A382942) | 1, 0, -1, 0, -1, 0, -1, 0, 1, 2, 1, 1, 0, 1, 2, 2, 1 |\n",
    "| {k \\| ν(k) = 0}                          | [A382943](https://oeis.org/draft/A382943) | 12, 16, 18, 20, 24, 28, 40, 44, 45, 48, 50, 52, 54 |\n",
    "| {k \\| ν(k) != 0}                         | [A383106](https://oeis.org/draft/A383106) | 1, 2, 3, 4, 5, 6, 7, 8, 9, 10, 11, 13, 14, 15, 17, 19 |\n",
    "| {k \\| ν(k) = 1}                          | [A383016](https://oeis.org/draft/A383016) | 1, 4, 6, 8, 9, 10, 14, 15, 21, 22, 25, 26, 27, 32, 33 |\n",
    "| {k \\| ν(k) = -1}                         | [A383017](https://oeis.org/draft/A383017) | 2, 3, 5, 7, 11, 13, 17, 19, 23, 29, 30, 31, 36, 37, 41 |\n",
    "| {k \\| ν(k) != µ(k)}                      | [A383105](https://oeis.org/draft/A383105) | 4, 8, 9, 25, 27, 32, 36, 49, 64, 100, 121, 125, 128 |\n",
    "| {k \\| ν(k) = 1 and µ(k) = 0}             | [A383103](https://oeis.org/draft/A383103) | 4, 8, 9, 25, 27, 32, 49, 121, 125, 128, 169, 243, 289 |\n",
    "| {k \\| ν(k) = -1 and µ(k) = 0}            | [A383018](https://oeis.org/draft/A383018) | 36, 64, 100, 196, 216, 225, 441, 484, 676, 729, 1000 |\n",
    "| ν(n) * n                                 | [A382940](https://oeis.org/draft/A382940) | 1, -2, -3, 4, -5, 6, -7, 8, 9, 10, -11, 0, -13, 14, 15, 0 |\n",
    "| ν(n) * µ(n)                              | [A008966](https://oeis.org/A008966)       | 1, 1, 1, 0, 1, 1, 1, 0, 0, 1, 1, 0, 1, 1, 1, 0, 1, 0, 1 |\n",
    "| µ(n)                                     | [A008683](https://oeis.org/A008683)       | 1, -1, -1, 0, -1, 1, -1, 0, 0, 1, -1, 0, -1, 1, 1, 0, -1 |\n",
    "| The Moebius triangle                     | [A363914](https://oeis.org/A363914)       | 1, 0, 1, 0, -1, 1, 0, -1, 0, 1, 0, 0, -1, 0, 1, 0, -1, 0 |\n",
    "| The divisibility triangle                | [A113704](https://oeis.org/A113704)       | 1, 0, 1, 0, 1, 1, 0, 1, 0, 1, 0, 1, 1, 0, 1, 0, 1, 0, 0 |\n"
   ]
  },
  {
   "cell_type": "markdown",
   "id": "d3a24108",
   "metadata": {},
   "source": [
    "<h1 style=\"color:#CD5C5C;background:white; line-height: 150%;\n",
    "border-top: thick solid #CD5C5C; float: left; width: 100%; margin-top: 1em;\">\n",
    "Valuation</h1>"
   ]
  },
  {
   "cell_type": "markdown",
   "id": "7b1326d4",
   "metadata": {},
   "source": [
    "<p style=\"color:brown;font-size:large\">Valuation V(n, k) defined for n, k >= 0. For n, k >= 2 defined as the exponent of the highest power of k that divides n. Otherwise V(n, 0) = 0^n and V(n, 1) = 1. <i>Valuation</i> is also called the <i>p-adic order</i>. Outside the lower triangular matrix 0 <= k <= n all values are 0.</p>"
   ]
  },
  {
   "cell_type": "code",
   "execution_count": 2,
   "id": "98fe2870",
   "metadata": {},
   "outputs": [
    {
     "name": "stdout",
     "output_type": "stream",
     "text": [
      "[0] [1]\n",
      "[1] [0, 1]\n",
      "[2] [0, 1, 1]\n",
      "[3] [0, 1, 0, 1]\n",
      "[4] [0, 1, 2, 0, 1]\n",
      "[5] [0, 1, 0, 0, 0, 1]\n",
      "[6] [0, 1, 1, 1, 0, 0, 1]\n",
      "[7] [0, 1, 0, 0, 0, 0, 0, 1]\n",
      "[8] [0, 1, 3, 0, 1, 0, 0, 0, 1]\n",
      "[9] [0, 1, 0, 2, 0, 0, 0, 0, 0, 1]\n",
      "[10] [0, 1, 1, 0, 0, 1, 0, 0, 0, 0, 1]\n",
      "[11] [0, 1, 0, 0, 0, 0, 0, 0, 0, 0, 0, 1]\n",
      "[12] [0, 1, 2, 1, 1, 0, 1, 0, 0, 0, 0, 0, 1]\n"
     ]
    }
   ],
   "source": [
    "@cached_function\n",
    "def V(n: int, k: int) -> int:\n",
    "    if k  > n: return 0\n",
    "    if k == 0: return 0^n\n",
    "    if k == 1: return 1 \n",
    "    return valuation(n, k)\n",
    "\n",
    "for n in range(13):\n",
    "    print([n], [V(n, k) for k in srange(n + 1)])"
   ]
  },
  {
   "cell_type": "markdown",
   "id": "cfefd89e",
   "metadata": {},
   "source": [
    "<p style=\"color:brown;font-size:large\">In the OEIS you will find it at this A-number:</p>"
   ]
  },
  {
   "cell_type": "code",
   "execution_count": 3,
   "id": "4498af04",
   "metadata": {},
   "outputs": [
    {
     "name": "stdout",
     "output_type": "stream",
     "text": [
      "[1, 0, 1, 0, 1, 1, 0, 1, 0, 1, 0, 1, 2, 0, 1, 0, 1, 0, 0, 0, 1, 0, 1, 1, 1, 0, 0, 1, 0, 1, 0, 0, 0, 0, 0, 1]\n"
     ]
    }
   ],
   "source": [
    "A382944 = V\n",
    "print([A382944(n, k) for n in range(8) for k in srange(n+1)])"
   ]
  },
  {
   "cell_type": "markdown",
   "id": "da6f3772",
   "metadata": {},
   "source": [
    "<p style=\"color:brown;font-size:large\">The row sums are the number of divisors of n, counted with their multiplicity."
   ]
  },
  {
   "cell_type": "code",
   "execution_count": 4,
   "id": "e45f31b1",
   "metadata": {},
   "outputs": [
    {
     "name": "stdout",
     "output_type": "stream",
     "text": [
      "[1, 2, 2, 4, 2, 4, 2, 6, 4, 4, 2, 7, 2, 4, 4, 9, 2, 7, 2, 7, 4, 4, 2, 10, 4, 4, 6]\n"
     ]
    }
   ],
   "source": [
    "def ΣV(n: int) -> int:\n",
    "    return sum(V(n, k) for k in srange(n + 1))\n",
    "\n",
    "print([ΣV(n) for n in range(1, 28)])"
   ]
  },
  {
   "cell_type": "markdown",
   "id": "15b88f65",
   "metadata": {},
   "source": [
    "<p style=\"color:brown;font-size:large\">In the OEIS this function is registered as:</p>"
   ]
  },
  {
   "cell_type": "code",
   "execution_count": 5,
   "id": "c9265127",
   "metadata": {},
   "outputs": [],
   "source": [
    "A169594 = ΣV"
   ]
  },
  {
   "cell_type": "markdown",
   "id": "adeae3ec",
   "metadata": {},
   "source": [
    "<p style=\"color:brown;font-size:large\">The inverse triangle of V is defined recursively:"
   ]
  },
  {
   "cell_type": "code",
   "execution_count": 6,
   "id": "c366530f",
   "metadata": {},
   "outputs": [
    {
     "name": "stdout",
     "output_type": "stream",
     "text": [
      "[0] [1]\n",
      "[1] [0, 1]\n",
      "[2] [0, -1, 1]\n",
      "[3] [0, -1, 0, 1]\n",
      "[4] [0, 1, -2, 0, 1]\n",
      "[5] [0, -1, 0, 0, 0, 1]\n",
      "[6] [0, 1, -1, -1, 0, 0, 1]\n",
      "[7] [0, -1, 0, 0, 0, 0, 0, 1]\n",
      "[8] [0, 1, -1, 0, -1, 0, 0, 0, 1]\n",
      "[9] [0, 1, 0, -2, 0, 0, 0, 0, 0, 1]\n",
      "[10] [0, 1, -1, 0, 0, -1, 0, 0, 0, 0, 1]\n",
      "[11] [0, -1, 0, 0, 0, 0, 0, 0, 0, 0, 0, 1]\n",
      "[12] [0, 0, 1, 0, -1, 0, -1, 0, 0, 0, 0, 0, 1]\n"
     ]
    }
   ],
   "source": [
    "@cached_function\n",
    "def invV(n:int, k:int) -> int:\n",
    "    if n == k: return 1\n",
    "    if k == 0: return 0^n\n",
    "    return -sum(V(n, j)*invV(j, k) for j in range(1, n))\n",
    "\n",
    "for n in range(13):\n",
    "    print([n], [invV(n, k) for k in srange(n + 1)])"
   ]
  },
  {
   "cell_type": "markdown",
   "id": "88d451c0",
   "metadata": {},
   "source": [
    "<p style=\"color:brown;font-size:large\">Let's check that this is indeed the inverse of V: "
   ]
  },
  {
   "cell_type": "code",
   "execution_count": 7,
   "id": "57a6b2c0",
   "metadata": {},
   "outputs": [
    {
     "name": "stdout",
     "output_type": "stream",
     "text": [
      "[ 1  0  0  0  0  0  0  0  0  0  0  0  0]\n",
      "[ 0  1  0  0  0  0  0  0  0  0  0  0  0]\n",
      "[ 0 -1  1  0  0  0  0  0  0  0  0  0  0]\n",
      "[ 0 -1  0  1  0  0  0  0  0  0  0  0  0]\n",
      "[ 0  1 -2  0  1  0  0  0  0  0  0  0  0]\n",
      "[ 0 -1  0  0  0  1  0  0  0  0  0  0  0]\n",
      "[ 0  1 -1 -1  0  0  1  0  0  0  0  0  0]\n",
      "[ 0 -1  0  0  0  0  0  1  0  0  0  0  0]\n",
      "[ 0  1 -1  0 -1  0  0  0  1  0  0  0  0]\n",
      "[ 0  1  0 -2  0  0  0  0  0  1  0  0  0]\n",
      "[ 0  1 -1  0  0 -1  0  0  0  0  1  0  0]\n",
      "[ 0 -1  0  0  0  0  0  0  0  0  0  1  0]\n",
      "[ 0  0  1  0 -1  0 -1  0  0  0  0  0  1]\n"
     ]
    }
   ],
   "source": [
    "M = matrix(ZZ, 13, V).inverse()\n",
    "print(M)"
   ]
  },
  {
   "cell_type": "markdown",
   "id": "aad7917d",
   "metadata": {},
   "source": [
    "<p style=\"color:brown;font-size:large\">This is the A-number for the triangular array invV in the OEIS:"
   ]
  },
  {
   "cell_type": "code",
   "execution_count": 8,
   "id": "e53b578b",
   "metadata": {},
   "outputs": [
    {
     "name": "stdout",
     "output_type": "stream",
     "text": [
      "[1, 0, 1, 0, -1, 1, 0, -1, 0, 1, 0, 1, -2, 0, 1, 0, -1, 0, 0, 0, 1, 0, 1, -1, -1, 0, 0, 1, 0, -1, 0, 0, 0, 0, 0, 1]\n"
     ]
    }
   ],
   "source": [
    "A382881 = invV\n",
    "print([A382881(n, k) for n in range(8) for k in srange(n+1)])"
   ]
  },
  {
   "cell_type": "markdown",
   "id": "83ee72d9",
   "metadata": {},
   "source": [
    "<p style=\"color:brown;font-size:large\">The row sums give A000007 with offset 1, which is the identity function for Dirichlet multiplication."
   ]
  },
  {
   "cell_type": "code",
   "execution_count": 9,
   "id": "7f8935f4",
   "metadata": {},
   "outputs": [
    {
     "name": "stdout",
     "output_type": "stream",
     "text": [
      "[1, 0, 0, 0, 0, 0, 0, 0, 0, 0, 0, 0, 0, 0, 0, 0, 0, 0, 0]\n"
     ]
    }
   ],
   "source": [
    "def ΣVinv(n: int) -> int:\n",
    "    return sum(invV(n, k) for k in srange(n + 1))\n",
    "\n",
    "print([ΣVinv(n) for n in range(1, 20)])"
   ]
  },
  {
   "cell_type": "markdown",
   "id": "40c8170f",
   "metadata": {},
   "source": [
    "<h1 style=\"color:#CD5C5C;background:white; line-height: 150%;\n",
    "border-top: thick solid #CD5C5C; float: left; width: 100%; margin-top: 1em;\">\n",
    "Möbius's companion, called ν. </h1>"
   ]
  },
  {
   "cell_type": "markdown",
   "id": "c38ab15d",
   "metadata": {},
   "source": [
    "<p style=\"color:brown;font-size:large\">Möbius's companion is defined as column 1 of the inverse of the valuation triangle A382944. This is analog to the definition of the Möbius function as column 1 of the inverse of the divisibility triangle A113704."
   ]
  },
  {
   "cell_type": "code",
   "execution_count": 10,
   "id": "384e9bc1",
   "metadata": {},
   "outputs": [
    {
     "name": "stdout",
     "output_type": "stream",
     "text": [
      "[1, -1, -1, 1, -1, 1, -1, 1, 1, 1, -1, 0, -1, 1, 1, 0, -1, 0, -1, 0, 1, 1, -1, 0, 1, 1, 1, 0, -1]\n"
     ]
    }
   ],
   "source": [
    "@cached_function\n",
    "def _v(n: int) -> int:\n",
    "    if n < 2: return n\n",
    "    return -sum(V(n, j)*_v(j) for j in range(1, n))\n",
    "\n",
    "print([_v(n) for n in srange(1, 30)])"
   ]
  },
  {
   "cell_type": "markdown",
   "id": "713e3ee6",
   "metadata": {},
   "source": [
    "<p style=\"color:brown;font-size:large\">Slightly optimized by calling the valuation function directly this is:"
   ]
  },
  {
   "cell_type": "code",
   "execution_count": 11,
   "id": "f1f419d1",
   "metadata": {},
   "outputs": [
    {
     "name": "stdout",
     "output_type": "stream",
     "text": [
      "[1, -1, -1, 1, -1, 1, -1, 1, 1, 1, -1, 0, -1, 1, 1, 0, -1, 0, -1, 0, 1, 1, -1, 0, 1, 1, 1, 0, -1]\n"
     ]
    }
   ],
   "source": [
    "@cached_function\n",
    "def ν(n: int) -> int: \n",
    "    return (n if n < 2 else \n",
    "           -sum(1 if j == 1 \n",
    "                else 0 if ν(j) == 0 \n",
    "                else valuation(n, j)*ν(j) \n",
    "            for j in divisors(n)[:-1]))\n",
    "\n",
    "print([ν(n) for n in srange(1, 30)])"
   ]
  },
  {
   "cell_type": "markdown",
   "id": "6ab5ae17",
   "metadata": {},
   "source": [
    "<p style=\"color:brown;font-size:large\">This is how you find it in the OEIS catalog:"
   ]
  },
  {
   "cell_type": "code",
   "execution_count": 12,
   "id": "18c2e1de",
   "metadata": {},
   "outputs": [
    {
     "name": "stdout",
     "output_type": "stream",
     "text": [
      "[1, -1, -1, 1, -1, 1, -1, 1, 1, 1, -1, 0, -1, 1, 1, 0, -1, 0, -1, 0, 1, 1, -1, 0, 1, 1, 1, 0, -1]\n",
      "[1, -1, -1, 1, -1, 1, -1, 1, 1, 1, -1, 0, -1, 1, 1, 0, -1, 0, -1, 0, 1, 1, -1, 0, 1, 1, 1, 0, -1]\n"
     ]
    }
   ],
   "source": [
    "A382883 = ν\n",
    "print([A382883(n) for n in srange(1, 30)])\n",
    "print([A382881(n, 1) for n in srange(1, 30)])"
   ]
  },
  {
   "cell_type": "markdown",
   "id": "3046031c",
   "metadata": {},
   "source": [
    "<p style=\"color:brown;font-size:large\">The three fibers of ν."
   ]
  },
  {
   "cell_type": "code",
   "execution_count": 13,
   "id": "1606a347",
   "metadata": {},
   "outputs": [
    {
     "name": "stdout",
     "output_type": "stream",
     "text": [
      "[12, 16, 18, 20, 24, 28, 40, 44, 45, 48, 50, 52, 54, 56]\n",
      "[2, 3, 5, 7, 11, 13, 17, 19, 23, 29, 30, 31, 36, 37, 41, 42, 43, 47, 53, 59]\n",
      "[1, 4, 6, 8, 9, 10, 14, 15, 21, 22, 25, 26, 27, 32, 33, 34, 35, 38, 39, 46, 49, 51, 55, 57, 58]\n"
     ]
    }
   ],
   "source": [
    "def A382943List(upto) -> list[int]: \n",
    "    return [n for n in srange(1, upto) if ν(n) == 0]\n",
    "\n",
    "def A383017List(upto) -> list[int]: \n",
    "    return [n for n in srange(1, upto) if ν(n) == -1]\n",
    "\n",
    "def A383016List(upto) -> list[int]: \n",
    "    return [n for n in srange(1, upto) if ν(n) == 1]\n",
    "\n",
    "print(A382943List(60))\n",
    "print(A383017List(60))\n",
    "print(A383016List(60))"
   ]
  },
  {
   "cell_type": "markdown",
   "id": "e1477650",
   "metadata": {},
   "source": [
    "<p style=\"color:brown;font-size:large\">... and, for convenience, also the case v(n) != 0:"
   ]
  },
  {
   "cell_type": "code",
   "execution_count": 14,
   "id": "0ec13cf5",
   "metadata": {},
   "outputs": [
    {
     "name": "stdout",
     "output_type": "stream",
     "text": [
      "[1, 2, 3, 4, 5, 6, 7, 8, 9, 10, 11, 13, 14, 15, 17, 19, 21, 22, 23, 25, 26, 27, 29]\n"
     ]
    }
   ],
   "source": [
    "def A383106List(upto) -> list[int]: \n",
    "    return [n for n in srange(1, upto) if ν(n) != 0]\n",
    "\n",
    "print(A383106List(30))"
   ]
  },
  {
   "cell_type": "markdown",
   "id": "ff1432ba",
   "metadata": {},
   "source": [
    "<p style=\"color:brown;font-size:large\">The Möbius function, called µ:"
   ]
  },
  {
   "cell_type": "code",
   "execution_count": 15,
   "id": "b16209b4",
   "metadata": {},
   "outputs": [],
   "source": [
    "µ = moebius"
   ]
  },
  {
   "cell_type": "markdown",
   "id": "2bbe6325",
   "metadata": {},
   "source": [
    "<p style=\"color:brown;font-size:large\">Its name in the OEIS is:"
   ]
  },
  {
   "cell_type": "code",
   "execution_count": 16,
   "id": "72a2697e",
   "metadata": {},
   "outputs": [
    {
     "name": "stdout",
     "output_type": "stream",
     "text": [
      "[1, -1, -1, 0, -1, 1, -1, 0, 0, 1, -1, 0, -1, 1, 1, 0, -1, 0, -1, 0, 1, 1, -1, 0, 0, 1, 0, 0, -1]\n"
     ]
    }
   ],
   "source": [
    "A008683 = µ\n",
    "print([A008683(n) for n in range(1, 30)])"
   ]
  },
  {
   "cell_type": "markdown",
   "id": "601cd5ef",
   "metadata": {},
   "source": [
    "<p style=\"color:brown;font-size:large\">Dirichlet inverse of positive integers:"
   ]
  },
  {
   "cell_type": "code",
   "execution_count": 17,
   "id": "d347febd",
   "metadata": {},
   "outputs": [
    {
     "name": "stdout",
     "output_type": "stream",
     "text": [
      "[1, -2, -3, 4, -5, 6, -7, 8, 9, 10, -11, 0, -13, 14, 15, 0, -17, 0, -19, 0, 21, 22, -23, 0, 25, 26, 27, 0, -29]\n",
      "[1, -2, -3, 0, -5, 6, -7, 0, 0, 10, -11, 0, -13, 14, 15, 0, -17, 0, -19, 0, 21, 22, -23, 0, 0, 26, 0, 0, -29]\n"
     ]
    }
   ],
   "source": [
    "def A382940(n:int) -> int: \n",
    "    return ν(n) * n\n",
    "\n",
    "def A055615(n:int) -> int: \n",
    "    return µ(n) * n\n",
    "\n",
    "print([A382940(n) for n in srange(1, 30)])\n",
    "print([A055615(n) for n in srange(1, 30)])"
   ]
  },
  {
   "cell_type": "markdown",
   "id": "ff9ddf6c",
   "metadata": {},
   "source": [
    "<p style=\"color:brown;font-size:large\">Family similarities and differences between the Möbius function and his companion are captured in A383105, A383103, and A383018."
   ]
  },
  {
   "cell_type": "code",
   "execution_count": 18,
   "id": "c3813032",
   "metadata": {},
   "outputs": [
    {
     "name": "stdout",
     "output_type": "stream",
     "text": [
      "[4, 8, 9, 25, 27, 32, 36, 49, 64, 100, 121, 125, 128, 169, 196, 216, 225, 243, 289, 343, 361]\n",
      "[4, 8, 9, 25, 27, 32, 49, 121, 125, 128, 169, 243, 289, 343, 361]\n",
      "[36, 64, 100, 196, 216, 225]\n"
     ]
    }
   ],
   "source": [
    "print([n for n in range(1, 362) if µ(n) != ν(n)])             # A383105\n",
    "print([n for n in range(1, 362) if µ(n) == 0 and ν(n) == 1])  # A383103\n",
    "print([n for n in range(1, 362) if µ(n) == 0 and ν(n) == -1]) # A383018"
   ]
  },
  {
   "cell_type": "markdown",
   "id": "ab3cfa8b",
   "metadata": {},
   "source": [
    "<p style=\"color:brown;font-size:large\">Note that ν(n) = 0 implies µ(n) = 0. In other words, if ν(n) = 0 then n is divisible by the square of a prime.<br><br>\n",
    "ν(n) = 0  <=> n is A059404 or n is A217261.<br>\n",
    "A059404 Numbers with different exponents in their prime factorizations.<br>\n",
    "A217261 Numbers of the form i^j^k, for i, j, k > 1."
   ]
  },
  {
   "cell_type": "code",
   "execution_count": 19,
   "id": "aacf2e55",
   "metadata": {},
   "outputs": [
    {
     "data": {
      "text/plain": [
       "{0}"
      ]
     },
     "execution_count": 19,
     "metadata": {},
     "output_type": "execute_result"
    }
   ],
   "source": [
    "# This is a test that v(n) = 0 implies µ(n) = 0.\n",
    "\n",
    "A = [n for n in range(1, 4362) if ν(n) == 0]\n",
    "set([µ(n) for n in A])"
   ]
  },
  {
   "cell_type": "code",
   "execution_count": 20,
   "id": "2bf786d1",
   "metadata": {},
   "outputs": [
    {
     "data": {
      "text/plain": [
       "{0}"
      ]
     },
     "execution_count": 20,
     "metadata": {},
     "output_type": "execute_result"
    }
   ],
   "source": [
    "# This is a test that v vanishes on A059404.\n",
    "\n",
    "def isA059404(n) -> bool: \n",
    "    return 1 < len(set(valuation(n, p) for p in prime_divisors(n)))\n",
    "A = [n for n in range(1, 190) if isA059404(n)]\n",
    "\n",
    "set([ν(n) for n in A])"
   ]
  },
  {
   "cell_type": "code",
   "execution_count": 21,
   "id": "3b51f9a7",
   "metadata": {},
   "outputs": [
    {
     "data": {
      "text/plain": [
       "{0}"
      ]
     },
     "execution_count": 21,
     "metadata": {},
     "output_type": "execute_result"
    }
   ],
   "source": [
    "# Data from A217261. The implementation of v is not efficient enough to compute large terms.\n",
    "\n",
    "A = [16, 81, 256, 512, 625, 1296, 2401, 4096]\n",
    "B = [16, 81, 256, 512, 625, 1296, 2401, 4096, 6561, 10000, 14641, 19683, 20736] \n",
    "\n",
    "set([ν(n) for n in A])\n",
    "# for n in B: print(n, factor(n), µ(n), is_square(n))"
   ]
  },
  {
   "cell_type": "markdown",
   "id": "738da6b3",
   "metadata": {},
   "source": [
    "<p style=\"color:brown;font-size:large\">Note that ν(n) = -1 implies n is not in A053810. In other words, if ν(n) = -1 then n does not have the form p^e where both p and e are prime numbers; thus in particular n is not a prime number.<br>"
   ]
  },
  {
   "cell_type": "code",
   "execution_count": 22,
   "id": "7bf3ce93",
   "metadata": {},
   "outputs": [
    {
     "data": {
      "text/plain": [
       "{False}"
      ]
     },
     "execution_count": 22,
     "metadata": {},
     "output_type": "execute_result"
    }
   ],
   "source": [
    "# Test that v(n) == -1 implies n is not in A053810. \n",
    "\n",
    "def isA053810(n: int) -> bool:\n",
    "    p = prime_divisors(n)\n",
    "    return len(p) == 1 and is_prime(valuation(n, p[0]))\n",
    "\n",
    "A = [n for n in range(1, 2000) if ν(n) == -1]\n",
    "set([isA053810(n) for n in A])"
   ]
  },
  {
   "cell_type": "markdown",
   "id": "4aebb062",
   "metadata": {},
   "source": [
    "<p style=\"color:brown;font-size:large\">Illustrating the different indicator functions:"
   ]
  },
  {
   "cell_type": "code",
   "execution_count": 23,
   "id": "e69361d5",
   "metadata": {},
   "outputs": [
    {
     "name": "stdout",
     "output_type": "stream",
     "text": [
      "  1 |  1 |  1 |  0 | 1           \n",
      "  2 | -1 | -1 |  0 | 2           \n",
      "  3 | -1 | -1 |  0 | 3           \n",
      "  4 |  1 |  0 |  1 | 2^2         \n",
      "  5 | -1 | -1 |  0 | 5           \n",
      "  6 |  1 |  1 |  0 | 2 * 3       \n",
      "  7 | -1 | -1 |  0 | 7           \n",
      "  8 |  1 |  0 |  1 | 2^3         \n",
      "  9 |  1 |  0 |  1 | 3^2         \n",
      " 10 |  1 |  1 |  0 | 2 * 5       \n",
      " 11 | -1 | -1 |  0 | 11          \n",
      " 12 |  0 |  0 |  0 | 2^2 * 3     \n",
      " 13 | -1 | -1 |  0 | 13          \n",
      " 14 |  1 |  1 |  0 | 2 * 7       \n",
      " 15 |  1 |  1 |  0 | 3 * 5       \n",
      " 16 |  0 |  0 |  0 | 2^4         \n",
      " 17 | -1 | -1 |  0 | 17          \n",
      " 18 |  0 |  0 |  0 | 2 * 3^2     \n",
      " 19 | -1 | -1 |  0 | 19          \n",
      " 20 |  0 |  0 |  0 | 2^2 * 5     \n",
      " 21 |  1 |  1 |  0 | 3 * 7       \n",
      " 22 |  1 |  1 |  0 | 2 * 11      \n",
      " 23 | -1 | -1 |  0 | 23          \n",
      " 24 |  0 |  0 |  0 | 2^3 * 3     \n",
      " 25 |  1 |  0 |  1 | 5^2         \n",
      " 26 |  1 |  1 |  0 | 2 * 13      \n",
      " 27 |  1 |  0 |  1 | 3^3         \n",
      " 28 |  0 |  0 |  0 | 2^2 * 7     \n",
      " 29 | -1 | -1 |  0 | 29          \n",
      " 30 | -1 | -1 |  0 | 2 * 3 * 5   \n",
      " 31 | -1 | -1 |  0 | 31          \n",
      " 32 |  1 |  0 |  1 | 2^5         \n",
      " 33 |  1 |  1 |  0 | 3 * 11      \n",
      " 34 |  1 |  1 |  0 | 2 * 17      \n",
      " 35 |  1 |  1 |  0 | 5 * 7       \n",
      " 36 | -1 |  0 |  0 | 2^2 * 3^2   \n",
      " 37 | -1 | -1 |  0 | 37          \n",
      " 38 |  1 |  1 |  0 | 2 * 19      \n",
      " 39 |  1 |  1 |  0 | 3 * 13      \n"
     ]
    }
   ],
   "source": [
    "for n in range(1, 40):\n",
    "    vn = ν(n); m = moebius(n); \n",
    "    pp = int(isA053810(n)); f = factor(n)\n",
    "    print(f\"{n:>3} | {vn:>2} | {m:>2} | {pp:>2} | {str(f):<12}\") "
   ]
  },
  {
   "cell_type": "code",
   "execution_count": 24,
   "id": "9fd95836",
   "metadata": {},
   "outputs": [],
   "source": [
    "# And there are more things to study ...\n",
    "# A162143 or A074853 ?"
   ]
  },
  {
   "cell_type": "markdown",
   "id": "726da70a",
   "metadata": {},
   "source": [
    "<p style=\"color:brown;font-size:large\">The summatory function of ν ..."
   ]
  },
  {
   "cell_type": "code",
   "execution_count": 25,
   "id": "688ef7a9",
   "metadata": {},
   "outputs": [
    {
     "name": "stdout",
     "output_type": "stream",
     "text": [
      "[1, 0, -1, 0, -1, 0, -1, 0, 1, 2, 1, 1, 0, 1, 2, 2, 1, 1, 0, 0, 1, 2, 1, 1, 2, 3, 4, 4, 3]\n"
     ]
    }
   ],
   "source": [
    "def Σν(n: int) -> int:\n",
    "    return sum(ν(k) for k in range(n+1))\n",
    "\n",
    "print([Σν(n) for n in range(1, 30)])"
   ]
  },
  {
   "cell_type": "markdown",
   "id": "d271a4d9",
   "metadata": {},
   "source": [
    "<p style=\"color:brown;font-size:large\"> ... and its ID in the OEIS:"
   ]
  },
  {
   "cell_type": "code",
   "execution_count": 26,
   "id": "e31c3682",
   "metadata": {},
   "outputs": [
    {
     "name": "stdout",
     "output_type": "stream",
     "text": [
      "[1, 0, -1, 0, -1, 0, -1, 0, 1, 2, 1, 1, 0, 1, 2, 2, 1, 1, 0, 0, 1, 2, 1, 1, 2, 3, 4, 4, 3]\n"
     ]
    }
   ],
   "source": [
    "A382942 = Σν\n",
    "print([A382942(n) for n in range(1, 30)])"
   ]
  },
  {
   "cell_type": "markdown",
   "id": "2d9ea63e",
   "metadata": {},
   "source": [
    "<p style=\"color:brown;font-size:large\">The von Mangoldt brothers join the Moebius party:"
   ]
  },
  {
   "cell_type": "code",
   "execution_count": 27,
   "id": "bccf3bf0",
   "metadata": {},
   "outputs": [],
   "source": [
    "def νMangoldt(n: int) -> int:\n",
    "    return simplify(exp(sum(ν(d)*log(n//d) for d in divisors(n))))\n",
    "\n",
    "def µMangoldt(n: int) -> int:\n",
    "    return simplify(exp(sum(µ(d)*log(n//d) for d in divisors(n))))"
   ]
  },
  {
   "cell_type": "code",
   "execution_count": 28,
   "id": "4155b40a",
   "metadata": {},
   "outputs": [
    {
     "name": "stdout",
     "output_type": "stream",
     "text": [
      "[1, 2, 3, 2, 5, 1, 7, 4, 3, 1, 11, 3, 13, 1, 1, 16, 17, 2, 19, 5, 1, 1, 23, 18, 5, 1, 9, 7, 29]\n",
      "[1, 2, 3, 2, 5, 1, 7, 2, 3, 1, 11, 1, 13, 1, 1, 2, 17, 1, 19, 1, 1, 1, 23, 1, 5, 1, 3, 1, 29]\n"
     ]
    }
   ],
   "source": [
    "print([νMangoldt(n) for n in srange(1, 30)])    # A014963\n",
    "print([µMangoldt(n) for n in srange(1, 30)])    # A382941"
   ]
  },
  {
   "cell_type": "markdown",
   "id": "913cb9f2",
   "metadata": {},
   "source": [
    "<p style=\"color:brown;font-size:large\">On OEIS use the names:"
   ]
  },
  {
   "cell_type": "code",
   "execution_count": 29,
   "id": "b5702832",
   "metadata": {},
   "outputs": [],
   "source": [
    "A382941 = νMangoldt\n",
    "A014963 = µMangoldt"
   ]
  },
  {
   "cell_type": "markdown",
   "id": "259b22b7",
   "metadata": {},
   "source": [
    "<p style=\"color:brown;font-size:large\">Summatory functions:"
   ]
  },
  {
   "cell_type": "code",
   "execution_count": 30,
   "id": "783447a5",
   "metadata": {},
   "outputs": [],
   "source": [
    "from itertools import accumulate\n",
    "\n",
    "def ΣνMangoldt(len: int) -> list[int]:\n",
    "    return list(accumulate([νMangoldt(n) for n in srange(1, len)]))\n",
    "\n",
    "def ΣµMangoldt(len: int) -> list[int]:\n",
    "    return list(accumulate([µMangoldt(n) for n in srange(1, len)]))"
   ]
  },
  {
   "cell_type": "code",
   "execution_count": 31,
   "id": "49d2569f",
   "metadata": {},
   "outputs": [
    {
     "name": "stdout",
     "output_type": "stream",
     "text": [
      "[1, 3, 6, 8, 13, 14, 21, 25, 28, 29, 40, 43, 56, 57, 58, 74, 91, 93, 112, 117, 118]\n",
      "[1, 3, 6, 8, 13, 14, 21, 23, 26, 27, 38, 39, 52, 53, 54, 56, 73, 74, 93, 94, 95]\n"
     ]
    }
   ],
   "source": [
    "print(ΣνMangoldt(22))\n",
    "print(ΣµMangoldt(22))"
   ]
  },
  {
   "cell_type": "markdown",
   "id": "a3540390",
   "metadata": {},
   "source": [
    "<p style=\"color:brown;font-size:large\">On OEIS you see this:"
   ]
  },
  {
   "cell_type": "code",
   "execution_count": 32,
   "id": "0c8248f1",
   "metadata": {},
   "outputs": [],
   "source": [
    "missing = ΣνMangoldt\n",
    "A072107 = ΣµMangoldt"
   ]
  },
  {
   "cell_type": "markdown",
   "id": "b478a811",
   "metadata": {},
   "source": [
    "<h1 style=\"color:#CD5C5C;background:white; line-height: 150%;\n",
    "border-top: thick solid #CD5C5C; float: left; width: 100%; margin-top: 1em;\">\n",
    "Transforms à la Dirichlet</h1>"
   ]
  },
  {
   "cell_type": "code",
   "execution_count": 33,
   "id": "16603542",
   "metadata": {},
   "outputs": [],
   "source": [
    "def vT(b, n) -> int:\n",
    "    return sum(ν(n//d)*b(d) for d in divisors(n))\n",
    "\n",
    "def µT(b, n) -> int:\n",
    "    return sum(µ(n//d)*b(d) for d in divisors(n))"
   ]
  },
  {
   "cell_type": "markdown",
   "id": "ec7920b2",
   "metadata": {},
   "source": [
    "<p style=\"color:brown;font-size:large\">Three classical examples for the transforms:\n",
    "\n",
    "* b: x -> 1 <br>\n",
    "* b: x -> x <br>\n",
    "* b: x -> 1 if x = 1 else 0"
   ]
  },
  {
   "cell_type": "code",
   "execution_count": 34,
   "id": "106dc3bf",
   "metadata": {},
   "outputs": [
    {
     "name": "stdout",
     "output_type": "stream",
     "text": [
      "[1, 0, 0, 1, 0, 0, 0, 2, 1, 0, 0, 1, 0, 0, 0, 2, 0, 1, 0, 1, 0, 0, 0, 2, 1, 0, 2, 1, 0]\n",
      "[1, 0, 0, 0, 0, 0, 0, 0, 0, 0, 0, 0, 0, 0, 0, 0, 0, 0, 0, 0, 0, 0, 0, 0, 0, 0, 0, 0, 0]\n"
     ]
    }
   ],
   "source": [
    "b = lambda x: 1\n",
    "\n",
    "print([vT(b, n) for n in srange(1, 30)])\n",
    "print([µT(b, n) for n in srange(1, 30)])"
   ]
  },
  {
   "cell_type": "markdown",
   "id": "34623a2b",
   "metadata": {},
   "source": [
    "<p style=\"color:brown;font-size:large\">On the OEIS you see this: A383104, similar to A366988; apparently with the same indicator function for n > 1."
   ]
  },
  {
   "cell_type": "code",
   "execution_count": 35,
   "id": "fb58e6ad",
   "metadata": {},
   "outputs": [
    {
     "name": "stdout",
     "output_type": "stream",
     "text": [
      "[1, 1, 2, 3, 4, 2, 6, 7, 7, 4, 10, 7, 12, 6, 8, 14, 16, 8, 18, 13, 12, 10, 22, 17, 21, 12, 22, 19, 28]\n",
      "[1, 1, 2, 2, 4, 2, 6, 4, 6, 4, 10, 4, 12, 6, 8, 8, 16, 6, 18, 8, 12, 10, 22, 8, 20, 12, 18, 12, 28]\n"
     ]
    }
   ],
   "source": [
    "b = lambda x: x\n",
    "\n",
    "print([vT(b, n) for n in srange(1, 30)])\n",
    "print([µT(b, n) for n in srange(1, 30)])"
   ]
  },
  {
   "cell_type": "markdown",
   "id": "c02e3932",
   "metadata": {},
   "source": [
    "<p style=\"color:brown;font-size:large\">This is A383124 in the case ν and Euler's totient function A000010 in the case µ."
   ]
  },
  {
   "cell_type": "code",
   "execution_count": 36,
   "id": "7c3b1888",
   "metadata": {},
   "outputs": [
    {
     "name": "stdout",
     "output_type": "stream",
     "text": [
      "[1, -1, -1, 1, -1, 1, -1, 1, 1, 1, -1, 0, -1, 1, 1, 0, -1, 0, -1, 0, 1, 1, -1, 0, 1, 1, 1, 0, -1]\n",
      "[1, -1, -1, 0, -1, 1, -1, 0, 0, 1, -1, 0, -1, 1, 1, 0, -1, 0, -1, 0, 1, 1, -1, 0, 0, 1, 0, 0, -1]\n"
     ]
    }
   ],
   "source": [
    "b = lambda x: 1 if x == 1 else 0\n",
    "\n",
    "print([vT(b, n) for n in srange(1, 30)])\n",
    "print([µT(b, n) for n in srange(1, 30)])"
   ]
  },
  {
   "cell_type": "markdown",
   "id": "d2d67019",
   "metadata": {},
   "source": [
    "<p style=\"color:brown;font-size:large\">The first sequence is missing in OEIS and the second is µ A008683."
   ]
  },
  {
   "cell_type": "markdown",
   "id": "9f22f486",
   "metadata": {},
   "source": [
    "<p style=\"color:brown;font-size:large\">Implemented as sequence-to-sequence transformations:"
   ]
  },
  {
   "cell_type": "code",
   "execution_count": 37,
   "id": "a0de0885",
   "metadata": {},
   "outputs": [],
   "source": [
    "def νT(b: Callable[[int], int]) -> Callable[[int], int]:\n",
    "    def νb(n: int) -> int:\n",
    "        return sum(ν(n//d)*b(d) for d in divisors(n))\n",
    "    return νb"
   ]
  },
  {
   "cell_type": "code",
   "execution_count": 38,
   "id": "bac3f452",
   "metadata": {},
   "outputs": [
    {
     "name": "stdout",
     "output_type": "stream",
     "text": [
      "[1, 0, 0, 1, 0, 0, 0, 2, 1, 0, 0, 1, 0, 0, 0, 2, 0, 1, 0, 1, 0, 0, 0, 2, 1, 0, 2, 1, 0]\n",
      "[1, 1, 2, 3, 4, 2, 6, 7, 7, 4, 10, 7, 12, 6, 8, 14, 16, 8, 18, 13, 12, 10, 22, 17, 21, 12, 22, 19, 28]\n",
      "[1, -1, -1, 1, -1, 1, -1, 1, 1, 1, -1, 0, -1, 1, 1, 0, -1, 0, -1, 0, 1, 1, -1, 0, 1, 1, 1, 0, -1]\n"
     ]
    }
   ],
   "source": [
    "ν1 = νT(lambda _: 1); \n",
    "νX = νT(lambda x: x); \n",
    "νI = νT(lambda x: 1 if x == 1 else 0)\n",
    "\n",
    "print([ν1(n) for n in range(1, 30)])\n",
    "print([νX(n) for n in range(1, 30)])\n",
    "print([νI(n) for n in range(1, 30)])"
   ]
  },
  {
   "cell_type": "code",
   "execution_count": 39,
   "id": "c5b05db9",
   "metadata": {},
   "outputs": [],
   "source": [
    "def µT(b: Callable[[int], int]) -> Callable[[int], int]:\n",
    "    def µb(n: int) -> int:\n",
    "        return sum(µ(n//d)*b(d) for d in divisors(n))\n",
    "    return µb"
   ]
  },
  {
   "cell_type": "code",
   "execution_count": 40,
   "id": "e63ea671",
   "metadata": {},
   "outputs": [
    {
     "name": "stdout",
     "output_type": "stream",
     "text": [
      "[1, 0, 0, 0, 0, 0, 0, 0, 0, 0, 0, 0, 0, 0, 0, 0, 0, 0, 0, 0, 0, 0, 0, 0, 0, 0, 0, 0, 0]\n",
      "[1, 1, 2, 2, 4, 2, 6, 4, 6, 4, 10, 4, 12, 6, 8, 8, 16, 6, 18, 8, 12, 10, 22, 8, 20, 12, 18, 12, 28]\n",
      "[1, -1, -1, 0, -1, 1, -1, 0, 0, 1, -1, 0, -1, 1, 1, 0, -1, 0, -1, 0, 1, 1, -1, 0, 0, 1, 0, 0, -1]\n"
     ]
    }
   ],
   "source": [
    "µ1 = µT(lambda _: 1); \n",
    "µX = µT(lambda x: x); \n",
    "µI = µT(lambda x: 1 if x == 1 else 0)\n",
    "\n",
    "print([µ1(n) for n in range(1, 30)])\n",
    "print([µX(n) for n in range(1, 30)])\n",
    "print([µI(n) for n in range(1, 30)])"
   ]
  },
  {
   "cell_type": "markdown",
   "id": "abd1da9c",
   "metadata": {},
   "source": [
    "<p style=\"color:brown;font-size:large;\">Let's check a special case:</p>"
   ]
  },
  {
   "cell_type": "code",
   "execution_count": 41,
   "id": "54cf0f5d",
   "metadata": {},
   "outputs": [
    {
     "name": "stdout",
     "output_type": "stream",
     "text": [
      "[1, -2, -2, 2, -2, 4, -2, 0, 2, 4, -2, -3, -2, 4, 4, -1, -2, -3, -2, -3, 4, 4, -2, 0, 2, 4, 0, -3, -2]\n",
      "[1, -2, -2, 2, -2, 4, -2, 0, 2, 4, -2, -3, -2, 4, 4, -1, -2, -3, -2, -3, 4, 4, -2, 0, 2, 4, 0, -3, -2]\n"
     ]
    }
   ],
   "source": [
    "νµ = νT(µ)\n",
    "µν = µT(ν)\n",
    "\n",
    "print([νµ(n) for n in range(1, 30)]) \n",
    "print([µν(n) for n in range(1, 30)]) "
   ]
  },
  {
   "cell_type": "markdown",
   "id": "02a4fb5f",
   "metadata": {},
   "source": [
    "<p style=\"color:brown;font-size:large;\">This is not surprising as the Dirichlet convolution is commutative but we are pleased that it also applies in our case (since we found on two different paths).\n",
    "\n",
    "$$\n",
    "     \\nu * \\mu = \\mu * \\nu  \n",
    "$$\n",
    "\n",
    "$$\n",
    "νT(µ) = µT(ν)\n",
    "$$\n",
    "\n",
    "$$\n",
    "    \\sum_{d \\mid n} \\nu(d) \\, \\mu\\!\\left(\\frac{n}{d}\\right) =\n",
    "    \\sum_{d \\mid n} \\mu(d) \\, \\nu\\!\\left(\\frac{n}{d}\\right)\n",
    "$$"
   ]
  },
  {
   "cell_type": "markdown",
   "id": "b0c5c4b3",
   "metadata": {},
   "source": [
    "<p style=\"color:brown;font-size:large\">In OEIS it has the form A383123:"
   ]
  },
  {
   "cell_type": "code",
   "execution_count": 42,
   "id": "e32797ee",
   "metadata": {},
   "outputs": [
    {
     "name": "stdout",
     "output_type": "stream",
     "text": [
      "[1, -2, -2, 2, -2, 4, -2, 0, 2, 4, -2, -3, -2, 4, 4, -1, -2, -3, -2, -3, 4, 4, -2, 0, 2, 4, 0, -3, -2]\n"
     ]
    }
   ],
   "source": [
    "@cached_function\n",
    "def A382883(n: int) -> int: \n",
    "    return n if n < 2 else -sum((1 if j == 1 else valuation(n, j))*A382883(j) \n",
    "                            for j in divisors(n)[:-1])\n",
    "\n",
    "def vT(b: Callable[[int], int]) -> Callable[[int], int]:\n",
    "    @cached_function\n",
    "    def vb(n: int) -> int:\n",
    "        return sum(A382883(n//d)*b(d) for d in divisors(n))\n",
    "    return vb\n",
    "\n",
    "A383123 = vT(moebius)\n",
    "print([A383123(n) for n in range(1, 30)])"
   ]
  },
  {
   "cell_type": "markdown",
   "id": "780c802a",
   "metadata": {},
   "source": [
    "<p style=\"color:brown;font-size:large\">We could iterate:"
   ]
  },
  {
   "cell_type": "code",
   "execution_count": 43,
   "id": "8262a127",
   "metadata": {},
   "outputs": [
    {
     "name": "stdout",
     "output_type": "stream",
     "text": [
      "[1, -3, -3, 5, -3, 9, -3, -3, 5, 9, -3, -13, -3, 9, 9, -1, -3, -13, -3, -13, 9, 9, -3, 7, 5, 9, -3, -13, -3]\n",
      "[1, -3, -3, 3, -3, 9, -3, -1, 3, 9, -3, -9, -3, 9, 9, 0, -3, -9, -3, -9, 9, 9, -3, 3, 3, 9, -1, -9, -3]\n"
     ]
    }
   ],
   "source": [
    "A = vT(vT(moebius))\n",
    "print([A(n) for n in range(1, 30)])\n",
    "\n",
    "B = µT(µT(moebius))\n",
    "print([B(n) for n in range(1, 30)])"
   ]
  },
  {
   "cell_type": "code",
   "execution_count": 44,
   "id": "8ab4fccf",
   "metadata": {},
   "outputs": [
    {
     "name": "stdout",
     "output_type": "stream",
     "text": [
      "[1, -3, -3, 4, -3, 9, -3, -2, 4, 9, -3, -11, -3, 9, 9, -1, -3, -11, -3, -11, 9, 9, -3, 5, 4, 9, -2, -11, -3]\n",
      "[1, -3, -3, 4, -3, 9, -3, -2, 4, 9, -3, -11, -3, 9, 9, -1, -3, -11, -3, -11, 9, 9, -3, 5, 4, 9, -2, -11, -3]\n"
     ]
    }
   ],
   "source": [
    "A = vT(µT(moebius))\n",
    "B = µT(vT(moebius))\n",
    "\n",
    "print([A(n) for n in range(1, 30)])\n",
    "print([B(n) for n in range(1, 30)])"
   ]
  },
  {
   "cell_type": "markdown",
   "id": "33ec3a05",
   "metadata": {},
   "source": [
    "<h1 style=\"color:#CD5C5C;background:white; line-height: 150%;\n",
    "border-top: thick solid #CD5C5C; float: left; width: 100%; margin-top: 1em;\">\n",
    "The Dirichlet Inverse</h1>"
   ]
  },
  {
   "cell_type": "code",
   "execution_count": 45,
   "id": "08a84a8c",
   "metadata": {},
   "outputs": [],
   "source": [
    "def iT(b: Callable[[int], int]) -> Callable[[int], int]:\n",
    "    \"\"\"We assume b(1) = 1!\"\"\"\n",
    "    @cached_function\n",
    "    def g(n: int) -> int:\n",
    "        if n == 1:\n",
    "            return 1\n",
    "        s = sum(g(n//d)*b(d) for d in divisors(n)[1:])\n",
    "        return -s\n",
    "    return g"
   ]
  },
  {
   "cell_type": "markdown",
   "id": "583aa907",
   "metadata": {},
   "source": [
    "<p style=\"color:brown;font-size:large\">The Dirichlet inverse of ν is iν and the Dirichlet inverse of µ is iµ."
   ]
  },
  {
   "cell_type": "code",
   "execution_count": 46,
   "id": "164af96c",
   "metadata": {},
   "outputs": [],
   "source": [
    "iν = iT(ν) \n",
    "iµ = iT(µ) \n",
    "\n",
    "# ... and back again\n",
    "iiν = iT(iν)\n",
    "iiµ = iT(iµ)"
   ]
  },
  {
   "cell_type": "code",
   "execution_count": 47,
   "id": "29ec2382",
   "metadata": {},
   "outputs": [
    {
     "name": "stdout",
     "output_type": "stream",
     "text": [
      "[1, 1, 1, 0, 1, 1, 1, -2, 0, 1, 1, -1, 1, 1, 1, -3, 1, -1, 1, -1, 1, 1, 1, -5, 0, 1, -2, -1, 1]\n",
      "[1, 1, 1, 1, 1, 1, 1, 1, 1, 1, 1, 1, 1, 1, 1, 1, 1, 1, 1, 1, 1, 1, 1, 1, 1, 1, 1, 1, 1]\n"
     ]
    }
   ],
   "source": [
    "print([iν(n) for n in range(1, 30)])\n",
    "print([iµ(n) for n in range(1, 30)])"
   ]
  },
  {
   "cell_type": "code",
   "execution_count": 48,
   "id": "3bf9b559",
   "metadata": {},
   "outputs": [
    {
     "name": "stdout",
     "output_type": "stream",
     "text": [
      "[1, -1, -1, 1, -1, 1, -1, 1, 1, 1, -1, 0, -1, 1, 1, 0, -1, 0, -1, 0, 1, 1, -1, 0, 1, 1, 1, 0, -1]\n",
      "[1, -1, -1, 1, -1, 1, -1, 1, 1, 1, -1, 0, -1, 1, 1, 0, -1, 0, -1, 0, 1, 1, -1, 0, 1, 1, 1, 0, -1]\n"
     ]
    }
   ],
   "source": [
    "print([ν(n) for n in range(1, 30)])\n",
    "print([iiν(n) for n in range(1, 30)])"
   ]
  },
  {
   "cell_type": "code",
   "execution_count": 49,
   "id": "abf3f77d",
   "metadata": {},
   "outputs": [
    {
     "name": "stdout",
     "output_type": "stream",
     "text": [
      "[1, -1, -1, 0, -1, 1, -1, 0, 0, 1, -1, 0, -1, 1, 1, 0, -1, 0, -1, 0, 1, 1, -1, 0, 0, 1, 0, 0, -1]\n",
      "[1, -1, -1, 0, -1, 1, -1, 0, 0, 1, -1, 0, -1, 1, 1, 0, -1, 0, -1, 0, 1, 1, -1, 0, 0, 1, 0, 0, -1]\n"
     ]
    }
   ],
   "source": [
    "print([µ(n) for n in range(1, 30)])\n",
    "print([iiµ(n) for n in range(1, 30)])"
   ]
  },
  {
   "cell_type": "markdown",
   "id": "83097643",
   "metadata": {},
   "source": [
    "<p style=\"color:brown;font-size:large\"> A383210 / A000012 / A382883 /  A008683"
   ]
  },
  {
   "cell_type": "code",
   "execution_count": 50,
   "id": "cd6dbaa8",
   "metadata": {},
   "outputs": [
    {
     "name": "stdout",
     "output_type": "stream",
     "text": [
      "[1, -1, -1, 0, -1, 1, -1, 0, 0, 1, -1, 0, -1, 1, 1, 0, -1, 0, -1, 0, 1, 1, -1, 0, 0, 1, 0, 0, -1]\n",
      "[1, -2, -3, 0, -5, 6, -7, 0, 0, 10, -11, 0, -13, 14, 15, 0, -17, 0, -19, 0, 21, 22, -23, 0, 0, 26, 0, 0, -29]\n",
      "[1, 0, 0, 0, 0, 0, 0, 0, 0, 0, 0, 0, 0, 0, 0, 0, 0, 0, 0, 0, 0, 0, 0, 0, 0, 0, 0, 0, 0]\n"
     ]
    }
   ],
   "source": [
    "i1 = iT(lambda _: 1) \n",
    "ix = iT(lambda x: x) \n",
    "iI = iT(lambda x: 1 if x == 1 else 0)\n",
    "\n",
    "print([i1(n) for n in range(1, 30)])\n",
    "print([ix(n) for n in range(1, 30)])\n",
    "print([iI(n) for n in range(1, 30)])"
   ]
  },
  {
   "cell_type": "markdown",
   "id": "a0ddb763",
   "metadata": {},
   "source": [
    "<p style=\"color:brown;font-size:large\"> A008683 / A055615 / A000007"
   ]
  },
  {
   "cell_type": "code",
   "execution_count": 51,
   "id": "84eccb70",
   "metadata": {},
   "outputs": [
    {
     "name": "stdout",
     "output_type": "stream",
     "text": [
      "[1, 0, 0, -1, 0, 0, 0, -2, -1, 0, 0, -1, 0, 0, 0, -1, 0, -1, 0, -1, 0, 0, 0, -2, -1, 0, -2, -1, 0]\n",
      "[1, -1, -2, -2, -4, 2, -6, -2, -3, 4, -10, 3, -12, 6, 8, 1, -16, 2, -18, 7, 12, 10, -22, 3, -5, 12, -2, 11, -28]\n",
      "[1, 1, 1, 0, 1, 1, 1, -2, 0, 1, 1, -1, 1, 1, 1, -3, 1, -1, 1, -1, 1, 1, 1, -5, 0, 1, -2, -1, 1]\n"
     ]
    }
   ],
   "source": [
    "i1 = iT(νT(lambda _: 1))\n",
    "ix = iT(νT(lambda x: x))\n",
    "iI = iT(νT(lambda x: 1 if x == 1 else 0))\n",
    "\n",
    "print([i1(n) for n in range(1, 30)])\n",
    "print([ix(n) for n in range(1, 30)])\n",
    "print([iI(n) for n in range(1, 30)])"
   ]
  },
  {
   "cell_type": "markdown",
   "id": "512d09e8",
   "metadata": {},
   "source": [
    "<p style=\"color:brown;font-size:large\"> ? / ? / A383211"
   ]
  },
  {
   "cell_type": "code",
   "execution_count": 52,
   "id": "d3af3428",
   "metadata": {},
   "outputs": [
    {
     "name": "stdout",
     "output_type": "stream",
     "text": [
      "[1, 0, 0, 0, 0, 0, 0, 0, 0, 0, 0, 0, 0, 0, 0, 0, 0, 0, 0, 0, 0, 0, 0, 0, 0, 0, 0, 0, 0]\n",
      "[1, -1, -2, -1, -4, 2, -6, -1, -2, 4, -10, 2, -12, 6, 8, -1, -16, 2, -18, 4, 12, 10, -22, 2, -4, 12, -2, 6, -28]\n",
      "[1, 1, 1, 1, 1, 1, 1, 1, 1, 1, 1, 1, 1, 1, 1, 1, 1, 1, 1, 1, 1, 1, 1, 1, 1, 1, 1, 1, 1]\n"
     ]
    }
   ],
   "source": [
    "i1 = iT(µT(lambda _: 1))\n",
    "ix = iT(µT(lambda x: x))\n",
    "iI = iT(µT(lambda x: 1 if x == 1 else 0))\n",
    "\n",
    "print([i1(n) for n in range(1, 30)])\n",
    "print([ix(n) for n in range(1, 30)])\n",
    "print([iI(n) for n in range(1, 30)])"
   ]
  },
  {
   "cell_type": "markdown",
   "id": "b3eb71b4",
   "metadata": {},
   "source": [
    "<p style=\"color:brown;font-size:large\">A000007 / A023900 / A000012"
   ]
  },
  {
   "cell_type": "markdown",
   "id": "c268972b",
   "metadata": {},
   "source": [
    "<h1 style=\"color:#CD5C5C;background:white; line-height: 150%;\n",
    "border-top: thick solid #CD5C5C; float: left; width: 100%; margin-top: 1em;\">\n",
    "Some uses in classifying integers</h1>"
   ]
  },
  {
   "cell_type": "markdown",
   "id": "84444114",
   "metadata": {},
   "source": [
    "<p style=\"color:brown;font-size:large\">Examples:  \n",
    "\n",
    "ν(99) = 0 because 99 is a number with different exponents in the prime factorization (A059404).<br>\n",
    "ν(2197) = 1 because 2197 is a number of the form p^e where both p and e are prime numbers (A053810).<br>\n",
    "ν(127) = -1 because 127 is a prime number."
   ]
  },
  {
   "cell_type": "markdown",
   "id": "aa66966c",
   "metadata": {},
   "source": [
    "<p style=\"color:brown;font-size:large\">A059404"
   ]
  },
  {
   "cell_type": "code",
   "execution_count": 53,
   "id": "da1408cb",
   "metadata": {},
   "outputs": [
    {
     "data": {
      "text/plain": [
       "{0}"
      ]
     },
     "execution_count": 53,
     "metadata": {},
     "output_type": "execute_result"
    }
   ],
   "source": [
    "@cached_function\n",
    "def isA059404(n: int) -> bool: \n",
    "    return 1 < len(set(valuation(n, p) for p in prime_divisors(n)))\n",
    "\n",
    "F = [n for n in range(1, 2000) if isA059404(n)]\n",
    "set([ν(n) for n in F])"
   ]
  },
  {
   "cell_type": "markdown",
   "id": "845abfa0",
   "metadata": {},
   "source": [
    "<p style=\"color:brown;font-size:large\">A053810"
   ]
  },
  {
   "cell_type": "code",
   "execution_count": 54,
   "id": "d0bfa321",
   "metadata": {},
   "outputs": [
    {
     "data": {
      "text/plain": [
       "{1}"
      ]
     },
     "execution_count": 54,
     "metadata": {},
     "output_type": "execute_result"
    }
   ],
   "source": [
    "def isA053810(n: int) -> bool:\n",
    "    p = prime_divisors(n)\n",
    "    return len(p) == 1 and is_prime(valuation(n, p[0]))\n",
    "\n",
    "F = [n for n in srange(1, 2000) if isA053810(n)]\n",
    "set([ν(n) for n in F])"
   ]
  },
  {
   "cell_type": "markdown",
   "id": "be72c079",
   "metadata": {},
   "source": [
    "<p style=\"color:brown;font-size:large\">A000040"
   ]
  },
  {
   "cell_type": "code",
   "execution_count": 55,
   "id": "f1f63301",
   "metadata": {},
   "outputs": [
    {
     "name": "stdout",
     "output_type": "stream",
     "text": [
      "[-1, -1, -1, -1, -1, -1, -1, -1, -1, -1, -1, -1, -1, -1, -1]\n",
      "[-1, -1, -1, -1, -1, -1, -1, -1, -1, -1, -1, -1, -1, -1, -1]\n"
     ]
    }
   ],
   "source": [
    "F = [p for p in prime_range(50)]\n",
    "\n",
    "print([µ(p) for p in F])\n",
    "print([ν(p) for p in F])"
   ]
  },
  {
   "cell_type": "markdown",
   "id": "b440fbbc",
   "metadata": {},
   "source": [
    "<p style=\"color:brown;font-size:large\">A001248"
   ]
  },
  {
   "cell_type": "code",
   "execution_count": 56,
   "id": "d66ac016",
   "metadata": {},
   "outputs": [
    {
     "name": "stdout",
     "output_type": "stream",
     "text": [
      "[0, 0, 0, 0, 0, 0, 0, 0, 0, 0, 0, 0, 0, 0, 0]\n",
      "[1, 1, 1, 1, 1, 1, 1, 1, 1, 1, 1, 1, 1, 1, 1]\n"
     ]
    }
   ],
   "source": [
    "F = [p^2 for p in prime_range(50)]\n",
    "\n",
    "print([µ(p) for p in F])\n",
    "print([ν(p) for p in F])"
   ]
  },
  {
   "cell_type": "markdown",
   "id": "950f3f38",
   "metadata": {},
   "source": [
    "<p style=\"color:brown;font-size:large\">Similar but different from A259183\n"
   ]
  },
  {
   "cell_type": "code",
   "execution_count": 57,
   "id": "83f4054b",
   "metadata": {},
   "outputs": [
    {
     "name": "stdout",
     "output_type": "stream",
     "text": [
      "[4, 8, 9, 25, 27, 32, 36, 49, 64, 100, 121, 125, 128]\n"
     ]
    }
   ],
   "source": [
    "F = [n for n in srange(1, 150) if µ(n) != ν(n)]\n",
    "print(F)"
   ]
  },
  {
   "cell_type": "markdown",
   "id": "99c21e39",
   "metadata": {},
   "source": [
    "<p style=\"color:brown;font-size:large\">Similar but different from A323350"
   ]
  },
  {
   "cell_type": "code",
   "execution_count": 58,
   "id": "81576c42",
   "metadata": {},
   "outputs": [
    {
     "name": "stdout",
     "output_type": "stream",
     "text": [
      "[0, 1, 1, -1, 1, -1, 1, -1, -1, -1, 1, -1, 1, -1, -1, 0, 1, -1, 1, -1, -1, -1, 1, 0, -1, -1, -1, -1, 1]\n",
      "[0, 1, 1, -1, 1, -1, 1, -1, -1, -1, 1, -1, 1, -1, -1, 1, 1, -1, 1, -1, -1, -1, 1, 1, -1, -1, -1, -1, 1]\n",
      "[16, 24, 36]\n"
     ]
    }
   ],
   "source": [
    "def bigomega(n: int) -> int: \n",
    "    return sloane.A001222(n)\n",
    "F = [bigomega(n) for n in srange(1, 30)]\n",
    "\n",
    "print([µ(n) for n in F])\n",
    "print([ν(n) for n in F])\n",
    "print([n for n in srange(1, 40) if µ(bigomega(n)) != ν(bigomega(n))])"
   ]
  },
  {
   "cell_type": "markdown",
   "id": "1885557b",
   "metadata": {},
   "source": [
    "<p style=\"color:brown;font-size:large\">A120497 ? Positive integers whose number of divisors is a perfect power ?"
   ]
  },
  {
   "cell_type": "code",
   "execution_count": 59,
   "id": "c5c18da0",
   "metadata": {},
   "outputs": [
    {
     "name": "stdout",
     "output_type": "stream",
     "text": [
      "[6, 8, 10, 14, 15, 21, 22, 24, 26, 27, 30, 33, 34, 35, 36, 38, 39, 40, 42, 46]\n"
     ]
    }
   ],
   "source": [
    "def tau(n: int) -> int: \n",
    "    return sigma(n, 0)\n",
    "print([n for n in srange(1, 50) if µ(tau(n)) != ν(tau(n))])"
   ]
  },
  {
   "cell_type": "markdown",
   "id": "fb30a00b",
   "metadata": {},
   "source": [
    "<p style=\"color:brown;font-size:large\">Subsequence of A065496 ? "
   ]
  },
  {
   "cell_type": "code",
   "execution_count": 60,
   "id": "6db5ce2d",
   "metadata": {},
   "outputs": [
    {
     "name": "stdout",
     "output_type": "stream",
     "text": [
      "[3, 7, 21, 22, 31, 81, 93, 102, 110, 127, 142]\n"
     ]
    }
   ],
   "source": [
    "def s1(n: int) -> int: \n",
    "    return sigma(n, 1)\n",
    "print([n for n in srange(1, 150) if µ(s1(n)) != ν(s1(n))])"
   ]
  },
  {
   "cell_type": "markdown",
   "id": "69d1784d",
   "metadata": {},
   "source": [
    "<p style=\"color:brown;font-size:large\">Study the relation to the numbers A059404 with different exponents in their prime factorizations."
   ]
  },
  {
   "cell_type": "code",
   "execution_count": 61,
   "id": "0c43e99d",
   "metadata": {},
   "outputs": [],
   "source": [
    "def isA059404(n: int) -> bool: \n",
    "    return 1 < len(set(valuation(n, p) for p in prime_divisors(n)))\n",
    "\n",
    "B = [n for n in range(1, 4362) if isA059404(n)]\n",
    "#print(B)"
   ]
  },
  {
   "cell_type": "markdown",
   "id": "45ff5618",
   "metadata": {},
   "source": [
    "<p style=\"color:brown;font-size:large\">The numbers A217261 of the form i^j^k, for i, j, k > 1 ? How are they related to A372405, the exponentially powerful numbers whose prime factorization exponents are all powerful numbers > 1."
   ]
  },
  {
   "cell_type": "code",
   "execution_count": 62,
   "id": "7d40ac6d",
   "metadata": {},
   "outputs": [
    {
     "name": "stdout",
     "output_type": "stream",
     "text": [
      "[16, 81, 256, 512, 625, 1296, 2401, 4096, 6561, 10000]\n"
     ]
    }
   ],
   "source": [
    "MAX = 10001\n",
    "#MAX = 1185922\n",
    "#MAX = 100000000\n",
    "\n",
    "A217261List = sorted(set([x for x in [i^(j^2) \n",
    "              for j in range(2, 120) \n",
    "              for i in range(2, 120)] \n",
    "              if x < MAX]))\n",
    "\n",
    "print(A217261List)"
   ]
  },
  {
   "cell_type": "code",
   "execution_count": 63,
   "id": "d5720777",
   "metadata": {},
   "outputs": [
    {
     "name": "stdout",
     "output_type": "stream",
     "text": [
      "[1] 16 0 4\n",
      "[2] 81 0 9\n",
      "[3] 256 0 16\n",
      "[4] 512 0 16*sqrt(2)\n",
      "[5] 625 0 25\n",
      "[6] 1296 0 36\n",
      "[7] 2401 0 49\n",
      "[8] 4096 0 64\n",
      "[9] 6561 0 81\n",
      "[10] 10000 0 100\n"
     ]
    }
   ],
   "source": [
    "i=1\n",
    "for n in A217261List[:12] :\n",
    "    print([i], n, µ(n), sqrt(n))\n",
    "    i += 1"
   ]
  },
  {
   "cell_type": "markdown",
   "id": "aa9d3190",
   "metadata": {},
   "source": [
    "<h1 style=\"color:#CD5C5C;background:white; line-height: 150%;\n",
    "border-top: thick solid #CD5C5C; float: left; width: 100%; margin-top: 1em;\">\n",
    "Appendix</h1>"
   ]
  },
  {
   "cell_type": "code",
   "execution_count": 64,
   "id": "e217f1d2",
   "metadata": {},
   "outputs": [
    {
     "name": "stdout",
     "output_type": "stream",
     "text": [
      "CPU times: user 750 ms, sys: 0 ns, total: 750 ms\n",
      "Wall time: 799 ms\n"
     ]
    }
   ],
   "source": [
    "%%time\n",
    "\n",
    "[ν(n) for n in range(1, 20000)];"
   ]
  },
  {
   "cell_type": "code",
   "execution_count": 65,
   "id": "f386f860",
   "metadata": {},
   "outputs": [
    {
     "name": "stdout",
     "output_type": "stream",
     "text": [
      "CPU times: user 110 ms, sys: 11.5 ms, total: 122 ms\n",
      "Wall time: 129 ms\n"
     ]
    }
   ],
   "source": [
    "%%time\n",
    "\n",
    "[µ(n) for n in range(1, 20000)];"
   ]
  },
  {
   "cell_type": "code",
   "execution_count": 66,
   "id": "c7daed1e",
   "metadata": {},
   "outputs": [
    {
     "name": "stdout",
     "output_type": "stream",
     "text": [
      "7723 6155 6121\n"
     ]
    }
   ],
   "source": [
    "c0 = c1 = c2 = 0\n",
    "for n in range(1, 20000):\n",
    "    vn = ν(n)\n",
    "    if vn == 0: c0 +=1\n",
    "    elif vn == 1: c1 +=1\n",
    "    else: c2 += 1    \n",
    "print(c0, c1, c2)"
   ]
  },
  {
   "cell_type": "code",
   "execution_count": 67,
   "id": "8011c658",
   "metadata": {},
   "outputs": [
    {
     "name": "stdout",
     "output_type": "stream",
     "text": [
      "7839 6093 6067\n"
     ]
    }
   ],
   "source": [
    "c0 = c1 = c2 = 0\n",
    "for n in range(1, 20000):\n",
    "    µn = µ(n)\n",
    "    if µn == 0: c0 +=1\n",
    "    elif µn == 1: c1 +=1\n",
    "    else: c2 += 1    \n",
    "print(c0, c1, c2)"
   ]
  }
 ],
 "metadata": {
  "kernelspec": {
   "display_name": "SageMath 10.5",
   "language": "sage",
   "name": "sagemath10.5"
  },
  "language_info": {
   "codemirror_mode": {
    "name": "ipython",
    "version": 3
   },
   "file_extension": ".py",
   "mimetype": "text/x-python",
   "name": "python",
   "nbconvert_exporter": "python",
   "pygments_lexer": "ipython3",
   "version": "3.10.12"
  }
 },
 "nbformat": 4,
 "nbformat_minor": 5
}
