{
 "cells": [
  {
   "cell_type": "markdown",
   "id": "a7008a5d",
   "metadata": {},
   "source": [
    "<h1 style=\"background: orange; color: #5E7AFF; text-align: center; line-height: 200%; letter-spacing: 1px; font-weight: bold;\">Möbius's Companion<br>\n",
    "<span style=\"font-size: smaller; font-weight: normal;line-height: 150%;\">Peter Luschny, April 2025</span></h1>"
   ]
  },
  {
   "cell_type": "code",
   "execution_count": 1,
   "id": "25234a1b",
   "metadata": {},
   "outputs": [],
   "source": [
    "# This is a SageMath 10.5 Jupyter notebook (running on Python 3.13).\n",
    "\n",
    "from typing import Callable\n",
    "from itertools import accumulate\n",
    "from sage.all import ZZ, valuation, matrix, srange, cached_function, moebius, simplify, exp, log, divisors, factor, prime_divisors, euler_phi, prime_range, is_prime, sigma, sqrt, prod, is_squarefree, is_prime_power, sign\n",
    "omega = sloane.A001221\n",
    "bigomega = sloane.A001222"
   ]
  },
  {
   "cell_type": "markdown",
   "id": "b6231021",
   "metadata": {},
   "source": [
    "<h1 style=\"color:#CD5C5C;background:white; line-height: 150%;\n",
    "border-top: thick solid #CD5C5C; float: left; width: 100%; margin-top: 1em;\">\n",
    "Introduction</h1>"
   ]
  },
  {
   "cell_type": "markdown",
   "id": "2b5c3d6e",
   "metadata": {},
   "source": [
    " Central to our considerations are four regular integer triangles (lower triangular matrices), T, M, V, H, and two sequences, µ and ν, which are connected by the diagram below.<br> \n",
    "\n",
    "The <i>triangles</i> are:\n",
    "* T(n, k) is the divisibility triangle,\n",
    "* V(n, k) is the valuation triangle,\n",
    "* M(n, k) is the Moebius triangle,\n",
    "* H(n, k) is the Hensel triangle.<br>\n",
    "\n",
    "The <i>arrows</i> denote<br>\n",
    "* <i>inv</i> matrix inversion, \n",
    "* <i>sign</i> the signum function, and \n",
    "* <i>c_1</i> extraction of column 1 from a (0-based) matrix.<br>\n",
    "\n",
    "The <i>sequences</i> are<br>\n",
    "* µ the Moebius sequence,\n",
    "* ν the Hensel sequence."
   ]
  },
  {
   "cell_type": "markdown",
   "id": "7a625bf8",
   "metadata": {},
   "source": [
    "<img src=\"DivDiagram.png\" width=640 height=540 />"
   ]
  },
  {
   "cell_type": "markdown",
   "id": "4f80d094",
   "metadata": {},
   "source": [
    "<p>The terms <i>Hensel triangle</i> and <i>Hensel sequence</i> are not standard but are introduced here in honor of Kurt Hensel. Hensel is considered the Father of Valuation Theory."
   ]
  },
  {
   "cell_type": "markdown",
   "id": "ad690623",
   "metadata": {},
   "source": [
    "Divisibility theory starts with the divisibility triangle T = A113704 and its inverse, the Möbius triangle M = A363914, whose first column represents the Möbius function µ = A008683. This theory considers divisibility without taking multiplicity of divisors into account.\n",
    "\n",
    "The theory that considers the multiplicity of divisors is based on the extended valuation triangle A382944 and its inverse H = A382881, whose first column is the analog of the Möbius function and is given by ν = A382883. \n",
    "\n",
    "Just as the values of the Möbius function (0, 1, -1, not 0) lead to the decomposition (A013929, A030229, A030059, and A005117), sequence A382883 leads to the decomposition (A382943, A383016, A383017, and A383106).\n",
    "\n",
    "The summatory function of ν = A382883 is Σν = A382942, which is the counterpart of Mertens's function Σµ = A002321. The counterpart of A055615 is A382940 = A382883*A000027, and Λν = A382941 is the counterpart of the exponential von Mangoldt function Λµ = A014963.\n",
    "\n",
    "Similar to the Möbius sequence µ = A008683, sequence ν = A382883 can be used as a transformation. Under this transformation, A000012 is mapped to A383104 and A000027 to A383124. The Dirichlet inverse of A382883 is A383210.\n",
    "\n",
    "The valuation triangle V = A382944. In addition to divisibility, V(n, k) indicates the <i>order of divisibility</i>. If a term V(n, k) > 1 is replaced by 1 the triangle reduces to the divisibility triangle T = A113704. For n, k >= 2 V(n, k) is defined as the multiplicity of a divisor, i.e., the exponent of the highest order of k that divides n. For a prime number p V(n, p) is called p-adic valuation or p-adic order of n. "
   ]
  },
  {
   "cell_type": "markdown",
   "id": "69a308a1",
   "metadata": {},
   "source": [
    "<h1 style=\"color:#CD5C5C;background:white; line-height: 150%;\n",
    "border-top: thick solid #CD5C5C; float: left; width: 100%; margin-top: 1em;\">\n",
    "Notation</h1>"
   ]
  },
  {
   "cell_type": "markdown",
   "id": "ecd48825",
   "metadata": {},
   "source": [
    "**µ** is the name of the Möbius sequence (A008683). <br>\n",
    "**ν** is the name of the Hensel sequence (A382883).\n",
    "\n",
    "**µ** is the Greek small letter mu and ν is the Greek small letter nu.<br>\n",
    "We also use these Unicode characters as Python names and parts of Python names. \n",
    "\n",
    "**ΣT** is the sequence of row sums of the lower triangular matrix T. <br>\n",
    "**Σa** is the sequence of partial sums of the sequence a. \n",
    "\n",
    "The identifiers **T**, **M**, **V**, and **H** are identifiers for the triangles introduced above.\n",
    "\n",
    "The Iverson bracket **[b]** equals 1 if b is True and 0 if b is False.<br>"
   ]
  },
  {
   "cell_type": "markdown",
   "id": "79f41023",
   "metadata": {},
   "source": [
    "<p style=\"color:brown;font-size:large\">Divisibility indicator and valuation:\n",
    "\n",
    "* For 2 <= k <= n: <br>\n",
    "**[k | n]**  = 0 if k does not divide n and otherwise is 1.<br>\n",
    "**[k || n]** = 0 if k does not divide n and otherwise is the largest exponent e such that k^e divides n.<br>\n",
    "* For k = 1: [k | n] = [k || n] = 1.<br>\n",
    "* For k = 0: [k | n] = [k || n] = 0^n where 0^0 = 1.<br>\n",
    "\n",
    "Thus [k | n] = 0 <=> [k || n] = 0 and if [k || n] > 0 then [k | n] = 1 and [k | n] = signum([k || n])."
   ]
  },
  {
   "cell_type": "markdown",
   "id": "00b8f6e1",
   "metadata": {},
   "source": [
    "<p style=\"color:brown;font-size:large\">Concerned with sequences: \n",
    "\n",
    "|   | Name                                     |  OEIS                                     | Values   |\n",
    "|:-: | :-------------------------------         | :-----:                                   | :------  | \n",
    "| **T(n, k)<br>[k \\| n]** | **The divisibility triangle** | <a href=\"https://oeis.org/A113704\" target=\"_blank\">A113704</a> | 1, 0, 1, 0, 1, 1, 0, 1, 0, 1, 0, 1, 1, 0, 1, 0, 1, 0, 0 |\n",
    "| **M(n, k)<br>invT** | **The Moebius triangle**<br> -Sum_{d\\|n, d<n} [d \\| n]*µ(d, k) | <a href=\"https://oeis.org/A363914\" target=\"_blank\">A363914</a> | 1, 0, 1, 0, -1, 1, 0, -1, 0, 1, 0, 0, -1, 0, 1, 0, -1, 0 |\n",
    "| **µ(n)** | **The Moebius function**<br> -Sum_{d\\|n, d<n} [d \\| n]*µ(d)       | <a href=\"https://oeis.org/A008683\" target=\"_blank\">A008683</a> | 1, -1, -1, 0, -1, 1, -1, 0, 0, 1, -1, 0, -1, 1, 1, 0, -1 |\n",
    "| **V(n, k)<br>[k \\|\\| n]** | **The valuation triangle**  | <a href=\"https://oeis.org/A382944\" target=\"_blank\">A382944</a> | 1, 0, 1, 0, 1, 1, 0, 1, 0, 1, 0, 1, 2, 0, 1, 0, 1, 0 |\n",
    "| **H(n, k)<br>invV** | **The Hensel triangle**<br> -Sum_{d\\|n, d<n} [d \\|\\| n]*ν(d, k) | <a href=\"https://oeis.org/A382881\" target=\"_blank\">A382881</a> | 1, 0, 1, 0, -1, 1, 0, -1, 0, 1, 0, 1, -2, 0, 1, 0, -1 |\n",
    "| **ν(n)** | **The Hensel function**<br> -Sum_{d\\|n, d<n} [d \\|\\| n]*ν(d)       | <a href=\"https://oeis.org/A382883\" target=\"_blank\">A382883</a> | 1, -1, -1, 1, -1, 1, -1, 1, 1, 1, -1, 0, -1, 1, 1, 0 |\n",
    "| **Σν**  | Sum_{j=1..n} ν(j)                  | <a href=\"https://oeis.org/A382942\" target=\"_blank\">A382942</a> | 1, 0, -1, 0, -1, 0, -1, 0, 1, 2, 1, 1, 0, 1, 2, 2, 1 |\n",
    "| **Σµ**  | Sum_{j=1..n} µ(j)                  | <a href=\"https://oeis.org/A002321\" target=\"_blank\">A002321</a> | 1, 0, -1, -1, -2, -1, -2, -2, -2, -1, -2, -2, -3, -2 |\n",
    "|   | Sum_{d\\|n} ν(d)                          | <a href=\"https://oeis.org/A383104\" target=\"_blank\">A383104</a> | 1, 0, 0, 1, 0, 0, 0, 2, 1, 0, 0, 1, 0, 0, 0, 2, 0, 1 |\n",
    "|   | Sum_{d\\|n} ν(n/d)*n                      | <a href=\"https://oeis.org/A383124\" target=\"_blank\">A383124</a> | 1, 1, 2, 3, 4, 2, 6, 7, 7, 4, 10, 7, 12, 6, 8, 14 |\n",
    "|   | Sum_{d\\|n} ν(n/d)*ν(d)                   | <a href=\"https://oeis.org/A383210\" target=\"_blank\">A383210</a> | 1, 1, 1, 0, 1, 1, 1, -2, 0, 1, 1, -1, 1, 1, 1, -3, 1 |\n",
    "|   | Sum_{d\\|n} ν(n/d)*µ(d)                   | <a href=\"https://oeis.org/A383123\" target=\"_blank\">A383123</a> | 1, -2, -2, 2, -2, 4, -2, 0, 2, 4, -2, -3, -2, 4, 4  |\n",
    "| **Λν** | Exp(Sum_{d\\|n} ν(d)*log(n/d))       | <a href=\"https://oeis.org/A382941\" target=\"_blank\">A382941</a> | 1, 2, 3, 2, 5, 1, 7, 4, 3, 1, 11, 3, 13, 1, 1, 16, 17|\n",
    "| **Λµ** | Exp(Sum_{d\\|n} µ(d)*log(n/d))       | <a href=\"https://oeis.org/A014963\" target=\"_blank\">A014963</a> | 1, 2, 3, 2, 5, 1, 7, 2, 3, 1, 11, 1, 13, 1, 1, 2, 17|\n",
    "|   | {k \\| ν(k) = 0}                          | <a href=\"https://oeis.org/A382943\" target=\"_blank\">A382943</a> | 12, 16, 18, 20, 24, 28, 40, 44, 45, 48, 50, 52, 54|\n",
    "|   | {k \\| ν(k) != 0}                         | <a href=\"https://oeis.org/A383106\" target=\"_blank\">A383106</a> | 1, 2, 3, 4, 5, 6, 7, 8, 9, 10, 11, 13, 14, 15, 17, 19|\n",
    "|   | {k \\| ν(k) = 1}                          | <a href=\"https://oeis.org/A383016\" target=\"_blank\">A383016</a> | 1, 4, 6, 8, 9, 10, 14, 15, 21, 22, 25, 26, 27, 32|\n",
    "|   | {k \\| ν(k) = -1}                         | <a href=\"https://oeis.org/A383017\" target=\"_blank\">A383017</a> | 2, 3, 5, 7, 11, 13, 17, 19, 23, 29, 30, 31, 36, 37|\n",
    "|   | {k \\| ν(k) != µ(k)}                      | <a href=\"https://oeis.org/A383105\" target=\"_blank\">A383105</a> | 4, 8, 9, 25, 27, 32, 36, 49, 64, 100, 121, 125|\n",
    "|   | {k \\| ν(k) != µ(k) and omega(k) = 1}     | <a href=\"https://oeis.org/A383211\" target=\"_blank\">A383211</a> | 4, 8, 9, 25, 27, 32, 49, 64, 121, 125, 128, 169|\n",
    "|   | {k \\| ν(k) = 1 and µ(k) = 0}             | <a href=\"https://oeis.org/A383103\" target=\"_blank\">A383103</a> | 4, 8, 9, 25, 27, 32, 49, 121, 125, 128, 169, 243|\n",
    "|   | {k \\| ν(k) = -1 and µ(k) = 0}            | <a href=\"https://oeis.org/A383018\" target=\"_blank\">A383018</a> | 36, 64, 100, 196, 216, 225, 441, 484, 676, 729|\n",
    "|   | ν(n) * n                                 | <a href=\"https://oeis.org/A382940\" target=\"_blank\">A382940</a> | 1, -2, -3, 4, -5, 6, -7, 8, 9, 10, -11, 0, -13, 14, 15|\n",
    "|   | ν(n) * µ(n)                              | <a href=\"https://oeis.org/A008966\" target=\"_blank\">A008966</a> | 1, 1, 1, 0, 1, 1, 1, 0, 0, 1, 1, 0, 1, 1, 1, 0, 1, 0, 1 |\n"
   ]
  },
  {
   "cell_type": "markdown",
   "id": "9f94b01f",
   "metadata": {},
   "source": [
    "This translates the above diagram to relations between OEIS sequences."
   ]
  },
  {
   "cell_type": "markdown",
   "id": "5c2b3a3f",
   "metadata": {},
   "source": [
    "<img src=\"AnumDiagram.png\" width=640 height=480 />"
   ]
  },
  {
   "cell_type": "markdown",
   "id": "67517e90",
   "metadata": {},
   "source": [
    "<h1 style=\"color:#CD5C5C;background:white; line-height: 150%;\n",
    "border-top: thick solid #CD5C5C; float: left; width: 100%; margin-top: 1em;\">\n",
    "Divisibility</h1>"
   ]
  },
  {
   "cell_type": "markdown",
   "id": "ef8da717",
   "metadata": {},
   "source": [
    "<p style=\"color:brown;\">Let's start with the divisibility triangle. In Python, we will write T(n, k) instead of [k | n] for the Python function. The number 'n' will always denote a nonnegative integer, n = 0, 1, 2, ... For numbers n,d >= 0, our definition of divisibility is:"
   ]
  },
  {
   "cell_type": "markdown",
   "id": "0ed03312",
   "metadata": {},
   "source": [
    "$ \n",
    "    d \\text{ divides } n \\Longleftrightarrow n = m \\cdot d  \\quad \\text{for some } m \\, \\le n.\n",
    "$"
   ]
  },
  {
   "cell_type": "markdown",
   "id": "089da91d",
   "metadata": {},
   "source": [
    "<p style=\"color:brown;\">Our focus is purely on divisibility <i>within</i> the natural numbers where order makes sense, since N_{0} is naturally ordered, and the extra condition is harmless:<br>\n",
    "\n",
    "• For n > 0, this is exactly the usual definition—and forces 0 out of the list of divisors of any positive n.<br>\n",
    "• For n = 0, it says \"d <= 0\", so d = 0, and indeed 0 = 0 · m holds for arbitrary m.<br>\n",
    "\n",
    "<p style=\"color:brown;\">Thus this both (a) reflects our intuition that \"divisors of n\" live inside {0, 1, ... , n}, and (b) keeps every divisor-set finite—even for n = 0.\n",
    "Other possible definitions either leave \"divisors of 0\" undefined, throw an error, or end up with an infinite set when asked for the divisors of 0. Invoking the order constraint is a mild price to pay for restoring finiteness and intuition."
   ]
  },
  {
   "cell_type": "code",
   "execution_count": 2,
   "id": "b9d4f95a",
   "metadata": {},
   "outputs": [
    {
     "name": "stdout",
     "output_type": "stream",
     "text": [
      "[0] [1]\n",
      "[1] [0, 1]\n",
      "[2] [0, 1, 1]\n",
      "[3] [0, 1, 0, 1]\n",
      "[4] [0, 1, 1, 0, 1]\n",
      "[5] [0, 1, 0, 0, 0, 1]\n",
      "[6] [0, 1, 1, 1, 0, 0, 1]\n",
      "[7] [0, 1, 0, 0, 0, 0, 0, 1]\n",
      "[8] [0, 1, 1, 0, 1, 0, 0, 0, 1]\n",
      "[9] [0, 1, 0, 1, 0, 0, 0, 0, 0, 1]\n",
      "[10] [0, 1, 1, 0, 0, 1, 0, 0, 0, 0, 1]\n",
      "[11] [0, 1, 0, 0, 0, 0, 0, 0, 0, 0, 0, 1]\n",
      "[12] [0, 1, 1, 1, 1, 0, 1, 0, 0, 0, 0, 0, 1]\n"
     ]
    }
   ],
   "source": [
    "# The basic query function 'divides' in Sage is part of the\n",
    "# Integer structure, and we use it unchanged. ZZ(k) simply\n",
    "# ensures that k is an element of ZZ (the Integers).\n",
    "# The type conversion int() implements the Iverson bracket.\n",
    "\n",
    "def T(n: int, k: int) -> int:\n",
    "    return int(ZZ(k).divides(n))\n",
    " \n",
    "for n in range(13):\n",
    "    print([n], [T(n, k) for k in range(n + 1)])"
   ]
  },
  {
   "cell_type": "markdown",
   "id": "362b14c4",
   "metadata": {},
   "source": [
    "<p style=\"color:brown;font-size:large\">The Moebius triangle M(n, k) is defined as the inverse of the divisibility triangle. Outside the lower triangular matrix 0 <= k <= n all terms are 0.</p>"
   ]
  },
  {
   "cell_type": "code",
   "execution_count": 3,
   "id": "29c0184d",
   "metadata": {},
   "outputs": [
    {
     "data": {
      "text/plain": [
       "[ 1  0  0  0  0  0  0  0  0  0]\n",
       "[ 0  1  0  0  0  0  0  0  0  0]\n",
       "[ 0 -1  1  0  0  0  0  0  0  0]\n",
       "[ 0 -1  0  1  0  0  0  0  0  0]\n",
       "[ 0  0 -1  0  1  0  0  0  0  0]\n",
       "[ 0 -1  0  0  0  1  0  0  0  0]\n",
       "[ 0  1 -1 -1  0  0  1  0  0  0]\n",
       "[ 0 -1  0  0  0  0  0  1  0  0]\n",
       "[ 0  0  0  0 -1  0  0  0  1  0]\n",
       "[ 0  0  0 -1  0  0  0  0  0  1]"
      ]
     },
     "execution_count": 3,
     "metadata": {},
     "output_type": "execute_result"
    }
   ],
   "source": [
    "m = matrix(ZZ, 10, 10, lambda n, k: k <= n and ZZ(k).divides(ZZ(n)))\n",
    "m.inverse()"
   ]
  },
  {
   "cell_type": "markdown",
   "id": "c7ce4067",
   "metadata": {},
   "source": [
    "<p style=\"color:brown;font-size:large\">Alternatively we can use the Sage library function 'moebius' to build the triangle.<br>Recall that the operator '//' means <i>integer division</i>, in other languages often called 'div'.</p>"
   ]
  },
  {
   "cell_type": "code",
   "execution_count": 4,
   "id": "85f58e8d",
   "metadata": {},
   "outputs": [
    {
     "name": "stdout",
     "output_type": "stream",
     "text": [
      "[1]\n",
      "[0, 1]\n",
      "[0, -1, 1]\n",
      "[0, -1, 0, 1]\n",
      "[0, 0, -1, 0, 1]\n",
      "[0, -1, 0, 0, 0, 1]\n",
      "[0, 1, -1, -1, 0, 0, 1]\n",
      "[0, -1, 0, 0, 0, 0, 0, 1]\n",
      "[0, 0, 0, 0, -1, 0, 0, 0, 1]\n",
      "[0, 0, 0, -1, 0, 0, 0, 0, 0, 1]\n"
     ]
    }
   ],
   "source": [
    "# Alternative:\n",
    "def M(n: int, k: int) -> int:\n",
    "    if k == 0: return k^n\n",
    "    return moebius(n // k) if k.divides(n) else 0\n",
    "\n",
    "for n in range(10): \n",
    "    print([M(n, k) for k in srange(n + 1)])"
   ]
  },
  {
   "cell_type": "markdown",
   "id": "3ad57061",
   "metadata": {},
   "source": [
    "<p style=\"color:brown;font-size:large\">Looking at the case k = 1, the defining condition</p>\n",
    "\n",
    "moebius(n // k) if k.divides(n) else 0\n",
    "\n",
    "<p style=\"color:brown;font-size:large\">reduces to moebius(n). In other words, column 1 <i>is</i> the Moebius function. Its name in the OEIS is:</p>\n"
   ]
  },
  {
   "cell_type": "code",
   "execution_count": 5,
   "id": "289c22c1",
   "metadata": {},
   "outputs": [
    {
     "name": "stdout",
     "output_type": "stream",
     "text": [
      "[1, -1, -1, 0, -1, 1, -1, 0, 0, 1, -1, 0, -1, 1, 1, 0, -1, 0, -1, 0, 1, 1, -1, 0, 0, 1, 0, 0, -1]\n"
     ]
    }
   ],
   "source": [
    "µ = moebius\n",
    "A008683 = µ\n",
    "print([A008683(n) for n in range(1, 30)])"
   ]
  },
  {
   "cell_type": "markdown",
   "id": "76f9af23",
   "metadata": {},
   "source": [
    "<p style=\"color:brown;font-size:large\">This simple relationship between the Moebius matrix and the Moebius function now serves as a blueprint for our next steps. In this, the valuation triangle will take on the role of the divisibility triangle, and the function <i>v</i>, defined as the first column of the matrix inverse to V, will take on the role of the Moebius function. Our main focus will then be on this function to which we will referre to as the Hensel function (or Hensel sequence).</p>"
   ]
  },
  {
   "cell_type": "markdown",
   "id": "2cc0b83d",
   "metadata": {},
   "source": [
    "<h1 style=\"color:#CD5C5C;background:white; line-height: 150%;\n",
    "border-top: thick solid #CD5C5C; float: left; width: 100%; margin-top: 1em;\">\n",
    "Valuation</h1>"
   ]
  },
  {
   "cell_type": "markdown",
   "id": "7b1326d4",
   "metadata": {},
   "source": [
    "<p style=\"color:brown;font-size:large\">We will write V(n, k) instead of [k || n] for the Python function. Outside the lower triangular matrix 0 <= k <= n all terms are 0.</p>"
   ]
  },
  {
   "cell_type": "code",
   "execution_count": 6,
   "id": "a4d1bc45",
   "metadata": {},
   "outputs": [
    {
     "name": "stdout",
     "output_type": "stream",
     "text": [
      "[0] [1]\n",
      "[1] [0, 1]\n",
      "[2] [0, 1, 1]\n",
      "[3] [0, 1, 0, 1]\n",
      "[4] [0, 1, 2, 0, 1]\n",
      "[5] [0, 1, 0, 0, 0, 1]\n",
      "[6] [0, 1, 1, 1, 0, 0, 1]\n",
      "[7] [0, 1, 0, 0, 0, 0, 0, 1]\n",
      "[8] [0, 1, 3, 0, 1, 0, 0, 0, 1]\n",
      "[9] [0, 1, 0, 2, 0, 0, 0, 0, 0, 1]\n",
      "[10] [0, 1, 1, 0, 0, 1, 0, 0, 0, 0, 1]\n",
      "[11] [0, 1, 0, 0, 0, 0, 0, 0, 0, 0, 0, 1]\n",
      "[12] [0, 1, 2, 1, 1, 0, 1, 0, 0, 0, 0, 0, 1]\n"
     ]
    }
   ],
   "source": [
    "@cached_function\n",
    "def V(n: int, k: int) -> int:\n",
    "    if not ZZ(k).divides(n) or k > n: return 0\n",
    "    if k == n or k == 1: return 1\n",
    "    return valuation(n, k)\n",
    "\n",
    "for n in range(13): print([n], [V(n, k) for k in range(n + 1)])"
   ]
  },
  {
   "cell_type": "markdown",
   "id": "cfefd89e",
   "metadata": {},
   "source": [
    "<p style=\"color:brown;font-size:large\">Note that if a term > 1 in the valuation triangle is replaced by 1 the triangle reduces to the divisibility triangle. T(n, k) = signum(V(n, k)).\n",
    "In the OEIS you will find the triangle at this A-number:</p>"
   ]
  },
  {
   "cell_type": "code",
   "execution_count": 7,
   "id": "4498af04",
   "metadata": {},
   "outputs": [
    {
     "name": "stdout",
     "output_type": "stream",
     "text": [
      "[1, 0, 1, 0, 1, 1, 0, 1, 0, 1, 0, 1, 2, 0, 1, 0, 1, 0, 0, 0, 1, 0, 1, 1, 1, 0, 0, 1, 0, 1, 0, 0, 0, 0, 0, 1]\n"
     ]
    }
   ],
   "source": [
    "A382944 = V\n",
    "print([A382944(n, k) for n in range(8) for k in srange(n+1)])"
   ]
  },
  {
   "cell_type": "markdown",
   "id": "da6f3772",
   "metadata": {},
   "source": [
    "<p style=\"color:brown;font-size:large\">The row sums are the number of divisors of n, counted with their multiplicity."
   ]
  },
  {
   "cell_type": "code",
   "execution_count": 8,
   "id": "e45f31b1",
   "metadata": {},
   "outputs": [
    {
     "name": "stdout",
     "output_type": "stream",
     "text": [
      "[1, 2, 2, 4, 2, 4, 2, 6, 4, 4, 2, 7, 2, 4, 4, 9, 2, 7, 2, 7, 4, 4, 2, 10, 4, 4, 6]\n"
     ]
    }
   ],
   "source": [
    "def ΣV(n: int) -> int:\n",
    "    return sum(V(n, k) for k in srange(n + 1))\n",
    "\n",
    "print([ΣV(n) for n in range(1, 28)])"
   ]
  },
  {
   "cell_type": "markdown",
   "id": "15b88f65",
   "metadata": {},
   "source": [
    "<p style=\"color:brown;font-size:large\">In the OEIS this function is registered as:</p>"
   ]
  },
  {
   "cell_type": "code",
   "execution_count": 9,
   "id": "c9265127",
   "metadata": {},
   "outputs": [],
   "source": [
    "A169594 = ΣV"
   ]
  },
  {
   "cell_type": "markdown",
   "id": "adeae3ec",
   "metadata": {},
   "source": [
    "<p style=\"color:brown;font-size:large\">The further development follows the same procedure as for the divisibility triangle. There, the inverse triangle is formed, which is the Moebius triangle. The inverse triangle of V, here called the Hensel triangle H, is defined recursively:"
   ]
  },
  {
   "cell_type": "code",
   "execution_count": 10,
   "id": "6477dcd7",
   "metadata": {},
   "outputs": [
    {
     "name": "stdout",
     "output_type": "stream",
     "text": [
      "[0] [1]\n",
      "[1] [0, 1]\n",
      "[2] [0, -1, 1]\n",
      "[3] [0, -1, 0, 1]\n",
      "[4] [0, 1, -2, 0, 1]\n",
      "[5] [0, -1, 0, 0, 0, 1]\n",
      "[6] [0, 1, -1, -1, 0, 0, 1]\n",
      "[7] [0, -1, 0, 0, 0, 0, 0, 1]\n",
      "[8] [0, 1, -1, 0, -1, 0, 0, 0, 1]\n",
      "[9] [0, 1, 0, -2, 0, 0, 0, 0, 0, 1]\n",
      "[10] [0, 1, -1, 0, 0, -1, 0, 0, 0, 0, 1]\n",
      "[11] [0, -1, 0, 0, 0, 0, 0, 0, 0, 0, 0, 1]\n",
      "[12] [0, 0, 1, 0, -1, 0, -1, 0, 0, 0, 0, 0, 1]\n"
     ]
    }
   ],
   "source": [
    "@cached_function\n",
    "def H(n:int, k:int) -> int:\n",
    "    if n == k: return 1\n",
    "    if k == 0: return 0^n\n",
    "    return -sum(V(n, j)*H(j, k) for j in divisors(n)[:-1])\n",
    "\n",
    "for n in range(13):\n",
    "    print([n], [H(n, k) for k in srange(n + 1)])"
   ]
  },
  {
   "cell_type": "markdown",
   "id": "88d451c0",
   "metadata": {},
   "source": [
    "<p style=\"color:brown;font-size:large\">Let's check that this is indeed the inverse matrix of V: "
   ]
  },
  {
   "cell_type": "code",
   "execution_count": 11,
   "id": "57a6b2c0",
   "metadata": {},
   "outputs": [
    {
     "name": "stdout",
     "output_type": "stream",
     "text": [
      "[ 1  0  0  0  0  0  0  0  0  0  0  0  0]\n",
      "[ 0  1  0  0  0  0  0  0  0  0  0  0  0]\n",
      "[ 0 -1  1  0  0  0  0  0  0  0  0  0  0]\n",
      "[ 0 -1  0  1  0  0  0  0  0  0  0  0  0]\n",
      "[ 0  1 -2  0  1  0  0  0  0  0  0  0  0]\n",
      "[ 0 -1  0  0  0  1  0  0  0  0  0  0  0]\n",
      "[ 0  1 -1 -1  0  0  1  0  0  0  0  0  0]\n",
      "[ 0 -1  0  0  0  0  0  1  0  0  0  0  0]\n",
      "[ 0  1 -1  0 -1  0  0  0  1  0  0  0  0]\n",
      "[ 0  1  0 -2  0  0  0  0  0  1  0  0  0]\n",
      "[ 0  1 -1  0  0 -1  0  0  0  0  1  0  0]\n",
      "[ 0 -1  0  0  0  0  0  0  0  0  0  1  0]\n",
      "[ 0  0  1  0 -1  0 -1  0  0  0  0  0  1]\n"
     ]
    }
   ],
   "source": [
    "M = matrix(ZZ, 13, V).inverse()\n",
    "print(M)"
   ]
  },
  {
   "cell_type": "markdown",
   "id": "aad7917d",
   "metadata": {},
   "source": [
    "<p style=\"color:brown;font-size:large\">The Hensel triangle and its A-number in the OEIS."
   ]
  },
  {
   "cell_type": "code",
   "execution_count": 12,
   "id": "e53b578b",
   "metadata": {},
   "outputs": [
    {
     "name": "stdout",
     "output_type": "stream",
     "text": [
      "[1, 0, 1, 0, -1, 1, 0, -1, 0, 1, 0, 1, -2, 0, 1, 0, -1, 0, 0, 0, 1, 0, 1, -1, -1, 0, 0, 1, 0, -1, 0, 0, 0, 0, 0, 1]\n"
     ]
    }
   ],
   "source": [
    "# Slightly optimized by incorporating the valuation function.\n",
    "\n",
    "@cached_function\n",
    "def H(n: int, k: int) -> int:\n",
    "    if n == k: return 1\n",
    "    if k == 0: return 0^n\n",
    "    return -sum((1 if j == 1 else valuation(n, j))*H(j, k) for j in divisors(n)[:-1])\n",
    "\n",
    "A382881 = H\n",
    "print([A382881(n, k) for n in range(8) for k in srange(n+1)])"
   ]
  },
  {
   "cell_type": "markdown",
   "id": "83ee72d9",
   "metadata": {},
   "source": [
    "<p style=\"color:brown;font-size:large\">The row sums for n >= 1 give A000007 with offset 1, which is the identity function for Dirichlet multiplication. "
   ]
  },
  {
   "cell_type": "code",
   "execution_count": 13,
   "id": "7f8935f4",
   "metadata": {},
   "outputs": [
    {
     "name": "stdout",
     "output_type": "stream",
     "text": [
      "[1, 0, 0, 0, 0, 0, 0, 0, 0, 0, 0, 0, 0, 0, 0, 0, 0, 0, 0]\n"
     ]
    }
   ],
   "source": [
    "def ΣH(n: int) -> int:\n",
    "    return sum(H(n, k) for k in srange(n + 1))\n",
    "\n",
    "print([ΣH(n) for n in range(1, 20)])"
   ]
  },
  {
   "cell_type": "markdown",
   "id": "40c8170f",
   "metadata": {},
   "source": [
    "<h1 style=\"color:#CD5C5C;background:white; line-height: 150%;\n",
    "border-top: thick solid #CD5C5C; float: left; width: 100%; margin-top: 1em;\">\n",
    "The Hensel sequence</h1>"
   ]
  },
  {
   "cell_type": "markdown",
   "id": "c38ab15d",
   "metadata": {},
   "source": [
    "<p style=\"color:brown;font-size:large\">The Hensel sequence ν is defined as column 1 of the inverse of the valuation triangle A382944. This corresponds to the definition of the Möbius function as column 1 of the inverse of the divisibility triangle A113704. We have referred to this sequence as Möbius' companion in the title."
   ]
  },
  {
   "cell_type": "code",
   "execution_count": 14,
   "id": "384e9bc1",
   "metadata": {},
   "outputs": [
    {
     "name": "stdout",
     "output_type": "stream",
     "text": [
      "[1, -1, -1, 1, -1, 1, -1, 1, 1, 1, -1, 0, -1, 1, 1, 0, -1, 0, -1, 0, 1, 1, -1, 0, 1, 1, 1, 0, -1]\n",
      "[1, -1, -1, 1, -1, 1, -1, 1, 1, 1, -1, 0, -1, 1, 1, 0, -1, 0, -1, 0, 1, 1, -1, 0, 1, 1, 1, 0, -1]\n"
     ]
    }
   ],
   "source": [
    "# The offical definition:\n",
    "# v(n) = H(n, 1)\n",
    "# Implemented by the recursive formula:\n",
    "\n",
    "@cached_function\n",
    "def va(n: int) -> int:\n",
    "    if n < 2: return n\n",
    "    return -sum(V(n, j)*va(j) for j in divisors(n)[:-1])\n",
    "\n",
    "# ... or by the alternative definition:\n",
    "# v(n) = -Sum_{d | n, 1 < d} H(n, d)\n",
    "\n",
    "@cached_function\n",
    "def vb(n: int) -> int: \n",
    "    if n < 2: return n\n",
    "    return -sum(H(n, d) for d in divisors(n)[1:])\n",
    "\n",
    "print([va(n) for n in range(1, 30)])\n",
    "print([vb(n) for n in range(1, 30)])"
   ]
  },
  {
   "cell_type": "markdown",
   "id": "713e3ee6",
   "metadata": {},
   "source": [
    "<p style=\"color:brown;font-size:large\">Optimized by calling the valuation function directly and using the fact that v(p) = -1 if p is prime, this is the final form of v that we will use:"
   ]
  },
  {
   "cell_type": "code",
   "execution_count": 15,
   "id": "f1f419d1",
   "metadata": {},
   "outputs": [
    {
     "name": "stdout",
     "output_type": "stream",
     "text": [
      "[1, -1, -1, 1, -1, 1, -1, 1, 1, 1, -1, 0, -1, 1, 1, 0, -1, 0, -1, 0, 1, 1, -1, 0, 1, 1, 1, 0, -1]\n"
     ]
    }
   ],
   "source": [
    "@cached_function\n",
    "def ν(n: int) -> int: \n",
    "    return (n if n < 2 else \n",
    "           -1 if is_prime(n) else\n",
    "           -sum(1 if d == 1 \n",
    "                else 0 if ν(d) == 0 \n",
    "                else valuation(n, d)*ν(d) \n",
    "            for d in divisors(n)[:-1]))\n",
    "\n",
    "print([ν(n) for n in range(1, 30)])"
   ]
  },
  {
   "cell_type": "markdown",
   "id": "6ab5ae17",
   "metadata": {},
   "source": [
    "<p style=\"color:brown;font-size:large\">This is how you find the Hensel sequence in the OEIS catalog:"
   ]
  },
  {
   "cell_type": "code",
   "execution_count": 16,
   "id": "18c2e1de",
   "metadata": {},
   "outputs": [
    {
     "name": "stdout",
     "output_type": "stream",
     "text": [
      "[1, -1, -1, 1, -1, 1, -1, 1, 1, 1, -1, 0, -1, 1, 1, 0, -1, 0, -1, 0, 1, 1, -1, 0, 1, 1, 1, 0, -1]\n",
      "[1, -1, -1, 1, -1, 1, -1, 1, 1, 1, -1, 0, -1, 1, 1, 0, -1, 0, -1, 0, 1, 1, -1, 0, 1, 1, 1, 0, -1]\n"
     ]
    }
   ],
   "source": [
    "A382883 = ν\n",
    "print([A382883(n) for n in srange(1, 30)])\n",
    "print([A382881(n, 1) for n in srange(1, 30)])"
   ]
  },
  {
   "cell_type": "markdown",
   "id": "3046031c",
   "metadata": {},
   "source": [
    "<p style=\"color:brown;font-size:large\">The three fibers of the Hensel sequence."
   ]
  },
  {
   "cell_type": "code",
   "execution_count": 17,
   "id": "1606a347",
   "metadata": {},
   "outputs": [
    {
     "name": "stdout",
     "output_type": "stream",
     "text": [
      "[12, 16, 18, 20, 24, 28, 40, 44, 45, 48, 50, 52, 54, 56]\n",
      "[2, 3, 5, 7, 11, 13, 17, 19, 23, 29, 30, 31, 36, 37, 41, 42, 43, 47, 53, 59]\n",
      "[1, 4, 6, 8, 9, 10, 14, 15, 21, 22, 25, 26, 27, 32, 33, 34, 35, 38, 39, 46, 49, 51, 55, 57, 58]\n"
     ]
    }
   ],
   "source": [
    "def A382943List(upto) -> list[int]: \n",
    "    return [n for n in srange(1, upto) if ν(n) == 0]\n",
    "\n",
    "def A383017List(upto) -> list[int]: \n",
    "    return [n for n in srange(1, upto) if ν(n) == -1]\n",
    "\n",
    "def A383016List(upto) -> list[int]: \n",
    "    return [n for n in srange(1, upto) if ν(n) == 1]\n",
    "\n",
    "print(A382943List(60))\n",
    "print(A383017List(60))\n",
    "print(A383016List(60))"
   ]
  },
  {
   "cell_type": "markdown",
   "id": "e1477650",
   "metadata": {},
   "source": [
    "<p style=\"color:brown;font-size:large\">... and, for convenience, also the case v(n) != 0:"
   ]
  },
  {
   "cell_type": "code",
   "execution_count": 18,
   "id": "0ec13cf5",
   "metadata": {},
   "outputs": [
    {
     "name": "stdout",
     "output_type": "stream",
     "text": [
      "[1, 2, 3, 4, 5, 6, 7, 8, 9, 10, 11, 13, 14, 15, 17, 19, 21, 22, 23, 25, 26, 27, 29]\n"
     ]
    }
   ],
   "source": [
    "def A383106List(upto) -> list[int]: \n",
    "    return [n for n in srange(1, upto) if ν(n) != 0]\n",
    "\n",
    "print(A383106List(30))"
   ]
  },
  {
   "cell_type": "markdown",
   "id": "ec0bbb93",
   "metadata": {},
   "source": [
    "<p style=\"color:brown;font-size:large\">The summatory function of ν is the counterpart of the Mertens function A002321 and has the OEIS-ID A382942."
   ]
  },
  {
   "cell_type": "code",
   "execution_count": 19,
   "id": "54dc7b22",
   "metadata": {},
   "outputs": [
    {
     "name": "stdout",
     "output_type": "stream",
     "text": [
      "[1, 0, -1, 0, -1, 0, -1, 0, 1, 2, 1, 1, 0, 1, 2, 2, 1, 1, 0, 0, 1, 2, 1, 1, 2, 3, 4, 4, 3]\n",
      "[1, 0, -1, 0, -1, 0, -1, 0, 1, 2, 1, 1, 0, 1, 2, 2, 1, 1, 0, 0, 1, 2, 1, 1, 2, 3, 4, 4, 3]\n"
     ]
    }
   ],
   "source": [
    "def Σν(n: int) -> int:\n",
    "    return sum(ν(k) for k in range(n+1))\n",
    "\n",
    "A382942 = Σν\n",
    "\n",
    "print([Σν(n) for n in range(1, 30)])\n",
    "print([A382942(n) for n in range(1, 30)])"
   ]
  },
  {
   "cell_type": "markdown",
   "id": "908d8975",
   "metadata": {},
   "source": [
    "<h1 style=\"color:#CD5C5C;background:white; line-height: 150%;\n",
    "border-top: thick solid #CD5C5C; float: left; width: 100%; margin-top: 1em;\">\n",
    "Classifying the integers with mu and nu</h1>"
   ]
  },
  {
   "cell_type": "markdown",
   "id": "6b0b91f2",
   "metadata": {},
   "source": [
    "<p style=\"color:brown;font-size:large\">The pair (µ, ν) can be used to classify the integers, i.e., divide them into mutually exclusive classes. Nine cases are to be considered, and they generate five nonempty classes.</p>"
   ]
  },
  {
   "cell_type": "code",
   "execution_count": 20,
   "id": "99f70c62",
   "metadata": {},
   "outputs": [
    {
     "name": "stdout",
     "output_type": "stream",
     "text": [
      "[12, 16, 18, 20, 24, 28, 40, 44, 45, 48, 50, 52, 54, 56, 60]\n",
      "[36, 64, 100, 196, 216, 225, 441, 484, 676, 729, 1000, 1024]\n",
      "[4, 8, 9, 25, 27, 32, 49, 121, 125, 128, 169, 243, 289, 343]\n",
      "[1, 6, 10, 14, 15, 21, 22, 26, 33, 34, 35, 38, 39, 46, 51, 55]\n",
      "[2, 3, 5, 7, 11, 13, 17, 19, 23, 29, 30, 31, 37, 41, 42, 43]\n"
     ]
    }
   ],
   "source": [
    "def munu(a: int, b: int, length: int = 60) -> None:\n",
    "    print([n for n in range(1, length+1) if µ(n) == a and ν(n) == b][:16])\n",
    "\n",
    "munu( 0,  0, 60)     # A382943 solutions to nu(n) = 0.\n",
    "munu( 0, -1, 1050)   # A383018\n",
    "munu( 0,  1, 350)    # A383103\n",
    "munu( 1,  1, 60)     # A030229 solutions to mu(n) =  1.\n",
    "munu(-1, -1, 50)     # A030059 solutions to mu(n) = -1."
   ]
  },
  {
   "cell_type": "markdown",
   "id": "463b3b04",
   "metadata": {},
   "source": [
    "|           | ν(n) = -1 |  ν(n) = 0 | ν(n) = 1 |\n",
    "| :-        | :-----:   | :-----:   | :------: |\n",
    "| µ(n) = -1 | A030059   | [ ]       | [ ]      |\n",
    "| µ(n) = 0  | A383018   | A382943   | A383103  |\n",
    "| µ(n) = 1  | [ ]       | [ ]       | A030229  |"
   ]
  },
  {
   "cell_type": "markdown",
   "id": "e4d0262b",
   "metadata": {},
   "source": [
    "<p style=\"color:brown;font-size:large\">This can be represented as a decomposition of the natural numbers.</p>"
   ]
  },
  {
   "cell_type": "markdown",
   "id": "8ebba890",
   "metadata": {},
   "source": [
    "<img src=\"Classification.png\" width=540 height=240 />"
   ]
  },
  {
   "cell_type": "markdown",
   "id": "17f22634",
   "metadata": {},
   "source": [
    "<p style=\"color:brown;font-size:large\">Related sequences:"
   ]
  },
  {
   "cell_type": "code",
   "execution_count": 21,
   "id": "c3813032",
   "metadata": {},
   "outputs": [
    {
     "name": "stdout",
     "output_type": "stream",
     "text": [
      "[4, 8, 9, 25, 27, 32, 36, 49, 64, 100, 121, 125, 128, 169, 196, 216, 225, 243, 289, 343, 361]\n"
     ]
    }
   ],
   "source": [
    "print([n for n in range(1, 362)  if µ(n) != ν(n)])     # A383105"
   ]
  },
  {
   "cell_type": "markdown",
   "id": "b9a296f9",
   "metadata": {},
   "source": [
    "<p style=\"color:brown;font-size:large\">Numbers such that µ(n) = ν(n), are similar but not identical to A259444."
   ]
  },
  {
   "cell_type": "code",
   "execution_count": 22,
   "id": "18f0b82f",
   "metadata": {},
   "outputs": [
    {
     "name": "stdout",
     "output_type": "stream",
     "text": [
      "[1, 2, 3, 5, 6, 7, 10, 11, 12, 13, 14, 15, 16, 17, 18, 19, 20, 21, 22, 23, 24, 26, 28, 29]\n"
     ]
    }
   ],
   "source": [
    "print([n for n in range(1, 30) if µ(n) == ν(n)]) "
   ]
  },
  {
   "cell_type": "markdown",
   "id": "ab3cfa8b",
   "metadata": {},
   "source": [
    "<p style=\"color:brown;font-size:large\">Note that ν(n) = 0 implies µ(n) = 0. In other words, if ν(n) = 0 then n is divisible by the square of a prime."
   ]
  },
  {
   "cell_type": "code",
   "execution_count": 23,
   "id": "aacf2e55",
   "metadata": {},
   "outputs": [
    {
     "data": {
      "text/plain": [
       "{0}"
      ]
     },
     "execution_count": 23,
     "metadata": {},
     "output_type": "execute_result"
    }
   ],
   "source": [
    "# This is a test that if v(n) = 0 then µ(n) = 0.\n",
    "\n",
    "A = [n for n in range(1, 4362) if ν(n) == 0]\n",
    "set([µ(n) for n in A])"
   ]
  },
  {
   "cell_type": "markdown",
   "id": "5dea301d",
   "metadata": {},
   "source": [
    "<p style=\"color:brown;font-size:large\">CONJECTURE: ν(n) = 0  <=> n is A059404 or n is A217261.<br>\n",
    "A059404 are the numbers with different exponents in their prime factorization."
   ]
  },
  {
   "cell_type": "code",
   "execution_count": 24,
   "id": "2bf786d1",
   "metadata": {},
   "outputs": [
    {
     "data": {
      "text/plain": [
       "{0}"
      ]
     },
     "execution_count": 24,
     "metadata": {},
     "output_type": "execute_result"
    }
   ],
   "source": [
    "# Test that if n is in A059404 then v(n) = 0. \n",
    "\n",
    "def isA059404(n) -> bool: \n",
    "    return 1 < len(set(valuation(n, p) for p in prime_divisors(n)))\n",
    "\n",
    "A = [n for n in range(1, 190) if isA059404(n)]\n",
    "set([ν(n) for n in A])"
   ]
  },
  {
   "cell_type": "markdown",
   "id": "79c6efe9",
   "metadata": {},
   "source": [
    "<p style=\"color:brown;font-size:large\">A217261 are the numbers of the form i^j^k, for i, j, k > 1."
   ]
  },
  {
   "cell_type": "code",
   "execution_count": 25,
   "id": "3b51f9a7",
   "metadata": {},
   "outputs": [
    {
     "name": "stdout",
     "output_type": "stream",
     "text": [
      "[4, 9, 16, 16*sqrt(2), 25, 36, 49, 64, 81, 100, 121, 81*sqrt(3), 144, 169, 196, 225, 256, 289, 324, 361]\n"
     ]
    },
    {
     "data": {
      "text/plain": [
       "{0}"
      ]
     },
     "execution_count": 25,
     "metadata": {},
     "output_type": "execute_result"
    }
   ],
   "source": [
    "# Test that if n is in A217261 then v(n) = 0. \n",
    "\n",
    "B = [16, 81, 256, 512, 625, 1296, 2401, 4096, 6561, 10000, 14641, 19683, 20736, \n",
    "     28561, 38416, 50625, 65536, 83521, 104976, 130321, 160000, 194481, 234256, \n",
    "     262144, 279841, 331776, 390625, 456976, 531441, 614656, 707281, 810000, \n",
    "     923521, 1048576, 1185921]\n",
    "\n",
    "print([sqrt(n) for n in B[:20]])  # See A188915 Union of squares and powers of 2.\n",
    "set([ν(n) for n in B])"
   ]
  },
  {
   "cell_type": "markdown",
   "id": "738da6b3",
   "metadata": {},
   "source": [
    "<p style=\"color:brown;font-size:large\">A053810 are the numbers of the form p^e where both p and e are prime numbers.<br>CONJECTURE: If n is in A053810 then ν(n) = 1."
   ]
  },
  {
   "cell_type": "code",
   "execution_count": 26,
   "id": "7bf3ce93",
   "metadata": {},
   "outputs": [
    {
     "name": "stdout",
     "output_type": "stream",
     "text": [
      "{1}\n"
     ]
    }
   ],
   "source": [
    "# Test that if n is in A053810 then v(n) = 1. \n",
    "\n",
    "def isA053810(n: int) -> bool:\n",
    "    p = prime_divisors(n)\n",
    "    return len(p) == 1 and is_prime(valuation(n, p[0]))\n",
    "\n",
    "S = set([ν(n) for n in range(1, 20000) if isA053810(n)])\n",
    "print(S)"
   ]
  },
  {
   "cell_type": "markdown",
   "id": "4aebb062",
   "metadata": {},
   "source": [
    "<p style=\"color:brown;font-size:large\">Illustrating the different indicator functions:"
   ]
  },
  {
   "cell_type": "code",
   "execution_count": 27,
   "id": "e69361d5",
   "metadata": {},
   "outputs": [
    {
     "name": "stdout",
     "output_type": "stream",
     "text": [
      "   1 |  1 |  1 |  0 |  0 | 1           \n",
      "   2 | -1 | -1 |  0 |  0 | 2           \n",
      "   3 | -1 | -1 |  0 |  0 | 3           \n",
      "   4 |  1 |  0 |  1 |  0 | 2^2         \n",
      "   5 | -1 | -1 |  0 |  0 | 5           \n",
      "   6 |  1 |  1 |  0 |  0 | 2 * 3       \n",
      "   7 | -1 | -1 |  0 |  0 | 7           \n",
      "   8 |  1 |  0 |  1 |  0 | 2^3         \n",
      "   9 |  1 |  0 |  1 |  0 | 3^2         \n",
      "  10 |  1 |  1 |  0 |  0 | 2 * 5       \n",
      "  11 | -1 | -1 |  0 |  0 | 11          \n",
      "  12 |  0 |  0 |  0 |  1 | 2^2 * 3     \n",
      "  13 | -1 | -1 |  0 |  0 | 13          \n",
      "  14 |  1 |  1 |  0 |  0 | 2 * 7       \n",
      "  15 |  1 |  1 |  0 |  0 | 3 * 5       \n",
      "  16 |  0 |  0 |  0 |  0 | 2^4         \n",
      "  17 | -1 | -1 |  0 |  0 | 17          \n",
      "  18 |  0 |  0 |  0 |  1 | 2 * 3^2     \n",
      "  19 | -1 | -1 |  0 |  0 | 19          \n",
      "  99 |  0 |  0 |  0 |  1 | 3^2 * 11    \n",
      " 127 | -1 | -1 |  0 |  0 | 127         \n",
      "2197 |  1 |  0 |  1 |  0 | 13^3        \n"
     ]
    }
   ],
   "source": [
    "def indicators(n: int) -> str:\n",
    "    f = factor(n)\n",
    "    return f\"{n:>4} | {ν(n):>2} | {moebius(n):>2} | {int(isA053810(n)):>2} | {int(isA059404(n)):>2} | {str(f):<12}\"\n",
    "\n",
    "for n in range(1, 20):\n",
    "    print(indicators(n))\n",
    "    \n",
    "print(indicators(99))\n",
    "print(indicators(127))\n",
    "print(indicators(2197))"
   ]
  },
  {
   "cell_type": "markdown",
   "id": "8aaefd1e",
   "metadata": {},
   "source": [
    "<h1 style=\"color:#CD5C5C;background:white; line-height: 150%;\n",
    "border-top: thick solid #CD5C5C; float: left; width: 100%; margin-top: 1em;\">\n",
    "Von Mangoldt joins the party</h1>"
   ]
  },
  {
   "cell_type": "code",
   "execution_count": 28,
   "id": "bccf3bf0",
   "metadata": {},
   "outputs": [],
   "source": [
    "def νMangoldt(n: int) -> int:\n",
    "    return simplify(exp(sum(ν(d)*log(n//d) for d in divisors(n))))\n",
    "\n",
    "def µMangoldt(n: int) -> int:\n",
    "    return simplify(exp(sum(µ(d)*log(n//d) for d in divisors(n))))"
   ]
  },
  {
   "cell_type": "code",
   "execution_count": 29,
   "id": "4155b40a",
   "metadata": {},
   "outputs": [
    {
     "name": "stdout",
     "output_type": "stream",
     "text": [
      "[1, 2, 3, 2, 5, 1, 7, 4, 3, 1, 11, 3, 13, 1, 1, 16, 17, 2, 19, 5, 1, 1, 23, 18, 5, 1, 9, 7, 29]\n",
      "[1, 2, 3, 2, 5, 1, 7, 2, 3, 1, 11, 1, 13, 1, 1, 2, 17, 1, 19, 1, 1, 1, 23, 1, 5, 1, 3, 1, 29]\n"
     ]
    }
   ],
   "source": [
    "print([νMangoldt(n) for n in srange(1, 30)])    # A014963\n",
    "print([µMangoldt(n) for n in srange(1, 30)])    # A382941"
   ]
  },
  {
   "cell_type": "markdown",
   "id": "a57ed055",
   "metadata": {},
   "source": [
    "<p style=\"color:brown;font-size:large\">Using the product rule for the logarithm the function µMangoldt could also be defined as:"
   ]
  },
  {
   "cell_type": "code",
   "execution_count": 30,
   "id": "4c071b7f",
   "metadata": {},
   "outputs": [
    {
     "name": "stdout",
     "output_type": "stream",
     "text": [
      "[1, 2, 3, 2, 5, 1, 7, 2, 3, 1, 11, 1, 13, 1, 1, 2, 17, 1, 19, 1, 1, 1, 23, 1, 5, 1, 3, 1, 29]\n"
     ]
    }
   ],
   "source": [
    "def µM(n: int) -> int:\n",
    "    return simplify(exp(-sum(µ(d)*log(d) for d in divisors(n))))\n",
    "\n",
    "print([µM(n) for n in srange(1, 30)])"
   ]
  },
  {
   "cell_type": "markdown",
   "id": "b0e01cc5",
   "metadata": {},
   "source": [
    "<p style=\"color:brown;font-size:large\">But when you try the same trick with the ν function this will not work:"
   ]
  },
  {
   "cell_type": "code",
   "execution_count": 31,
   "id": "1779cedc",
   "metadata": {},
   "outputs": [
    {
     "name": "stdout",
     "output_type": "stream",
     "text": [
      "[1, 2, 3, 1/2, 5, 1, 7, 1/16, 1/3, 1, 11, 1/4, 13, 1, 1, 1/16, 17, 1/9, 19, 1/4, 1, 1, 23, 1/32]\n"
     ]
    }
   ],
   "source": [
    "def νM(n: int) -> int:\n",
    "    return simplify(exp(-sum(ν(d)*log(d) for d in divisors(n))))\n",
    "\n",
    "print([νM(n) for n in srange(1, 25)])"
   ]
  },
  {
   "cell_type": "code",
   "execution_count": 32,
   "id": "08627d56",
   "metadata": {},
   "outputs": [
    {
     "name": "stdout",
     "output_type": "stream",
     "text": [
      "[2, 3, 5, 7, 11, 13, 17, 19, 23, 29, 31, 37, 41, 43, 47, 53, 59]\n",
      "[1, 2, 3, 5, 6, 7, 10, 11, 13, 14, 15, 17, 19, 21, 22, 23, 26, 29]\n",
      "[4, 8, 9, 12, 16, 18, 20, 24, 25, 27, 28, 32, 40, 44, 45, 48, 49]\n",
      "[1, 6, 10, 14, 15, 21, 22, 26, 30, 33, 34, 35, 36, 38, 39, 42, 46]\n",
      "---\n",
      "186624 1 [2^4 * 3^3] [2^8 * 3^6] 186624\n"
     ]
    }
   ],
   "source": [
    "print([n for n in srange(1, 60) if νM(n) >  1])  # \n",
    "print([n for n in srange(1, 30) if νM(n) >= 1])  # NOT A005117!\n",
    "print([n for n in srange(1, 50) if νM(n) <  1])  # A013929\n",
    "print([n for n in srange(1, 50) if νM(n) == 1])  # \n",
    "print(\"---\")\n",
    "# Compare with other sequences at 432!\n",
    "print(νMangoldt(432), νM(432), [factor(432)], [factor(186624)], 432^2)"
   ]
  },
  {
   "cell_type": "markdown",
   "id": "913cb9f2",
   "metadata": {},
   "source": [
    "<p style=\"color:brown;font-size:large\">On OEIS use the names:"
   ]
  },
  {
   "cell_type": "code",
   "execution_count": 33,
   "id": "b5702832",
   "metadata": {},
   "outputs": [],
   "source": [
    "A382941 = νMangoldt\n",
    "A014963 = µMangoldt"
   ]
  },
  {
   "cell_type": "code",
   "execution_count": 34,
   "id": "95d1a183",
   "metadata": {},
   "outputs": [
    {
     "name": "stdout",
     "output_type": "stream",
     "text": [
      "[1, 6, 10, 12, 14, 15, 18, 20, 21, 22, 24, 26, 28, 30, 33, 34, 35, 36, 38, 39]\n",
      "[1, 6, 10, 14, 15, 21, 22, 26, 30, 33, 34, 35, 38, 39, 42, 46, 51, 55, 57, 58]\n"
     ]
    }
   ],
   "source": [
    "# Complement of the prime powers A246655 in the positive integers:\n",
    "print([n for n in srange(1, 40) if µMangoldt(n) == 1])  # A361102 = {1} + A024619 \n",
    "\n",
    "# Nonprime squarefree numbers:\n",
    "print([n for n in srange(1, 60) if νMangoldt(n) == 1])  # A000469 = {1} + A120944 "
   ]
  },
  {
   "cell_type": "markdown",
   "id": "b02e956a",
   "metadata": {},
   "source": [
    "<p style=\"color:brown;font-size:large\">One of the (many) reasons why A246655 are THE PRIME POWERS 💪:"
   ]
  },
  {
   "cell_type": "code",
   "execution_count": 35,
   "id": "b773c7fe",
   "metadata": {},
   "outputs": [
    {
     "name": "stdout",
     "output_type": "stream",
     "text": [
      "[2, 3, 4, 5, 7, 8, 9, 11, 13, 16, 17, 19, 23, 25, 27, 29, 31, 32, 37]\n",
      "[2, 3, 4, 5, 7, 8, 9, 11, 12, 13, 16, 17, 18, 19, 20, 23, 24, 25, 27, 28, 29]\n"
     ]
    }
   ],
   "source": [
    "print([n for n in srange(1, 40) if µMangoldt(n) != 1])  # A246655\n",
    "print([n for n in srange(1, 30) if νMangoldt(n) != 1])  # A383263"
   ]
  },
  {
   "cell_type": "markdown",
   "id": "45442477",
   "metadata": {},
   "source": [
    "<p style=\"color:brown;font-size:large\">isA383263(n) <=> νMangoldt(n) != 1 <=> is_prime_power(n) or not is_squarefree(n) <=> is_prime(n) or not is_squarefree(n)."
   ]
  },
  {
   "cell_type": "code",
   "execution_count": 36,
   "id": "8fd787d5",
   "metadata": {},
   "outputs": [
    {
     "name": "stdout",
     "output_type": "stream",
     "text": [
      "[2, 3, 4, 5, 7, 8, 9, 11, 12, 13, 16, 17, 18, 19, 20, 23, 24, 25, 27, 28, 29]\n",
      "[2, 3, 4, 5, 7, 8, 9, 11, 12, 13, 16, 17, 18, 19, 20, 23, 24, 25, 27, 28, 29]\n"
     ]
    }
   ],
   "source": [
    "def isA383263(n: int) -> bool:\n",
    "    return is_prime(n) or not is_squarefree(n)\n",
    "\n",
    "print([n for n in range(1, 30) if isA383263(n)])\n",
    "print([n for n in range(1, 30) if is_prime_power(n) or not is_squarefree(n)])"
   ]
  },
  {
   "cell_type": "markdown",
   "id": "9bf264bd",
   "metadata": {},
   "source": [
    "<p style=\"color:brown;font-size:large\">Now let's restrict the summation to prime divisors. "
   ]
  },
  {
   "cell_type": "code",
   "execution_count": 37,
   "id": "a32e97af",
   "metadata": {},
   "outputs": [],
   "source": [
    "def νpMangoldt(n: int) -> int:\n",
    "    return simplify(exp(-sum(ν(d)*log(n//d) for d in prime_divisors(n))))\n",
    "\n",
    "def µpMangoldt(n: int) -> int:\n",
    "    return simplify(exp(-sum(moebius(d)*log(n//d) for d in prime_divisors(n))))"
   ]
  },
  {
   "cell_type": "code",
   "execution_count": 38,
   "id": "48b11992",
   "metadata": {},
   "outputs": [
    {
     "name": "stdout",
     "output_type": "stream",
     "text": [
      "[1, 1, 1, 2, 1, 6, 1, 4, 3, 10, 1, 24, 1, 14, 15, 8, 1, 54, 1, 40, 21, 22, 1, 96]\n",
      "[1, 1, 1, 2, 1, 6, 1, 4, 3, 10, 1, 24, 1, 14, 15, 8, 1, 54, 1, 40, 21, 22, 1, 96]\n"
     ]
    }
   ],
   "source": [
    "print([νpMangoldt(n) for n in srange(1, 25)])\n",
    "print([µpMangoldt(n) for n in srange(1, 25)])"
   ]
  },
  {
   "cell_type": "markdown",
   "id": "75b85755",
   "metadata": {},
   "source": [
    "<p style=\"color:brown\">We see νpMangoldt = µpMangoldt. Moreover, this sequence was introduced by yours truly in Feb 2012 to the OEIS. In exactly this meaning, as you can see from the first sentence of the commentary, which was the original name. According to a formula from Charles R Greathouse IV we also have:</p>\n",
    "<p style=\"color:brown;font-size:large\">νpMangoldt(n) = µpMangoldt(n) = n^omega(n)/rad(n) = A205959(n).</p>"
   ]
  },
  {
   "cell_type": "code",
   "execution_count": 39,
   "id": "5cf19d5d",
   "metadata": {},
   "outputs": [
    {
     "name": "stdout",
     "output_type": "stream",
     "text": [
      "[1, 1, 1, 2, 1, 6, 1, 4, 3, 10, 1, 24, 1, 14, 15, 8, 1, 54, 1, 40, 21, 22, 1, 96]\n",
      "[1, 2, 3, 5, 6, 12, 13, 17, 20, 30, 31, 55, 56, 70, 85, 93, 94, 148, 149, 189, 210]\n"
     ]
    }
   ],
   "source": [
    "def A205959(n: int) -> int:\n",
    "    return n^omega(n)/ZZ(n).radical()\n",
    "\n",
    "print([A205959(n) for n in srange(1, 25)])\n",
    "\n",
    "# def A205959(n): return prod(n//p for p in prime_divisors(n)) \n",
    "\n",
    "def A383438(n: int) -> int:\n",
    "    return sum([A205959(k) for k in srange(1, n+1)])\n",
    "print([A383438(n) for n in range(1, 22)])"
   ]
  },
  {
   "cell_type": "markdown",
   "id": "5bf0e60e",
   "metadata": {},
   "source": [
    "<p style=\"color:brown;font-size:large\">Look at the logarithmic scatterplot of A205959 that reveals an interesting shell model."
   ]
  },
  {
   "cell_type": "code",
   "execution_count": 40,
   "id": "c1ba2378",
   "metadata": {},
   "outputs": [
    {
     "name": "stdout",
     "output_type": "stream",
     "text": [
      "[1, 2, 3, 5, 6, 12, 13, 17, 20, 30, 31, 55, 56, 70, 85, 93, 94, 148, 149, 189, 210, 232, 233]\n"
     ]
    }
   ],
   "source": [
    "def A383438List(len: int) -> list[int]:\n",
    "    return list(accumulate([prod(n/p for p in prime_divisors(n)) for n in range(1, len+1)]))\n",
    "\n",
    "print(A383438List(23))"
   ]
  },
  {
   "cell_type": "markdown",
   "id": "259b22b7",
   "metadata": {},
   "source": [
    "<p style=\"color:brown;font-size:large\">Summatory functions:"
   ]
  },
  {
   "cell_type": "code",
   "execution_count": 41,
   "id": "783447a5",
   "metadata": {},
   "outputs": [],
   "source": [
    "def ΣνMangoldt(len: int) -> list[int]:\n",
    "    return list(accumulate([νMangoldt(n) for n in srange(1, len)]))\n",
    "\n",
    "def ΣµMangoldt(len: int) -> list[int]:\n",
    "    return list(accumulate([µMangoldt(n) for n in srange(1, len)]))"
   ]
  },
  {
   "cell_type": "code",
   "execution_count": 42,
   "id": "49d2569f",
   "metadata": {},
   "outputs": [
    {
     "name": "stdout",
     "output_type": "stream",
     "text": [
      "[1, 3, 6, 8, 13, 14, 21, 25, 28, 29, 40, 43, 56, 57, 58, 74, 91, 93, 112, 117, 118]\n",
      "[1, 3, 6, 8, 13, 14, 21, 23, 26, 27, 38, 39, 52, 53, 54, 56, 73, 74, 93, 94, 95]\n"
     ]
    }
   ],
   "source": [
    "print(ΣνMangoldt(22))\n",
    "print(ΣµMangoldt(22))"
   ]
  },
  {
   "cell_type": "markdown",
   "id": "a3540390",
   "metadata": {},
   "source": [
    "<p style=\"color:brown;font-size:large\">On OEIS you see this:"
   ]
  },
  {
   "cell_type": "code",
   "execution_count": 43,
   "id": "0c8248f1",
   "metadata": {},
   "outputs": [],
   "source": [
    "missing = ΣνMangoldt\n",
    "A072107 = ΣµMangoldt"
   ]
  },
  {
   "cell_type": "markdown",
   "id": "b478a811",
   "metadata": {},
   "source": [
    "<h1 style=\"color:#CD5C5C;background:white; line-height: 150%;\n",
    "border-top: thick solid #CD5C5C; float: left; width: 100%; margin-top: 1em;\">\n",
    "Transforms à la Dirichlet</h1>"
   ]
  },
  {
   "cell_type": "markdown",
   "id": "4bb58e41",
   "metadata": {},
   "source": [
    "<p style=\"color:brown;font-size:large\">Notation for tranforms:\n",
    "\n",
    "Given the arithmetic function $ \\alpha $, we call the Dirichlet convolution $ \\alpha * g $ the $ \\alpha $-transform and write\n",
    "\n",
    "$\n",
    "   \\quad \\quad \\alpha T : (g, n) \\mapsto \\sum_{d \\mid n} \\alpha\\!\\left(\\frac{n}{d}\\right) \\, g(d).\n",
    "$\n",
    "\n",
    "Thus in particular **µT** is the Möbius transform and **νT** its companion transform."
   ]
  },
  {
   "cell_type": "code",
   "execution_count": 44,
   "id": "16603542",
   "metadata": {},
   "outputs": [],
   "source": [
    "def vT(b, n) -> int:\n",
    "    return sum(ν(n//d)*b(d) for d in divisors(n))\n",
    "\n",
    "def µT(b, n) -> int:\n",
    "    return sum(µ(n//d)*b(d) for d in divisors(n))"
   ]
  },
  {
   "cell_type": "markdown",
   "id": "ec7920b2",
   "metadata": {},
   "source": [
    "<p style=\"color:brown;font-size:large\">Three classical examples for the transforms:\n",
    "\n",
    "* U: n -> 1 <br>\n",
    "* N: n -> n <br>\n",
    "* I: n -> 1 if n = 1 else 0"
   ]
  },
  {
   "cell_type": "code",
   "execution_count": 45,
   "id": "106dc3bf",
   "metadata": {},
   "outputs": [
    {
     "name": "stdout",
     "output_type": "stream",
     "text": [
      "[1, 0, 0, 1, 0, 0, 0, 2, 1, 0, 0, 1, 0, 0, 0, 2, 0, 1, 0, 1, 0, 0, 0, 2, 1, 0, 2, 1, 0]\n",
      "[1, 0, 0, 0, 0, 0, 0, 0, 0, 0, 0, 0, 0, 0, 0, 0, 0, 0, 0, 0, 0, 0, 0, 0, 0, 0, 0, 0, 0]\n"
     ]
    }
   ],
   "source": [
    "U = lambda n: 1\n",
    "\n",
    "print([vT(U, n) for n in srange(1, 30)])  # A383104\n",
    "print([µT(U, n) for n in srange(1, 30)])  # A000007"
   ]
  },
  {
   "cell_type": "markdown",
   "id": "34623a2b",
   "metadata": {},
   "source": [
    "<p style=\"color:brown;font-size:large\">On the OEIS you see this: A383104, similar to A366988; apparently with the same indicator function for n > 1."
   ]
  },
  {
   "cell_type": "code",
   "execution_count": 46,
   "id": "fb58e6ad",
   "metadata": {},
   "outputs": [
    {
     "name": "stdout",
     "output_type": "stream",
     "text": [
      "[1, 1, 2, 3, 4, 2, 6, 7, 7, 4, 10, 7, 12, 6, 8, 14, 16, 8, 18, 13, 12, 10, 22, 17, 21, 12, 22, 19, 28]\n",
      "[1, 1, 2, 2, 4, 2, 6, 4, 6, 4, 10, 4, 12, 6, 8, 8, 16, 6, 18, 8, 12, 10, 22, 8, 20, 12, 18, 12, 28]\n"
     ]
    }
   ],
   "source": [
    "N = lambda n: n\n",
    "\n",
    "print([vT(N, n) for n in srange(1, 30)])  # A383124\n",
    "print([µT(N, n) for n in srange(1, 30)])  # A000010"
   ]
  },
  {
   "cell_type": "markdown",
   "id": "c02e3932",
   "metadata": {},
   "source": [
    "<p style=\"color:brown;font-size:large\">This is A383124 in the case ν and Euler's totient function A000010 in the case µ.<br>\n",
    "The first sequence is missing in OEIS and the second is µ A008683."
   ]
  },
  {
   "cell_type": "code",
   "execution_count": 47,
   "id": "7c3b1888",
   "metadata": {},
   "outputs": [
    {
     "name": "stdout",
     "output_type": "stream",
     "text": [
      "[1, -1, -1, 1, -1, 1, -1, 1, 1, 1, -1, 0, -1, 1, 1, 0, -1, 0, -1, 0, 1, 1, -1, 0, 1, 1, 1, 0, -1]\n",
      "[1, -1, -1, 0, -1, 1, -1, 0, 0, 1, -1, 0, -1, 1, 1, 0, -1, 0, -1, 0, 1, 1, -1, 0, 0, 1, 0, 0, -1]\n"
     ]
    }
   ],
   "source": [
    "I = lambda n: 1 if n == 1 else 0\n",
    "\n",
    "print([vT(I, n) for n in srange(1, 30)])  # missing\n",
    "print([µT(I, n) for n in srange(1, 30)])  # A008683"
   ]
  },
  {
   "cell_type": "markdown",
   "id": "9f22f486",
   "metadata": {},
   "source": [
    "<p style=\"color:brown;font-size:large\">We now implement the transformations in a more elegant way as sequence-to-sequence transformations:"
   ]
  },
  {
   "cell_type": "code",
   "execution_count": 48,
   "id": "a0de0885",
   "metadata": {},
   "outputs": [],
   "source": [
    "def νT(b: Callable[[int], int]) -> Callable[[int], int]:\n",
    "    def νb(n: int) -> int:\n",
    "        return sum(ν(n//d)*b(d) for d in divisors(n))\n",
    "    return νb"
   ]
  },
  {
   "cell_type": "code",
   "execution_count": 49,
   "id": "bac3f452",
   "metadata": {},
   "outputs": [
    {
     "name": "stdout",
     "output_type": "stream",
     "text": [
      "[1, 0, 0, 1, 0, 0, 0, 2, 1, 0, 0, 1, 0, 0, 0, 2, 0, 1, 0, 1, 0, 0, 0, 2, 1, 0, 2, 1, 0]\n",
      "[1, 1, 2, 3, 4, 2, 6, 7, 7, 4, 10, 7, 12, 6, 8, 14, 16, 8, 18, 13, 12, 10, 22, 17, 21, 12, 22, 19, 28]\n",
      "[1, -1, -1, 1, -1, 1, -1, 1, 1, 1, -1, 0, -1, 1, 1, 0, -1, 0, -1, 0, 1, 1, -1, 0, 1, 1, 1, 0, -1]\n"
     ]
    }
   ],
   "source": [
    "νU = νT(U) \n",
    "νN = νT(N) \n",
    "νI = νT(I)\n",
    "\n",
    "print([νU(n) for n in range(1, 30)])  # A383104\n",
    "print([νN(n) for n in range(1, 30)])  # A383124\n",
    "print([νI(n) for n in range(1, 30)])  # A382883"
   ]
  },
  {
   "cell_type": "code",
   "execution_count": 50,
   "id": "c5b05db9",
   "metadata": {},
   "outputs": [],
   "source": [
    "def µT(b: Callable[[int], int]) -> Callable[[int], int]:\n",
    "    def µb(n: int) -> int:\n",
    "        return sum(µ(n//d)*b(d) for d in divisors(n))\n",
    "    return µb"
   ]
  },
  {
   "cell_type": "code",
   "execution_count": 51,
   "id": "e63ea671",
   "metadata": {},
   "outputs": [
    {
     "name": "stdout",
     "output_type": "stream",
     "text": [
      "[1, 0, 0, 0, 0, 0, 0, 0, 0, 0, 0, 0, 0, 0, 0, 0, 0, 0, 0, 0, 0, 0, 0, 0, 0, 0, 0, 0, 0]\n",
      "[1, 1, 2, 2, 4, 2, 6, 4, 6, 4, 10, 4, 12, 6, 8, 8, 16, 6, 18, 8, 12, 10, 22, 8, 20, 12, 18, 12, 28]\n",
      "[1, -1, -1, 0, -1, 1, -1, 0, 0, 1, -1, 0, -1, 1, 1, 0, -1, 0, -1, 0, 1, 1, -1, 0, 0, 1, 0, 0, -1]\n"
     ]
    }
   ],
   "source": [
    "µU = µT(U) \n",
    "µN = µT(N) \n",
    "µI = µT(I)\n",
    "\n",
    "print([µU(n) for n in range(1, 30)])  # A000007\n",
    "print([µN(n) for n in range(1, 30)])  # A000010\n",
    "print([µI(n) for n in range(1, 30)])  # A008683"
   ]
  },
  {
   "cell_type": "markdown",
   "id": "abd1da9c",
   "metadata": {},
   "source": [
    "<p style=\"color:brown;font-size:large;\">Let's check some other special cases:</p>"
   ]
  },
  {
   "cell_type": "code",
   "execution_count": 52,
   "id": "54cf0f5d",
   "metadata": {},
   "outputs": [
    {
     "name": "stdout",
     "output_type": "stream",
     "text": [
      "[1, -2, -2, 2, -2, 4, -2, 0, 2, 4, -2, -3, -2, 4, 4, -1, -2, -3, -2, -3, 4, 4, -2, 0, 2, 4, 0, -3, -2]\n",
      "[1, -2, -2, 2, -2, 4, -2, 0, 2, 4, -2, -3, -2, 4, 4, -1, -2, -3, -2, -3, 4, 4, -2, 0, 2, 4, 0, -3, -2]\n"
     ]
    }
   ],
   "source": [
    "νµ = νT(µ)\n",
    "µν = µT(ν)\n",
    "\n",
    "print([νµ(n) for n in range(1, 30)]) \n",
    "print([µν(n) for n in range(1, 30)]) "
   ]
  },
  {
   "cell_type": "markdown",
   "id": "02a4fb5f",
   "metadata": {},
   "source": [
    "<p style=\"color:brown;font-size:large;\">This is not surprising as the Dirichlet convolution is commutative but we are pleased that it also applies in our case (since we computed them on two different paths).\n",
    "\n",
    "$$\n",
    "     \\nu * \\mu = \\mu * \\nu  \n",
    "$$\n",
    "\n",
    "$$\n",
    "νT(µ) = µT(ν)\n",
    "$$\n",
    "\n",
    "$$\n",
    "    \\sum_{d \\mid n} \\nu(d) \\, \\mu\\!\\left(\\frac{n}{d}\\right) =\n",
    "    \\sum_{d \\mid n} \\mu(d) \\, \\nu\\!\\left(\\frac{n}{d}\\right)\n",
    "$$"
   ]
  },
  {
   "cell_type": "markdown",
   "id": "b0c5c4b3",
   "metadata": {},
   "source": [
    "<p style=\"color:brown;font-size:large\">In the OEIS it has the form A383123:"
   ]
  },
  {
   "cell_type": "code",
   "execution_count": 53,
   "id": "e32797ee",
   "metadata": {},
   "outputs": [
    {
     "name": "stdout",
     "output_type": "stream",
     "text": [
      "[1, -2, -2, 2, -2, 4, -2, 0, 2, 4, -2, -3, -2, 4, 4, -1, -2, -3, -2, -3, 4, 4, -2, 0, 2, 4, 0, -3, -2]\n"
     ]
    }
   ],
   "source": [
    "@cached_function\n",
    "def A382883(n: int) -> int: \n",
    "    return n if n < 2 else -sum((1 if j == 1 \n",
    "                                 else valuation(n, j))*A382883(j) \n",
    "                            for j in divisors(n)[:-1])\n",
    "\n",
    "def vT(b: Callable[[int], int]) -> Callable[[int], int]:\n",
    "    @cached_function\n",
    "    def vb(n: int) -> int:\n",
    "        return sum(A382883(n//d)*b(d) for d in divisors(n))\n",
    "    return vb\n",
    "\n",
    "A383123 = vT(moebius)\n",
    "print([A383123(n) for n in range(1, 30)])"
   ]
  },
  {
   "cell_type": "markdown",
   "id": "33ec3a05",
   "metadata": {},
   "source": [
    "<h1 style=\"color:#CD5C5C;background:white; line-height: 150%;\n",
    "border-top: thick solid #CD5C5C; float: left; width: 100%; margin-top: 1em;\">\n",
    "The Dirichlet Inverse</h1>"
   ]
  },
  {
   "cell_type": "code",
   "execution_count": 54,
   "id": "08a84a8c",
   "metadata": {},
   "outputs": [],
   "source": [
    "def iT(b: Callable[[int], int]) -> Callable[[int], int]:\n",
    "    \"\"\"We assume b(1) = 1!\"\"\"\n",
    "    @cached_function\n",
    "    def g(n: int) -> int:\n",
    "        if n == 1:\n",
    "            return 1\n",
    "        s = sum(g(n//d)*b(d) for d in divisors(n)[1:])\n",
    "        return -s\n",
    "    return g"
   ]
  },
  {
   "cell_type": "markdown",
   "id": "6cf1b48d",
   "metadata": {},
   "source": [
    "<p style=\"color:brown;font-size:large\">Let's make sure that the function does what it should."
   ]
  },
  {
   "cell_type": "code",
   "execution_count": 55,
   "id": "5a535b72",
   "metadata": {},
   "outputs": [
    {
     "name": "stdout",
     "output_type": "stream",
     "text": [
      "[1, -1, -2, -1, -4, 2, -6, -1, -2, 4, -10, 2, -12, 6, 8, -1, -16, 2, -18, 4, 12, 10, -22, 2, -4, 12, -2, 6, -28]\n",
      "[1, -3, -4, 2, -6, 12, -8, 0, 3, 18, -12, -8, -14, 24, 24, 0, -18, -9, -20, -12, 32, 36, -24, 0, 5, 42, 0, -16, -30]\n"
     ]
    }
   ],
   "source": [
    "print([iT(euler_phi)(n) for n in range(1, 30)])  # A023900\n",
    "print([iT(sigma)(n) for n in range(1, 30)])      # A046692"
   ]
  },
  {
   "cell_type": "markdown",
   "id": "855e42de",
   "metadata": {},
   "source": [
    "<p style=\"color:brown;font-size:large\">Dirichlet inverse of positive integers:"
   ]
  },
  {
   "cell_type": "code",
   "execution_count": 56,
   "id": "ae87e6be",
   "metadata": {},
   "outputs": [
    {
     "name": "stdout",
     "output_type": "stream",
     "text": [
      "[1, -2, -3, 4, -5, 6, -7, 8, 9, 10, -11, 0, -13, 14, 15, 0, -17, 0, -19, 0, 21, 22, -23, 0, 25, 26, 27, 0, -29]\n",
      "[1, -2, -3, 0, -5, 6, -7, 0, 0, 10, -11, 0, -13, 14, 15, 0, -17, 0, -19, 0, 21, 22, -23, 0, 0, 26, 0, 0, -29]\n"
     ]
    }
   ],
   "source": [
    "def A382940(n:int) -> int: \n",
    "    return ν(n) * n\n",
    "\n",
    "def A055615(n:int) -> int: \n",
    "    return µ(n) * n\n",
    "\n",
    "print([A382940(n) for n in srange(1, 30)])\n",
    "print([A055615(n) for n in srange(1, 30)])"
   ]
  },
  {
   "cell_type": "markdown",
   "id": "583aa907",
   "metadata": {},
   "source": [
    "<p style=\"color:brown;font-size:large\">The Dirichlet inverse of ν and the Dirichlet inverse of µ."
   ]
  },
  {
   "cell_type": "code",
   "execution_count": 57,
   "id": "29ec2382",
   "metadata": {},
   "outputs": [
    {
     "name": "stdout",
     "output_type": "stream",
     "text": [
      "[1, 1, 1, 0, 1, 1, 1, -2, 0, 1, 1, -1, 1, 1, 1, -3, 1, -1, 1, -1, 1, 1, 1, -5, 0, 1, -2, -1, 1]\n",
      "[1, 1, 1, 1, 1, 1, 1, 1, 1, 1, 1, 1, 1, 1, 1, 1, 1, 1, 1, 1, 1, 1, 1, 1, 1, 1, 1, 1, 1]\n"
     ]
    }
   ],
   "source": [
    "print([iT(ν)(n) for n in range(1, 30)])  # A383210\n",
    "print([iT(µ)(n) for n in range(1, 30)])  # A000012"
   ]
  },
  {
   "cell_type": "markdown",
   "id": "83097643",
   "metadata": {},
   "source": [
    "<p style=\"color:brown;font-size:large\"> A383210 / A000012 / A382883 /  A008683"
   ]
  },
  {
   "cell_type": "code",
   "execution_count": 58,
   "id": "cd6dbaa8",
   "metadata": {},
   "outputs": [
    {
     "name": "stdout",
     "output_type": "stream",
     "text": [
      "[1, -1, -1, 0, -1, 1, -1, 0, 0, 1, -1, 0, -1, 1, 1, 0, -1, 0, -1, 0, 1, 1, -1, 0, 0, 1, 0, 0, -1]\n",
      "[1, -2, -3, 0, -5, 6, -7, 0, 0, 10, -11, 0, -13, 14, 15, 0, -17, 0, -19, 0, 21, 22, -23, 0, 0, 26, 0, 0, -29]\n",
      "[1, 0, 0, 0, 0, 0, 0, 0, 0, 0, 0, 0, 0, 0, 0, 0, 0, 0, 0, 0, 0, 0, 0, 0, 0, 0, 0, 0, 0]\n"
     ]
    }
   ],
   "source": [
    "print([iT(U)(n) for n in range(1, 30)])  # A008683\n",
    "print([iT(N)(n) for n in range(1, 30)])  # A055615\n",
    "print([iT(I)(n) for n in range(1, 30)])  # A000007"
   ]
  },
  {
   "cell_type": "markdown",
   "id": "a0ddb763",
   "metadata": {},
   "source": [
    "<p style=\"color:brown;font-size:large\"> A008683 / A055615 / A000007</p>"
   ]
  },
  {
   "cell_type": "markdown",
   "id": "c268972b",
   "metadata": {},
   "source": [
    "<h1 style=\"color:#CD5C5C;background:white; line-height: 150%;\n",
    "border-top: thick solid #CD5C5C; float: left; width: 100%; margin-top: 1em;\">\n",
    "... and what about primes?</h1>"
   ]
  },
  {
   "cell_type": "markdown",
   "id": "be72c079",
   "metadata": {},
   "source": [
    "<p style=\"color:brown;font-size:large\">A000040 The prime numbers."
   ]
  },
  {
   "cell_type": "code",
   "execution_count": 59,
   "id": "f1f63301",
   "metadata": {},
   "outputs": [
    {
     "name": "stdout",
     "output_type": "stream",
     "text": [
      "[-1, -1, -1, -1, -1, -1, -1, -1, -1, -1, -1, -1, -1, -1, -1]\n",
      "[-1, -1, -1, -1, -1, -1, -1, -1, -1, -1, -1, -1, -1, -1, -1]\n",
      "[-1, -1, -1, -1, -1, -1, -1, -1, -1, -1, -1, -1, -1, -1, -1]\n"
     ]
    }
   ],
   "source": [
    "F = [p for p in prime_range(50)]\n",
    "\n",
    "print([µ(p) for p in F])\n",
    "print([ν(p) for p in F])\n",
    "print([H(p, 1) for p in F])"
   ]
  },
  {
   "cell_type": "markdown",
   "id": "8c322912",
   "metadata": {},
   "source": [
    "<p style=\"color:brown;font-size:large\">Consider ν(n) = -1 and not is_prime(n) and compare with A325264."
   ]
  },
  {
   "cell_type": "code",
   "execution_count": 60,
   "id": "85393238",
   "metadata": {},
   "outputs": [
    {
     "name": "stdout",
     "output_type": "stream",
     "text": [
      "[100, 102, 105, 110, 114, 130, 138, 154, 165, 170, 174, 182, 186, 190, 195, 196, 216, 222]\n",
      "[100, 102, 105, 110, 114, 130, 138, 154, 165, 170, 174, 182, 186, 190, 195, 196, 222]\n"
     ]
    }
   ],
   "source": [
    "print([n for n in range(100, 223) if ν(n) == -1 and not is_prime(n)])\n",
    "\n",
    "# 216 is not in A325264\n",
    "print([100, 102, 105, 110, 114, 130, 138, 154, 165, 170, 174, 182, \n",
    "       186, 190, 195, 196, 222])"
   ]
  },
  {
   "cell_type": "markdown",
   "id": "b440fbbc",
   "metadata": {},
   "source": [
    "<p style=\"color:brown;font-size:large\">A001248 Squares of primes."
   ]
  },
  {
   "cell_type": "code",
   "execution_count": 61,
   "id": "d66ac016",
   "metadata": {},
   "outputs": [
    {
     "name": "stdout",
     "output_type": "stream",
     "text": [
      "[0, 0, 0, 0, 0, 0, 0, 0, 0, 0, 0, 0, 0, 0, 0]\n",
      "[1, 1, 1, 1, 1, 1, 1, 1, 1, 1, 1, 1, 1, 1, 1]\n"
     ]
    }
   ],
   "source": [
    "F = [p^2 for p in prime_range(50)]\n",
    "\n",
    "print([µ(p) for p in F])\n",
    "print([ν(p) for p in F])"
   ]
  },
  {
   "cell_type": "markdown",
   "id": "3b2500a5",
   "metadata": {},
   "source": [
    "<p style=\"color:brown;font-size:large\">A246655 Prime powers: numbers of the form p^e where p is a prime and e >= 1."
   ]
  },
  {
   "cell_type": "code",
   "execution_count": 62,
   "id": "8e8536fa",
   "metadata": {},
   "outputs": [
    {
     "name": "stdout",
     "output_type": "stream",
     "text": [
      "[2, 3, 4, 5, 7, 8, 9, 11, 13, 16, 17, 19, 23, 25, 27, 29, 31, 32, 37, 41, 43, 47, 49, 53]\n",
      "[-1, -1, 0, -1, -1, 0, 0, -1, -1, 0, -1, -1, -1, 0, 0, -1, -1, 0, -1, -1, -1, -1, 0, -1]\n",
      "[-1, -1, 1, -1, -1, 1, 1, -1, -1, 0, -1, -1, -1, 1, 1, -1, -1, 1, -1, -1, -1, -1, 1, -1]\n"
     ]
    }
   ],
   "source": [
    "def A246655List(u: int) -> list[int]: \n",
    "    return [n for n in range(1, u) if omega(n) == 1]\n",
    "\n",
    "LA246655 = A246655List(55)\n",
    "µA246655 = [µ(p) for p in LA246655] \n",
    "νA246655 = [ν(n) for n in LA246655] \n",
    "\n",
    "print(LA246655)\n",
    "print(µA246655)  # This sequence should be in the OEIS!\n",
    "print(νA246655)  # This sequence should be in the OEIS!"
   ]
  },
  {
   "cell_type": "code",
   "execution_count": 63,
   "id": "5cab2a95",
   "metadata": {},
   "outputs": [
    {
     "name": "stdout",
     "output_type": "stream",
     "text": [
      "[4, 8, 9, 25, 27, 32, 49, 121, 125, 128, 169, 243, 289, 343, 361, 529, 841, 961]\n",
      "[16, 81, 256, 512, 625]\n"
     ]
    }
   ],
   "source": [
    "LA246655 = A246655List(1222) \n",
    "print([p for p in LA246655 if ν(p) == 1])  # A053810\n",
    "print([p for p in LA246655 if ν(p) == 0])  # missing"
   ]
  },
  {
   "cell_type": "markdown",
   "id": "e0d7ed44",
   "metadata": {},
   "source": [
    "<p style=\"color:brown;font-size:large\">The valuation of the smallest prime divisor of n, A067029. "
   ]
  },
  {
   "cell_type": "code",
   "execution_count": 64,
   "id": "72b18cbd",
   "metadata": {},
   "outputs": [
    {
     "name": "stdout",
     "output_type": "stream",
     "text": [
      "[1, 1, 1, 2, 1, 1, 1, 3, 2, 1, 1, 2, 1, 1, 1, 4, 1, 1, 1, 2, 1, 1, 1, 3, 2, 1, 3, 2, 1]\n",
      "[1, 1, 1, 2, 1, 1, 1, 3, 2, 1, 1, 2, 1, 1, 1, 4, 1, 1, 1, 2, 1, 1, 1, 3, 2, 1, 3, 2, 1]\n"
     ]
    }
   ],
   "source": [
    "# vSPD: the valuation of the smallest prime divisor of n.\n",
    "# We do not need the full factorization of n, trial division is faster.\n",
    "\n",
    "def vSPD(n: int) -> int:\n",
    "    if n < 2: return 1\n",
    "    if is_prime(n): return 1\n",
    "    for p in prime_range(2, n):\n",
    "        if n % p == 0:\n",
    "            return valuation(n, p)\n",
    "    return -1 # Will not happen by PNT.\n",
    "print([vSPD(n) for n in range(1, 30)])\n",
    "\n",
    "# Alternative:\n",
    "def vspd(n: int) -> int: return factor(n)[0][1] if n > 1 else 1\n",
    "print([vspd(n) for n in range(1, 30)])"
   ]
  },
  {
   "cell_type": "markdown",
   "id": "c7847969",
   "metadata": {},
   "source": [
    "<p style=\"color:brown;font-size:large\">A383264 Numbers whose vSPD is not squarefree, where vSPD(n) is the valuation of the smallest prime divisor of n."
   ]
  },
  {
   "cell_type": "code",
   "execution_count": 65,
   "id": "639ee56d",
   "metadata": {},
   "outputs": [
    {
     "name": "stdout",
     "output_type": "stream",
     "text": [
      "[16, 48, 80, 81, 112, 144, 176, 208, 240, 256, 272, 304, 336, 368, 400, 405, 432, 464, 496]\n"
     ]
    }
   ],
   "source": [
    "def isA383264(n: int) -> bool: return not is_squarefree(vSPD(n))\n",
    "print([n for n in range(1, 500) if isA383264(n)])"
   ]
  },
  {
   "cell_type": "markdown",
   "id": "da02e4d0",
   "metadata": {},
   "source": [
    "<p style=\"color:brown;font-size:large\">A383211 Numbers of the form p^e where p is prime and e > 1 is squarefree."
   ]
  },
  {
   "cell_type": "code",
   "execution_count": 66,
   "id": "848acd4f",
   "metadata": {},
   "outputs": [
    {
     "name": "stdout",
     "output_type": "stream",
     "text": [
      "[4, 8, 9, 25, 27, 32, 49, 64, 121, 125, 128, 169, 243, 289, 343, 361, 529, 729, 841, 961, 1024]\n",
      "{2, 3, 5, 6, 7, 10}\n"
     ]
    }
   ],
   "source": [
    "def A383266(n: int, k: int) -> int:\n",
    "    if k == 0: return n^2\n",
    "    if k == 1: return n\n",
    "    e = 1\n",
    "    while k^e <= n:\n",
    "        e += 1\n",
    "    return e - 1\n",
    "\n",
    "def A383211List(upto: int) -> list[int]:\n",
    "    L = []\n",
    "    for p in prime_range(2, upto + 1):\n",
    "        E = A383266(upto, p)\n",
    "        for e in range(2, E+1):\n",
    "            if is_squarefree(e):\n",
    "                n = p^e\n",
    "                if n <= upto:\n",
    "                    L.append(n)\n",
    "    return sorted(L)\n",
    "\n",
    "B = A383211List(1100)\n",
    "print(B)\n",
    "print(set([vSPD(n) for n in B]))"
   ]
  },
  {
   "cell_type": "markdown",
   "id": "2d9e50c0",
   "metadata": {},
   "source": [
    "<p style=\"color:brown;font-size:large\">Characterisation: isA383211(n) <=> omega(n) = 1 and µ(n) != ν(n)."
   ]
  },
  {
   "cell_type": "code",
   "execution_count": 67,
   "id": "de98721a",
   "metadata": {},
   "outputs": [
    {
     "name": "stdout",
     "output_type": "stream",
     "text": [
      "[4, 8, 9, 25, 27, 32, 49, 64, 121, 125, 128, 169, 243, 289, 343, 361, 529, 729, 841, 961, 1024]\n",
      "[4, 8, 9, 25, 27, 32, 49, 64, 121, 125, 128, 169, 243, 289, 343, 361, 529, 729, 841, 961, 1024]\n"
     ]
    }
   ],
   "source": [
    "print([n for n in range(1, 1100) if omega(n) == 1 and µ(n) != ν(n)]) \n",
    "A = A246655List(1100)\n",
    "print([n for n in A if µ(n) != ν(n)])"
   ]
  },
  {
   "cell_type": "markdown",
   "id": "429ca726",
   "metadata": {},
   "source": [
    "<p style=\"color:brown;font-size:large\">The relation to the squarefree numbers A005117."
   ]
  },
  {
   "cell_type": "code",
   "execution_count": 68,
   "id": "7027b73b",
   "metadata": {},
   "outputs": [
    {
     "name": "stdout",
     "output_type": "stream",
     "text": [
      "[4, 8, 9, 25, 27, 32, 49, 121, 125, 128, 169, 243, 289, 343, 361, 529, 841, 900, 961, 1331, 1369]\n"
     ]
    }
   ],
   "source": [
    "# 900 is the first number that does not have the form p^e where both p and e are prime numbers.\n",
    "print([n for n in range(1, 1400) if ν(n) == 1 and not is_squarefree(n)])"
   ]
  },
  {
   "cell_type": "markdown",
   "id": "fedb495e",
   "metadata": {},
   "source": [
    "<p style=\"color:brown;font-size:large\">The next sequence is similar but different from A259183.\n"
   ]
  },
  {
   "cell_type": "code",
   "execution_count": 69,
   "id": "539cf36b",
   "metadata": {},
   "outputs": [
    {
     "name": "stdout",
     "output_type": "stream",
     "text": [
      "[4, 8, 9, 25, 27, 32, 36, 49, 64, 100, 121, 125, 128, 169, 196, 216, 225, 243, 289]\n"
     ]
    }
   ],
   "source": [
    "F = [n for n in srange(1, 300) if µ(n) != ν(n)]\n",
    "print(F)  # This sequence should be in the OEIS!"
   ]
  },
  {
   "cell_type": "code",
   "execution_count": 70,
   "id": "81576c42",
   "metadata": {},
   "outputs": [
    {
     "name": "stdout",
     "output_type": "stream",
     "text": [
      "[0, 1, 1, -1, 1, -1, 1, -1, -1, -1, 1, -1, 1, -1, -1, 0, 1, -1, 1, -1, -1, -1, 1, 0, -1, -1, -1]\n",
      "[0, 1, 1, -1, 1, -1, 1, -1, -1, -1, 1, -1, 1, -1, -1, 1, 1, -1, 1, -1, -1, -1, 1, 1, -1, -1, -1]\n"
     ]
    }
   ],
   "source": [
    "F = [bigomega(n) for n in srange(1, 28)]\n",
    "\n",
    "print([µ(n) for n in F])\n",
    "print([ν(n) for n in F])"
   ]
  },
  {
   "cell_type": "markdown",
   "id": "ab3c3436",
   "metadata": {},
   "source": [
    "<p style=\"color:brown;font-size:large\">Similar but different from A323350 are the numbers n such that µ(Ω(n)) != ν(Ω(n))."
   ]
  },
  {
   "cell_type": "code",
   "execution_count": 71,
   "id": "914adfc3",
   "metadata": {},
   "outputs": [
    {
     "name": "stdout",
     "output_type": "stream",
     "text": [
      "[16, 24, 36, 40, 54, 56, 60, 81, 84, 88, 90, 100, 104, 126, 132, 135, 136, 140]\n"
     ]
    }
   ],
   "source": [
    "print([n for n in srange(1, 150) if µ(bigomega(n)) != ν(bigomega(n))])"
   ]
  },
  {
   "cell_type": "markdown",
   "id": "1885557b",
   "metadata": {},
   "source": [
    "<p style=\"color:brown;font-size:large\">µ(τ(n)) != ν(τ(n)). Positive integers whose number of divisors is a perfect power A120497 ?\n"
   ]
  },
  {
   "cell_type": "code",
   "execution_count": 72,
   "id": "c5c18da0",
   "metadata": {},
   "outputs": [
    {
     "name": "stdout",
     "output_type": "stream",
     "text": [
      "[6, 8, 10, 14, 15, 21, 22, 24, 26, 27, 30, 33, 34, 35, 36, 38, 39, 40, 42, 46]\n"
     ]
    }
   ],
   "source": [
    "def tau(n: int) -> int: \n",
    "    return sigma(n, 0)\n",
    "\n",
    "print([n for n in srange(1, 50) if µ(tau(n)) != ν(tau(n))])"
   ]
  },
  {
   "cell_type": "markdown",
   "id": "fb30a00b",
   "metadata": {},
   "source": [
    "<p style=\"color:brown;font-size:large\">Subsequence of A065496, the numbers n such that sigma(n) is a nontrivial power? "
   ]
  },
  {
   "cell_type": "code",
   "execution_count": 73,
   "id": "6db5ce2d",
   "metadata": {},
   "outputs": [
    {
     "name": "stdout",
     "output_type": "stream",
     "text": [
      "[3, 7, 21, 22, 31, 81, 93, 102, 110, 127, 142]\n"
     ]
    }
   ],
   "source": [
    "def s1(n: int) -> int: \n",
    "    return sigma(n, 1)\n",
    "\n",
    "print([n for n in srange(1, 150) if µ(s1(n)) != ν(s1(n))])"
   ]
  },
  {
   "cell_type": "markdown",
   "id": "69d1784d",
   "metadata": {},
   "source": [
    "<p style=\"color:brown;font-size:large\">A059404 are the numbers with different exponents in their prime factorizations."
   ]
  },
  {
   "cell_type": "code",
   "execution_count": 74,
   "id": "0c43e99d",
   "metadata": {},
   "outputs": [
    {
     "data": {
      "text/plain": [
       "{0}"
      ]
     },
     "execution_count": 74,
     "metadata": {},
     "output_type": "execute_result"
    }
   ],
   "source": [
    "def isA059404(n: int) -> bool: \n",
    "    return 1 < len(set(valuation(n, p) for p in prime_divisors(n)))\n",
    "\n",
    "F = [n for n in range(1, 4362) if isA059404(n)]\n",
    "#print(F)\n",
    "set([ν(n) for n in F])"
   ]
  },
  {
   "cell_type": "markdown",
   "id": "2d66be43",
   "metadata": {},
   "source": [
    "<p style=\"color:brown;font-size:large\">A053810 are the numbers of the form p^e where both p and e are prime numbers."
   ]
  },
  {
   "cell_type": "code",
   "execution_count": 75,
   "id": "55e69bc4",
   "metadata": {},
   "outputs": [
    {
     "data": {
      "text/plain": [
       "{1}"
      ]
     },
     "execution_count": 75,
     "metadata": {},
     "output_type": "execute_result"
    }
   ],
   "source": [
    "def isA053810(n: int) -> bool:\n",
    "    p = prime_divisors(n)\n",
    "    return len(p) == 1 and is_prime(valuation(n, p[0]))\n",
    "\n",
    "F = [n for n in srange(1, 2000) if isA053810(n)]\n",
    "set([ν(n) for n in F])"
   ]
  },
  {
   "cell_type": "markdown",
   "id": "45ff5618",
   "metadata": {},
   "source": [
    "<p style=\"color:brown;font-size:large\">A217261 are the numbers of the form i^j^k, for i, j, k > 1. \n",
    "\n",
    "See also A372405, the exponentially powerful numbers whose prime <br>\n",
    "factorization exponents are all powerful numbers > 1."
   ]
  },
  {
   "cell_type": "code",
   "execution_count": 76,
   "id": "7d40ac6d",
   "metadata": {},
   "outputs": [
    {
     "name": "stdout",
     "output_type": "stream",
     "text": [
      "[16, 81, 256, 512, 625, 1296, 2401, 4096, 6561, 10000]\n"
     ]
    }
   ],
   "source": [
    "MAX = 10001\n",
    "#MAX = 1185922\n",
    "#MAX = 100000000\n",
    "\n",
    "A217261List = sorted(set([x for x in [i^(j^2) \n",
    "              for j in range(2, 120) \n",
    "              for i in range(2, 120)] \n",
    "              if x < MAX]))\n",
    "\n",
    "print(A217261List)"
   ]
  },
  {
   "cell_type": "code",
   "execution_count": 77,
   "id": "d5720777",
   "metadata": {},
   "outputs": [
    {
     "name": "stdout",
     "output_type": "stream",
     "text": [
      "[1] 16 0 4\n",
      "[2] 81 0 9\n",
      "[3] 256 0 16\n",
      "[4] 512 0 16*sqrt(2)\n",
      "[5] 625 0 25\n",
      "[6] 1296 0 36\n",
      "[7] 2401 0 49\n",
      "[8] 4096 0 64\n",
      "[9] 6561 0 81\n",
      "[10] 10000 0 100\n"
     ]
    }
   ],
   "source": [
    "i=1\n",
    "for n in A217261List[:12] :\n",
    "    print([i], n, µ(n), sqrt(n))\n",
    "    i += 1"
   ]
  },
  {
   "cell_type": "markdown",
   "id": "aa9d3190",
   "metadata": {},
   "source": [
    "<h1 style=\"color:#CD5C5C;background:white; line-height: 150%;\n",
    "border-top: thick solid #CD5C5C; float: left; width: 100%; margin-top: 1em;\">\n",
    "Appendix</h1>"
   ]
  },
  {
   "cell_type": "code",
   "execution_count": 78,
   "id": "e217f1d2",
   "metadata": {},
   "outputs": [
    {
     "name": "stdout",
     "output_type": "stream",
     "text": [
      "CPU times: user 999 ms, sys: 30 ms, total: 1.03 s\n",
      "Wall time: 1.06 s\n"
     ]
    }
   ],
   "source": [
    "%%time\n",
    "\n",
    "[ν(n) for n in range(1, 20000)];"
   ]
  },
  {
   "cell_type": "code",
   "execution_count": 79,
   "id": "f386f860",
   "metadata": {},
   "outputs": [
    {
     "name": "stdout",
     "output_type": "stream",
     "text": [
      "CPU times: user 141 ms, sys: 0 ns, total: 141 ms\n",
      "Wall time: 144 ms\n"
     ]
    }
   ],
   "source": [
    "%%time\n",
    "\n",
    "[µ(n) for n in range(1, 20000)];"
   ]
  },
  {
   "cell_type": "markdown",
   "id": "4c9b9fa3",
   "metadata": {},
   "source": [
    "<p style=\"color:brown;font-size:large\">How fast can we compute µ (or ν)?</p>\n",
    "\n",
    "* Harald A. Helfgott and Lola Thompson, Summing mu(n): a faster elementary algorithm, arXiv:2101.08773 [math.NT], 2021.\n",
    "\n",
    "* Greg Hurst, Computations of the Mertens function and improved bounds on the Mertens conjecture, arXiv:1610.08551 [math.NT], 2016-2017.\n",
    "\n",
    "The algorithm below is from:\n",
    "\n",
    "* Marc Deléglise and Joöl Rivat, Computing the summation of the Möbius function, Experiment. Math. 5(4): 291-295 (1996)."
   ]
  },
  {
   "cell_type": "code",
   "execution_count": 80,
   "id": "cc15b32b",
   "metadata": {},
   "outputs": [
    {
     "name": "stdout",
     "output_type": "stream",
     "text": [
      "[1, -1, -1, 0, -1, 1, -1, 0, 0, 1, -1, 0, -1, 1, 1, 0, -1, 0, -1, 0]\n",
      "[1, -1, -1, 0, -1, 1, -1, 0, 0, 1, -1, 0, -1, 1, 1, 0, -1, 0, -1, 0]\n"
     ]
    }
   ],
   "source": [
    "def µList(x: int) -> list[int]:\n",
    "    U = [1] * (x + 1)\n",
    "    for p in prime_range(sqrt(x)):\n",
    "        for n in range(1, x + 1):\n",
    "            if n % p^2 == 0: \n",
    "                U[n] = 0\n",
    "            elif n % p == 0: \n",
    "                U[n] = -p * U[n]\n",
    "\n",
    "    for n in range(2, x + 1):\n",
    "        u = U[n]\n",
    "        if u != 0:\n",
    "            U[n] = sign(u) if abs(u) == n else -sign(u)\n",
    "\n",
    "    return U[1:]  \n",
    "\n",
    "print(µList(20))\n",
    "print([moebius(n) for n in range(1, 21)])"
   ]
  },
  {
   "cell_type": "markdown",
   "id": "90e3f1fc",
   "metadata": {},
   "source": [
    "<p style=\"color:brown;font-size:large\">About the Mertens function:</p>\n",
    "\n",
    "* A nice blog post from Cleve Moler about the Mertens function with a soundtrack from the OEIS! \n",
    "https://blogs.mathworks.com/cleve/2024/10/22/mobius-mertens-and-redheffer/\n",
    "\n",
    "* Holly Krieger discusses Merterns' Conjecture in a Numberphile video:\n",
    "https://www.youtube.com/watch?v=uvMGZb0Suyc"
   ]
  },
  {
   "cell_type": "markdown",
   "id": "1adefca9",
   "metadata": {},
   "source": [
    "<p style=\"color:brown;font-size:large\">Some statistics about the distribution of -1, 0, and 1 for the Moebius function and the Mertens function."
   ]
  },
  {
   "cell_type": "code",
   "execution_count": 81,
   "id": "a83b5984",
   "metadata": {},
   "outputs": [
    {
     "name": "stdout",
     "output_type": "stream",
     "text": [
      "3000 1176 909 915 -6\n",
      "6000 2354 1823 1823 0\n",
      "9000 3527 2737 2736 1\n",
      "12000 4707 3654 3639 15\n",
      "15000 5880 4555 4565 -10\n",
      "18000 7055 5467 5478 -11\n",
      "21000 8231 6403 6366 37\n"
     ]
    }
   ],
   "source": [
    "c0 = c1 = c2 = 0\n",
    "for n in range(1, 21001):\n",
    "    µn = µ(n)\n",
    "    if µn == 0: c0 +=1\n",
    "    elif µn == 1: c1 +=1\n",
    "    else: c2 += 1\n",
    "    if n % 3000 == 0:\n",
    "        print(n, c0, c1, c2, c1 - c2)"
   ]
  },
  {
   "cell_type": "markdown",
   "id": "ec455e54",
   "metadata": {},
   "source": [
    "<p style=\"color:brown;font-size:large\"><p style=\"color:brown;font-size:large\">Some statistics about the distribution of -1, 0, and 1 for the Hensel function and its summatory function."
   ]
  },
  {
   "cell_type": "code",
   "execution_count": 82,
   "id": "c7daed1e",
   "metadata": {},
   "outputs": [
    {
     "name": "stdout",
     "output_type": "stream",
     "text": [
      "3000 1127 938 935 3\n",
      "6000 2287 1861 1852 9\n",
      "9000 3446 2781 2773 8\n",
      "12000 4615 3705 3680 25\n",
      "15000 5779 4610 4611 -1\n",
      "18000 6943 5526 5531 -5\n",
      "21000 8113 6465 6422 43\n"
     ]
    }
   ],
   "source": [
    "c0 = c1 = c2 = 0\n",
    "for n in range(1, 21001):\n",
    "    vn = ν(n)\n",
    "    if vn == 0: c0 +=1\n",
    "    elif vn == 1: c1 +=1\n",
    "    else: c2 += 1\n",
    "    if n % 3000 == 0:\n",
    "        print(n, c0, c1, c2, c1 - c2)"
   ]
  },
  {
   "cell_type": "markdown",
   "id": "79815911",
   "metadata": {},
   "source": [
    "<p style=\"color:brown;font-size:large\">How to plot the diagrams with tikzcd?</p>\n",
    "\n",
    "<pre>\n",
    "\\usepackage{quiver}\n",
    "\n",
    "\\[\\begin{tikzcd}[row sep=large]\n",
    "\t&& {1,1,1,...} \\\\\n",
    "\t{T(n, k)} &&&& {V(n, k)} \\\\\n",
    "\t\\\\\n",
    "\t{M(n, k)} &&&& {H(n, k)} \\\\\n",
    "\t& \\mu && \\nu\n",
    "\t\\arrow[\"{c_1}\"{description}, from=2-1, to=1-3]\n",
    "\t\\arrow[\"inv\"', from=2-1, to=4-1]\n",
    "\t\\arrow[\"{c_1}\"{description}, from=2-5, to=1-3]\n",
    "\t\\arrow[\"sign\"{description}, from=2-5, to=2-1]\n",
    "\t\\arrow[\"inv\", from=2-5, to=4-5]\n",
    "\t\\arrow[dotted, tail reversed, from=4-1, to=4-5]\n",
    "\t\\arrow[\"{c_1}\"{description}, from=4-1, to=5-2]\n",
    "\t\\arrow[\"{c_1}\"{description}, from=4-5, to=5-4]\n",
    "\t\\arrow[\"trans\"{description}, dashed, from=5-2, to=5-4]\n",
    "\\end{tikzcd}\\]\n",
    "\n",
    "\\[\\begin{tikzcd}[row sep=large]\n",
    "\t&& A000012 \\\\\n",
    "\tA113704 &&&& A382944 \\\\\n",
    "\t\\\\\n",
    "\tA363914 &&&& A382881 \\\\\n",
    "\t& A008683 && A382883\n",
    "\t\\arrow[\"{col_1}\"{description}, from=2-1, to=1-3]\n",
    "\t\\arrow[\"inv\"', from=2-1, to=4-1]\n",
    "\t\\arrow[\"{col_1}\"{description}, from=2-5, to=1-3]\n",
    "\t\\arrow[\"sign\"{description}, from=2-5, to=2-1]\n",
    "\t\\arrow[\"inv\", from=2-5, to=4-5]\n",
    "\t\\arrow[dotted, tail reversed, from=4-1, to=4-5]\n",
    "\t\\arrow[\"{col_1}\"{description}, from=4-1, to=5-2]\n",
    "\t\\arrow[\"{col_1}\"{description}, from=4-5, to=5-4]\n",
    "\t\\arrow[\"trans\"{description}, dashed, from=5-2, to=5-4]\n",
    "\\end{tikzcd}\\]\n",
    "</pre>"
   ]
  },
  {
   "cell_type": "markdown",
   "id": "722428cb",
   "metadata": {},
   "source": [
    "<p style=\"color:brown;font-size:large\">Kurt_Hensel, Father of Valuation Theory. \n",
    "\n",
    "https://www.icts.res.in/sites/default/files/lem2016-29-08-2016-Sudesh.pdf\n",
    "\n",
    "https://en.wikipedia.org/wiki/Kurt_Hensel"
   ]
  },
  {
   "cell_type": "markdown",
   "id": "de9c2546",
   "metadata": {},
   "source": [
    "https://en.wikipedia.org/wiki/P-adic_valuation\n"
   ]
  }
 ],
 "metadata": {
  "kernelspec": {
   "display_name": "SageMath 10.5",
   "language": "sage",
   "name": "sagemath10.5"
  },
  "language_info": {
   "codemirror_mode": {
    "name": "ipython",
    "version": 3
   },
   "file_extension": ".py",
   "mimetype": "text/x-python",
   "name": "python",
   "nbconvert_exporter": "python",
   "pygments_lexer": "ipython3",
   "version": "3.10.12"
  }
 },
 "nbformat": 4,
 "nbformat_minor": 5
}
