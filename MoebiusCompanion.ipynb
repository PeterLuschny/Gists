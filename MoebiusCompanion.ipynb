{
 "cells": [
  {
   "cell_type": "markdown",
   "id": "a7008a5d",
   "metadata": {},
   "source": [
    "<h1 style=\"background: orange; color: #5E7AFF; text-align: center; line-height: 200%; letter-spacing: 1px; font-weight: bold;\">Möbius's Companion<br>\n",
    "<span style=\"font-size: smaller; font-weight: normal;line-height: 150%;\">Peter Luschny, April 2025</span></h1>"
   ]
  },
  {
   "cell_type": "code",
   "execution_count": 1,
   "id": "25234a1b",
   "metadata": {
    "vscode": {
     "languageId": "python"
    }
   },
   "outputs": [],
   "source": [
    "##############################################################################\n",
    "## This is a SageMath Jupyter notebook, written in Python 3.13 with Sage 10.5.\n",
    "\n",
    "from typing import Callable\n",
    "from sage.all import ZZ, valuation, matrix, srange, cached_function, moebius, simplify, exp, log, divisors, factor, prime_divisors, prime_range, is_prime, sigma, sqrt, is_square"
   ]
  },
  {
   "cell_type": "markdown",
   "id": "b6231021",
   "metadata": {},
   "source": [
    "<h1 style=\"color:#CD5C5C;background:white; line-height: 150%;\n",
    "border-top: thick solid #CD5C5C; float: left; width: 100%; margin-top: 1em;\">\n",
    "Introduction</h1>"
   ]
  },
  {
   "cell_type": "markdown",
   "id": "33bcc3ef",
   "metadata": {},
   "source": [
    "The basis of divisibility theory is given by the triangle A113704 and its inverse triangle, the Möbius triangle A363914, whose first column represents the Möbius function A008683. This theory considers divisibility without taking multiplicity of divisors into account.\n",
    "\n",
    "The theory that considers the multiplicity of divisors is based on the divisibility triangle A382944 and its inverse triangle A382881, whose first column is the analog of the Möbius function and is represented by sequence A382883.\n",
    "\n",
    "Just as the values of the Möbius function (0, 1, -1, not 0) lead to the decomposition (A013929, A030229, A030059, and A005117), the current sequence leads to the decomposition (A382943, A383016, A383017, and A383106).\n",
    "\n",
    "The summatory function of A382883 is A382942, which is the counterpart of Mertens's function A002321. A382940(n) = A382883(n)*n is the counterpart of A055615, and A382941 is the counterpart of the exponential von Mangoldt function A014963.\n",
    "\n",
    "Similar to the Möbius function, sequence A382883 can also be viewed as a transformation. Under this transformation, A000012 is mapped to A383104 and A000027 to A383124. The Dirichlet inverse of A382883 is A383210."
   ]
  },
  {
   "cell_type": "markdown",
   "id": "69a308a1",
   "metadata": {},
   "source": [
    "<h1 style=\"color:#CD5C5C;background:white; line-height: 150%;\n",
    "border-top: thick solid #CD5C5C; float: left; width: 100%; margin-top: 1em;\">\n",
    "Notation</h1>"
   ]
  },
  {
   "cell_type": "markdown",
   "id": "ecd48825",
   "metadata": {},
   "source": [
    "<p style=\"color:brown;font-size:large\">Note the following naming conventions:<br>\n",
    "\n",
    "µ is the name of the Möbius sequence (A008683). <br>\n",
    "ν is the name of the Möbius companion sequence (A382883).\n",
    "\n",
    "µ is the Greek small letter mu and ν is the Greek small letter nu.<br>\n",
    "We also use these Unicode characters as Python names and parts of Python names. \n",
    "\n",
    "ΣT is the sequence of row sums of the lower triangular matrix T. <br>\n",
    "Σa is the sequence of partial sums of the sequence a. "
   ]
  },
  {
   "cell_type": "markdown",
   "id": "1d93f2d0",
   "metadata": {},
   "source": [
    "Given the arithmetic function $ \\alpha $, we call the Dirichlet convolution $ \\alpha * g $ the $ \\alpha $-transform and write\n",
    "$$\n",
    "    \\alpha T : (g, n) \\mapsto \\sum_{d \\mid n} \\alpha(d) \\, g\\!\\left(\\frac{n}{d}\\right).\n",
    "$$\n",
    "Thus in particular µT is the Möbius transform and νT its companion transform."
   ]
  },
  {
   "cell_type": "markdown",
   "id": "d3a24108",
   "metadata": {},
   "source": [
    "<h1 style=\"color:#CD5C5C;background:white; line-height: 150%;\n",
    "border-top: thick solid #CD5C5C; float: left; width: 100%; margin-top: 1em;\">\n",
    "Valuation</h1>"
   ]
  },
  {
   "cell_type": "markdown",
   "id": "7b1326d4",
   "metadata": {},
   "source": [
    "<p style=\"color:brown;font-size:large\">Valuation V(n, k) defined for n, k >= 0. For n, k >= 2 defined as the exponent of the highest power of k that divides n. Otherwise V(n, 0) = 0^n and V(n, 1) = 1. <i>Valuation</i> is also called the <i>p-adic order</i>. Outside the lower triangular matrix 0 <= k <= n all values are 0.</p>"
   ]
  },
  {
   "cell_type": "code",
   "execution_count": 2,
   "id": "98fe2870",
   "metadata": {
    "vscode": {
     "languageId": "python"
    }
   },
   "outputs": [
    {
     "name": "stdout",
     "output_type": "stream",
     "text": [
      "[0] [1]\n",
      "[1] [0, 1]\n",
      "[2] [0, 1, 1]\n",
      "[3] [0, 1, 0, 1]\n",
      "[4] [0, 1, 2, 0, 1]\n",
      "[5] [0, 1, 0, 0, 0, 1]\n",
      "[6] [0, 1, 1, 1, 0, 0, 1]\n",
      "[7] [0, 1, 0, 0, 0, 0, 0, 1]\n",
      "[8] [0, 1, 3, 0, 1, 0, 0, 0, 1]\n",
      "[9] [0, 1, 0, 2, 0, 0, 0, 0, 0, 1]\n",
      "[10] [0, 1, 1, 0, 0, 1, 0, 0, 0, 0, 1]\n",
      "[11] [0, 1, 0, 0, 0, 0, 0, 0, 0, 0, 0, 1]\n",
      "[12] [0, 1, 2, 1, 1, 0, 1, 0, 0, 0, 0, 0, 1]\n"
     ]
    }
   ],
   "source": [
    "@cached_function\n",
    "def V(n: int, k: int) -> int:\n",
    "    if k  > n: return 0\n",
    "    if k == 0: return 0^n\n",
    "    if k == 1: return 1 \n",
    "    return valuation(n, k)\n",
    "\n",
    "for n in range(13):\n",
    "    print([n], [V(n, k) for k in srange(n + 1)])"
   ]
  },
  {
   "cell_type": "markdown",
   "id": "cfefd89e",
   "metadata": {},
   "source": [
    "<p style=\"color:brown;font-size:large\">In the OEIS you will find it at this A-number:</p>"
   ]
  },
  {
   "cell_type": "code",
   "execution_count": 3,
   "id": "4498af04",
   "metadata": {
    "vscode": {
     "languageId": "python"
    }
   },
   "outputs": [
    {
     "name": "stdout",
     "output_type": "stream",
     "text": [
      "[1, 0, 1, 0, 1, 1, 0, 1, 0, 1, 0, 1, 2, 0, 1, 0, 1, 0, 0, 0, 1, 0, 1, 1, 1, 0, 0, 1, 0, 1, 0, 0, 0, 0, 0, 1]\n"
     ]
    }
   ],
   "source": [
    "A382944 = V\n",
    "print([A382944(n, k) for n in range(8) for k in srange(n+1)])"
   ]
  },
  {
   "cell_type": "markdown",
   "id": "da6f3772",
   "metadata": {},
   "source": [
    "<p style=\"color:brown;font-size:large\">The row sums are the number of divisors of n, counted with their multiplicity."
   ]
  },
  {
   "cell_type": "code",
   "execution_count": 4,
   "id": "e45f31b1",
   "metadata": {
    "vscode": {
     "languageId": "python"
    }
   },
   "outputs": [
    {
     "name": "stdout",
     "output_type": "stream",
     "text": [
      "[1, 2, 2, 4, 2, 4, 2, 6, 4, 4, 2, 7, 2, 4, 4, 9, 2, 7, 2, 7, 4, 4, 2, 10, 4, 4, 6]\n"
     ]
    }
   ],
   "source": [
    "def ΣV(n: int) -> int:\n",
    "    return sum(V(n, k) for k in srange(n + 1))\n",
    "\n",
    "print([ΣV(n) for n in range(1, 28)])"
   ]
  },
  {
   "cell_type": "markdown",
   "id": "15b88f65",
   "metadata": {},
   "source": [
    "<p style=\"color:brown;font-size:large\">In the OEIS this function is registered as:</p>"
   ]
  },
  {
   "cell_type": "code",
   "execution_count": 5,
   "id": "c9265127",
   "metadata": {
    "vscode": {
     "languageId": "python"
    }
   },
   "outputs": [],
   "source": [
    "A169594 = ΣV"
   ]
  },
  {
   "cell_type": "markdown",
   "id": "adeae3ec",
   "metadata": {},
   "source": [
    "<p style=\"color:brown;font-size:large\">The inverse triangle of V is defined recursively:"
   ]
  },
  {
   "cell_type": "code",
   "execution_count": 6,
   "id": "c366530f",
   "metadata": {
    "vscode": {
     "languageId": "python"
    }
   },
   "outputs": [
    {
     "name": "stdout",
     "output_type": "stream",
     "text": [
      "[0] [1]\n",
      "[1] [0, 1]\n",
      "[2] [0, -1, 1]\n",
      "[3] [0, -1, 0, 1]\n",
      "[4] [0, 1, -2, 0, 1]\n",
      "[5] [0, -1, 0, 0, 0, 1]\n",
      "[6] [0, 1, -1, -1, 0, 0, 1]\n",
      "[7] [0, -1, 0, 0, 0, 0, 0, 1]\n",
      "[8] [0, 1, -1, 0, -1, 0, 0, 0, 1]\n",
      "[9] [0, 1, 0, -2, 0, 0, 0, 0, 0, 1]\n",
      "[10] [0, 1, -1, 0, 0, -1, 0, 0, 0, 0, 1]\n",
      "[11] [0, -1, 0, 0, 0, 0, 0, 0, 0, 0, 0, 1]\n",
      "[12] [0, 0, 1, 0, -1, 0, -1, 0, 0, 0, 0, 0, 1]\n"
     ]
    }
   ],
   "source": [
    "@cached_function\n",
    "def invV(n:int, k:int) -> int:\n",
    "    if n == k: return 1\n",
    "    if k == 0: return 0^n\n",
    "    return -sum(V(n, j)*invV(j, k) for j in range(1, n))\n",
    "\n",
    "for n in range(13):\n",
    "    print([n], [invV(n, k) for k in srange(n + 1)])"
   ]
  },
  {
   "cell_type": "markdown",
   "id": "88d451c0",
   "metadata": {},
   "source": [
    "<p style=\"color:brown;font-size:large\">Let's check that this is indeed the inverse of V: "
   ]
  },
  {
   "cell_type": "code",
   "execution_count": 7,
   "id": "57a6b2c0",
   "metadata": {
    "vscode": {
     "languageId": "python"
    }
   },
   "outputs": [
    {
     "name": "stdout",
     "output_type": "stream",
     "text": [
      "[ 1  0  0  0  0  0  0  0  0  0  0  0  0]\n",
      "[ 0  1  0  0  0  0  0  0  0  0  0  0  0]\n",
      "[ 0 -1  1  0  0  0  0  0  0  0  0  0  0]\n",
      "[ 0 -1  0  1  0  0  0  0  0  0  0  0  0]\n",
      "[ 0  1 -2  0  1  0  0  0  0  0  0  0  0]\n",
      "[ 0 -1  0  0  0  1  0  0  0  0  0  0  0]\n",
      "[ 0  1 -1 -1  0  0  1  0  0  0  0  0  0]\n",
      "[ 0 -1  0  0  0  0  0  1  0  0  0  0  0]\n",
      "[ 0  1 -1  0 -1  0  0  0  1  0  0  0  0]\n",
      "[ 0  1  0 -2  0  0  0  0  0  1  0  0  0]\n",
      "[ 0  1 -1  0  0 -1  0  0  0  0  1  0  0]\n",
      "[ 0 -1  0  0  0  0  0  0  0  0  0  1  0]\n",
      "[ 0  0  1  0 -1  0 -1  0  0  0  0  0  1]\n"
     ]
    }
   ],
   "source": [
    "M = matrix(ZZ, 13, V).inverse()\n",
    "print(M)"
   ]
  },
  {
   "cell_type": "markdown",
   "id": "aad7917d",
   "metadata": {},
   "source": [
    "<p style=\"color:brown;font-size:large\">This is the A-number for the triangular array invV in the OEIS:"
   ]
  },
  {
   "cell_type": "code",
   "execution_count": 8,
   "id": "e53b578b",
   "metadata": {
    "vscode": {
     "languageId": "python"
    }
   },
   "outputs": [
    {
     "name": "stdout",
     "output_type": "stream",
     "text": [
      "[1, 0, 1, 0, -1, 1, 0, -1, 0, 1, 0, 1, -2, 0, 1, 0, -1, 0, 0, 0, 1, 0, 1, -1, -1, 0, 0, 1, 0, -1, 0, 0, 0, 0, 0, 1]\n"
     ]
    }
   ],
   "source": [
    "A382881 = invV\n",
    "print([A382881(n, k) for n in range(8) for k in srange(n+1)])"
   ]
  },
  {
   "cell_type": "markdown",
   "id": "83ee72d9",
   "metadata": {},
   "source": [
    "<p style=\"color:brown;font-size:large\">The row sums give A000007 with offset 1, which is the identity function for Dirichlet multiplication."
   ]
  },
  {
   "cell_type": "code",
   "execution_count": 9,
   "id": "7f8935f4",
   "metadata": {
    "vscode": {
     "languageId": "python"
    }
   },
   "outputs": [
    {
     "name": "stdout",
     "output_type": "stream",
     "text": [
      "[1, 0, 0, 0, 0, 0, 0, 0, 0, 0, 0, 0, 0, 0, 0, 0, 0, 0, 0]\n"
     ]
    }
   ],
   "source": [
    "def ΣVinv(n: int) -> int:\n",
    "    return sum(invV(n, k) for k in srange(n + 1))\n",
    "\n",
    "print([ΣVinv(n) for n in range(1, 20)])"
   ]
  },
  {
   "cell_type": "markdown",
   "id": "40c8170f",
   "metadata": {},
   "source": [
    "<h1 style=\"color:#CD5C5C;background:white; line-height: 150%;\n",
    "border-top: thick solid #CD5C5C; float: left; width: 100%; margin-top: 1em;\">\n",
    "Möbius's companion, called ν. </h1>"
   ]
  },
  {
   "cell_type": "markdown",
   "id": "c38ab15d",
   "metadata": {},
   "source": [
    "<p style=\"color:brown;font-size:large\">Möbius's companion is defined as column 1 of the inverse of the valuation triangle A382944. This is analog to the definition of the Möbius function as column 1 of the inverse of the divisibility triangle A113704."
   ]
  },
  {
   "cell_type": "code",
   "execution_count": 10,
   "id": "384e9bc1",
   "metadata": {
    "vscode": {
     "languageId": "python"
    }
   },
   "outputs": [
    {
     "name": "stdout",
     "output_type": "stream",
     "text": [
      "[1, -1, -1, 1, -1, 1, -1, 1, 1, 1, -1, 0, -1, 1, 1, 0, -1, 0, -1, 0, 1, 1, -1, 0, 1, 1, 1, 0, -1]\n"
     ]
    }
   ],
   "source": [
    "@cached_function\n",
    "def _v(n: int) -> int:\n",
    "    if n < 2: return n\n",
    "    return -sum(V(n, j)*_v(j) for j in range(1, n))\n",
    "\n",
    "print([_v(n) for n in srange(1, 30)])"
   ]
  },
  {
   "cell_type": "markdown",
   "id": "713e3ee6",
   "metadata": {},
   "source": [
    "<p style=\"color:brown;font-size:large\">Slightly optimized by calling the valuation function directly this is:"
   ]
  },
  {
   "cell_type": "code",
   "execution_count": 11,
   "id": "f1f419d1",
   "metadata": {
    "vscode": {
     "languageId": "python"
    }
   },
   "outputs": [
    {
     "name": "stdout",
     "output_type": "stream",
     "text": [
      "[1, -1, -1, 1, -1, 1, -1, 1, 1, 1, -1, 0, -1, 1, 1, 0, -1, 0, -1, 0, 1, 1, -1, 0, 1, 1, 1, 0, -1]\n"
     ]
    }
   ],
   "source": [
    "@cached_function\n",
    "def ν(n: int) -> int: \n",
    "    return (n if n < 2 else \n",
    "           -sum(1 if j == 1 \n",
    "                else 0 if ν(j) == 0 \n",
    "                else valuation(n, j)*ν(j) \n",
    "            for j in divisors(n)[:-1]))\n",
    "\n",
    "print([ν(n) for n in srange(1, 30)])"
   ]
  },
  {
   "cell_type": "markdown",
   "id": "6ab5ae17",
   "metadata": {},
   "source": [
    "<p style=\"color:brown;font-size:large\">This is how you find it in the OEIS catalog:"
   ]
  },
  {
   "cell_type": "code",
   "execution_count": 12,
   "id": "18c2e1de",
   "metadata": {
    "vscode": {
     "languageId": "python"
    }
   },
   "outputs": [
    {
     "name": "stdout",
     "output_type": "stream",
     "text": [
      "[1, -1, -1, 1, -1, 1, -1, 1, 1, 1, -1, 0, -1, 1, 1, 0, -1, 0, -1, 0, 1, 1, -1, 0, 1, 1, 1, 0, -1]\n",
      "[1, -1, -1, 1, -1, 1, -1, 1, 1, 1, -1, 0, -1, 1, 1, 0, -1, 0, -1, 0, 1, 1, -1, 0, 1, 1, 1, 0, -1]\n"
     ]
    }
   ],
   "source": [
    "A382883 = ν\n",
    "print([A382883(n) for n in srange(1, 30)])\n",
    "print([A382881(n, 1) for n in srange(1, 30)])"
   ]
  },
  {
   "cell_type": "markdown",
   "id": "3046031c",
   "metadata": {},
   "source": [
    "<p style=\"color:brown;font-size:large\">The three fibers of ν."
   ]
  },
  {
   "cell_type": "code",
   "execution_count": 13,
   "id": "1606a347",
   "metadata": {
    "vscode": {
     "languageId": "python"
    }
   },
   "outputs": [
    {
     "name": "stdout",
     "output_type": "stream",
     "text": [
      "[12, 16, 18, 20, 24, 28, 40, 44, 45, 48, 50, 52, 54, 56]\n",
      "[2, 3, 5, 7, 11, 13, 17, 19, 23, 29, 30, 31, 36, 37, 41, 42, 43, 47, 53, 59]\n",
      "[1, 4, 6, 8, 9, 10, 14, 15, 21, 22, 25, 26, 27, 32, 33, 34, 35, 38, 39, 46, 49, 51, 55, 57, 58]\n"
     ]
    }
   ],
   "source": [
    "def A382943List(upto) -> list[int]: \n",
    "    return [n for n in srange(1, upto) if ν(n) == 0]\n",
    "\n",
    "def A383017List(upto) -> list[int]: \n",
    "    return [n for n in srange(1, upto) if ν(n) == -1]\n",
    "\n",
    "def A383016List(upto) -> list[int]: \n",
    "    return [n for n in srange(1, upto) if ν(n) == 1]\n",
    "\n",
    "print(A382943List(60))\n",
    "print(A383017List(60))\n",
    "print(A383016List(60))"
   ]
  },
  {
   "cell_type": "markdown",
   "id": "e1477650",
   "metadata": {},
   "source": [
    "<p style=\"color:brown;font-size:large\">... and, for convenience, also the case v(n) != 0:"
   ]
  },
  {
   "cell_type": "code",
   "execution_count": 14,
   "id": "0ec13cf5",
   "metadata": {
    "vscode": {
     "languageId": "python"
    }
   },
   "outputs": [
    {
     "name": "stdout",
     "output_type": "stream",
     "text": [
      "[1, 2, 3, 4, 5, 6, 7, 8, 9, 10, 11, 13, 14, 15, 17, 19, 21, 22, 23, 25, 26, 27, 29]\n"
     ]
    }
   ],
   "source": [
    "def A383106List(upto) -> list[int]: \n",
    "    return [n for n in srange(1, upto) if ν(n) != 0]\n",
    "\n",
    "print(A383106List(30))"
   ]
  },
  {
   "cell_type": "markdown",
   "id": "ff1432ba",
   "metadata": {},
   "source": [
    "<p style=\"color:brown;font-size:large\">The Möbius function, called µ:"
   ]
  },
  {
   "cell_type": "code",
   "execution_count": 15,
   "id": "b16209b4",
   "metadata": {
    "vscode": {
     "languageId": "python"
    }
   },
   "outputs": [],
   "source": [
    "µ = moebius"
   ]
  },
  {
   "cell_type": "markdown",
   "id": "2bbe6325",
   "metadata": {},
   "source": [
    "<p style=\"color:brown;font-size:large\">Its name in the OEIS is:"
   ]
  },
  {
   "cell_type": "code",
   "execution_count": 16,
   "id": "72a2697e",
   "metadata": {
    "vscode": {
     "languageId": "python"
    }
   },
   "outputs": [
    {
     "name": "stdout",
     "output_type": "stream",
     "text": [
      "[1, -1, -1, 0, -1, 1, -1, 0, 0, 1, -1, 0, -1, 1, 1, 0, -1, 0, -1, 0, 1, 1, -1, 0, 0, 1, 0, 0, -1]\n"
     ]
    }
   ],
   "source": [
    "A008683 = µ\n",
    "print([A008683(n) for n in range(1, 30)])"
   ]
  },
  {
   "cell_type": "markdown",
   "id": "601cd5ef",
   "metadata": {},
   "source": [
    "<p style=\"color:brown;font-size:large\">Dirichlet inverse of positive integers:"
   ]
  },
  {
   "cell_type": "code",
   "execution_count": 17,
   "id": "d347febd",
   "metadata": {
    "vscode": {
     "languageId": "python"
    }
   },
   "outputs": [
    {
     "name": "stdout",
     "output_type": "stream",
     "text": [
      "[1, -2, -3, 4, -5, 6, -7, 8, 9, 10, -11, 0, -13, 14, 15, 0, -17, 0, -19, 0, 21, 22, -23, 0, 25, 26, 27, 0, -29]\n",
      "[1, -2, -3, 0, -5, 6, -7, 0, 0, 10, -11, 0, -13, 14, 15, 0, -17, 0, -19, 0, 21, 22, -23, 0, 0, 26, 0, 0, -29]\n"
     ]
    }
   ],
   "source": [
    "def A382940(n:int) -> int: \n",
    "    return ν(n) * n\n",
    "\n",
    "def A055615(n:int) -> int: \n",
    "    return µ(n) * n\n",
    "\n",
    "print([A382940(n) for n in srange(1, 30)])\n",
    "print([A055615(n) for n in srange(1, 30)])"
   ]
  },
  {
   "cell_type": "markdown",
   "id": "ff9ddf6c",
   "metadata": {},
   "source": [
    "<p style=\"color:brown;font-size:large\">Family similarities and differences between the Möbius function and his companion are captured in A383105, A383103, and A383018."
   ]
  },
  {
   "cell_type": "code",
   "execution_count": 18,
   "id": "c3813032",
   "metadata": {
    "vscode": {
     "languageId": "python"
    }
   },
   "outputs": [
    {
     "name": "stdout",
     "output_type": "stream",
     "text": [
      "[4, 8, 9, 25, 27, 32, 36, 49, 64, 100, 121, 125, 128, 169, 196, 216, 225, 243, 289, 343, 361]\n",
      "[4, 8, 9, 25, 27, 32, 49, 121, 125, 128, 169, 243, 289, 343, 361]\n",
      "[36, 64, 100, 196, 216, 225]\n"
     ]
    }
   ],
   "source": [
    "print([n for n in range(1, 362) if µ(n) != ν(n)])             # A383105\n",
    "print([n for n in range(1, 362) if µ(n) == 0 and ν(n) == 1])  # A383103\n",
    "print([n for n in range(1, 362) if µ(n) == 0 and ν(n) == -1]) # A383018"
   ]
  },
  {
   "cell_type": "markdown",
   "id": "ab3cfa8b",
   "metadata": {},
   "source": [
    "<p style=\"color:brown;font-size:large\">Note that ν(n) = 0 implies µ(n) = 0. In other words, if ν(n) = 0 then n is divisible by the square of a prime.<br><br>\n",
    "ν(n) = 0  <=> n is A059404 or n is A217261.<br>\n",
    "A059404 Numbers with different exponents in their prime factorizations.<br>\n",
    "A217261 Numbers of the form i^j^k, for i, j, k > 1."
   ]
  },
  {
   "cell_type": "code",
   "execution_count": 19,
   "id": "aacf2e55",
   "metadata": {
    "vscode": {
     "languageId": "python"
    }
   },
   "outputs": [
    {
     "data": {
      "text/plain": [
       "{0}"
      ]
     },
     "execution_count": 19,
     "metadata": {},
     "output_type": "execute_result"
    }
   ],
   "source": [
    "# This is a test that v(n) = 0 implies µ(n) = 0.\n",
    "\n",
    "A = [n for n in range(1, 4362) if ν(n) == 0]\n",
    "set([µ(n) for n in A])"
   ]
  },
  {
   "cell_type": "code",
   "execution_count": 20,
   "id": "2bf786d1",
   "metadata": {
    "vscode": {
     "languageId": "python"
    }
   },
   "outputs": [
    {
     "data": {
      "text/plain": [
       "{0}"
      ]
     },
     "execution_count": 20,
     "metadata": {},
     "output_type": "execute_result"
    }
   ],
   "source": [
    "# This is a test that v vanishes on A059404.\n",
    "\n",
    "def isA059404(n) -> bool: \n",
    "    return 1 < len(set(valuation(n, p) for p in prime_divisors(n)))\n",
    "A = [n for n in range(1, 190) if isA059404(n)]\n",
    "\n",
    "set([ν(n) for n in A])"
   ]
  },
  {
   "cell_type": "code",
   "execution_count": 21,
   "id": "3b51f9a7",
   "metadata": {
    "vscode": {
     "languageId": "python"
    }
   },
   "outputs": [
    {
     "data": {
      "text/plain": [
       "{0}"
      ]
     },
     "execution_count": 21,
     "metadata": {},
     "output_type": "execute_result"
    }
   ],
   "source": [
    "# Data from A217261. The implementation of v is not efficient enough to compute large terms.\n",
    "\n",
    "A = [16, 81, 256, 512, 625, 1296, 2401, 4096]\n",
    "B = [16, 81, 256, 512, 625, 1296, 2401, 4096, 6561, 10000, 14641, 19683, 20736, 28561, 38416, 50625, 65536, 83521, 104976, 130321, 160000, 194481, 234256, 262144, 279841, 331776, 390625, 456976, 531441, 614656, 707281, 810000, 923521, 1048576, 1185921]\n",
    "\n",
    "set([ν(n) for n in A])\n",
    "# for n in B: print(n, factor(n), µ(n), is_square(n))"
   ]
  },
  {
   "cell_type": "markdown",
   "id": "738da6b3",
   "metadata": {},
   "source": [
    "<p style=\"color:brown;font-size:large\">Note that ν(n) = -1 implies n is not in A053810. In other words, if ν(n) = -1 then n does not have the form p^e where both p and e are prime numbers; thus in particular n is not a prime number.<br>"
   ]
  },
  {
   "cell_type": "code",
   "execution_count": 22,
   "id": "7bf3ce93",
   "metadata": {
    "vscode": {
     "languageId": "python"
    }
   },
   "outputs": [
    {
     "data": {
      "text/plain": [
       "{False}"
      ]
     },
     "execution_count": 22,
     "metadata": {},
     "output_type": "execute_result"
    }
   ],
   "source": [
    "# Test that v(n) == -1 implies n is not in A053810. \n",
    "\n",
    "def isA053810(n: int) -> bool:\n",
    "    p = prime_divisors(n)\n",
    "    return len(p) == 1 and is_prime(valuation(n, p[0]))\n",
    "\n",
    "A = [n for n in range(1, 2000) if ν(n) == -1]\n",
    "set([isA053810(n) for n in A])"
   ]
  },
  {
   "cell_type": "markdown",
   "id": "4aebb062",
   "metadata": {},
   "source": [
    "<p style=\"color:brown;font-size:large\">Illustrating the different indicator functions:"
   ]
  },
  {
   "cell_type": "code",
   "execution_count": 23,
   "id": "e69361d5",
   "metadata": {
    "vscode": {
     "languageId": "python"
    }
   },
   "outputs": [
    {
     "name": "stdout",
     "output_type": "stream",
     "text": [
      "  1 |  1 |  1 |  0 | 1           \n",
      "  2 | -1 | -1 |  0 | 2           \n",
      "  3 | -1 | -1 |  0 | 3           \n",
      "  4 |  1 |  0 |  1 | 2^2         \n",
      "  5 | -1 | -1 |  0 | 5           \n",
      "  6 |  1 |  1 |  0 | 2 * 3       \n",
      "  7 | -1 | -1 |  0 | 7           \n",
      "  8 |  1 |  0 |  1 | 2^3         \n",
      "  9 |  1 |  0 |  1 | 3^2         \n",
      " 10 |  1 |  1 |  0 | 2 * 5       \n",
      " 11 | -1 | -1 |  0 | 11          \n",
      " 12 |  0 |  0 |  0 | 2^2 * 3     \n",
      " 13 | -1 | -1 |  0 | 13          \n",
      " 14 |  1 |  1 |  0 | 2 * 7       \n",
      " 15 |  1 |  1 |  0 | 3 * 5       \n",
      " 16 |  0 |  0 |  0 | 2^4         \n",
      " 17 | -1 | -1 |  0 | 17          \n",
      " 18 |  0 |  0 |  0 | 2 * 3^2     \n",
      " 19 | -1 | -1 |  0 | 19          \n",
      " 20 |  0 |  0 |  0 | 2^2 * 5     \n",
      " 21 |  1 |  1 |  0 | 3 * 7       \n",
      " 22 |  1 |  1 |  0 | 2 * 11      \n",
      " 23 | -1 | -1 |  0 | 23          \n",
      " 24 |  0 |  0 |  0 | 2^3 * 3     \n",
      " 25 |  1 |  0 |  1 | 5^2         \n",
      " 26 |  1 |  1 |  0 | 2 * 13      \n",
      " 27 |  1 |  0 |  1 | 3^3         \n",
      " 28 |  0 |  0 |  0 | 2^2 * 7     \n",
      " 29 | -1 | -1 |  0 | 29          \n",
      " 30 | -1 | -1 |  0 | 2 * 3 * 5   \n",
      " 31 | -1 | -1 |  0 | 31          \n",
      " 32 |  1 |  0 |  1 | 2^5         \n",
      " 33 |  1 |  1 |  0 | 3 * 11      \n",
      " 34 |  1 |  1 |  0 | 2 * 17      \n",
      " 35 |  1 |  1 |  0 | 5 * 7       \n",
      " 36 | -1 |  0 |  0 | 2^2 * 3^2   \n",
      " 37 | -1 | -1 |  0 | 37          \n",
      " 38 |  1 |  1 |  0 | 2 * 19      \n",
      " 39 |  1 |  1 |  0 | 3 * 13      \n"
     ]
    }
   ],
   "source": [
    "for n in range(1, 40):\n",
    "    vn = ν(n); m = moebius(n); \n",
    "    pp = int(isA053810(n)); f = factor(n)\n",
    "    print(f\"{n:>3} | {vn:>2} | {m:>2} | {pp:>2} | {str(f):<12}\") "
   ]
  },
  {
   "cell_type": "code",
   "execution_count": 24,
   "id": "9fd95836",
   "metadata": {
    "vscode": {
     "languageId": "python"
    }
   },
   "outputs": [],
   "source": [
    "# And there are more things to study ...\n",
    "# A162143 or A074853 ?"
   ]
  },
  {
   "cell_type": "markdown",
   "id": "726da70a",
   "metadata": {},
   "source": [
    "<p style=\"color:brown;font-size:large\">The summatory function of ν ..."
   ]
  },
  {
   "cell_type": "code",
   "execution_count": 25,
   "id": "688ef7a9",
   "metadata": {
    "vscode": {
     "languageId": "python"
    }
   },
   "outputs": [
    {
     "name": "stdout",
     "output_type": "stream",
     "text": [
      "[1, 0, -1, 0, -1, 0, -1, 0, 1, 2, 1, 1, 0, 1, 2, 2, 1, 1, 0, 0, 1, 2, 1, 1, 2, 3, 4, 4, 3]\n"
     ]
    }
   ],
   "source": [
    "def Σν(n: int) -> int:\n",
    "    return sum(ν(k) for k in range(n+1))\n",
    "\n",
    "print([Σν(n) for n in range(1, 30)])"
   ]
  },
  {
   "cell_type": "markdown",
   "id": "d271a4d9",
   "metadata": {},
   "source": [
    "<p style=\"color:brown;font-size:large\"> ... and its ID in the OEIS:"
   ]
  },
  {
   "cell_type": "code",
   "execution_count": 26,
   "id": "e31c3682",
   "metadata": {
    "vscode": {
     "languageId": "python"
    }
   },
   "outputs": [
    {
     "name": "stdout",
     "output_type": "stream",
     "text": [
      "[1, 0, -1, 0, -1, 0, -1, 0, 1, 2, 1, 1, 0, 1, 2, 2, 1, 1, 0, 0, 1, 2, 1, 1, 2, 3, 4, 4, 3]\n"
     ]
    }
   ],
   "source": [
    "A382942 = Σν\n",
    "print([A382942(n) for n in range(1, 30)])"
   ]
  },
  {
   "cell_type": "markdown",
   "id": "2d9ea63e",
   "metadata": {},
   "source": [
    "<p style=\"color:brown;font-size:large\">The von Mangoldt brothers join the Moebius party:"
   ]
  },
  {
   "cell_type": "code",
   "execution_count": 27,
   "id": "bccf3bf0",
   "metadata": {
    "vscode": {
     "languageId": "python"
    }
   },
   "outputs": [],
   "source": [
    "def νMangoldt(n: int) -> int:\n",
    "    return simplify(exp(sum(ν(d)*log(n//d) for d in divisors(n))))\n",
    "\n",
    "def µMangoldt(n: int) -> int:\n",
    "    return simplify(exp(sum(µ(d)*log(n//d) for d in divisors(n))))"
   ]
  },
  {
   "cell_type": "code",
   "execution_count": 28,
   "id": "4155b40a",
   "metadata": {
    "vscode": {
     "languageId": "python"
    }
   },
   "outputs": [
    {
     "name": "stdout",
     "output_type": "stream",
     "text": [
      "[1, 2, 3, 2, 5, 1, 7, 4, 3, 1, 11, 3, 13, 1, 1, 16, 17, 2, 19, 5, 1, 1, 23, 18, 5, 1, 9, 7, 29]\n",
      "[1, 2, 3, 2, 5, 1, 7, 2, 3, 1, 11, 1, 13, 1, 1, 2, 17, 1, 19, 1, 1, 1, 23, 1, 5, 1, 3, 1, 29]\n"
     ]
    }
   ],
   "source": [
    "print([νMangoldt(n) for n in srange(1, 30)])    # A014963\n",
    "print([µMangoldt(n) for n in srange(1, 30)])    # A382941"
   ]
  },
  {
   "cell_type": "markdown",
   "id": "913cb9f2",
   "metadata": {},
   "source": [
    "<p style=\"color:brown;font-size:large\">On OEIS use the names:"
   ]
  },
  {
   "cell_type": "code",
   "execution_count": 29,
   "id": "b5702832",
   "metadata": {
    "vscode": {
     "languageId": "python"
    }
   },
   "outputs": [],
   "source": [
    "A382941 = νMangoldt\n",
    "A014963 = µMangoldt"
   ]
  },
  {
   "cell_type": "markdown",
   "id": "259b22b7",
   "metadata": {},
   "source": [
    "<p style=\"color:brown;font-size:large\">Summatory functions:"
   ]
  },
  {
   "cell_type": "code",
   "execution_count": 30,
   "id": "783447a5",
   "metadata": {
    "vscode": {
     "languageId": "python"
    }
   },
   "outputs": [],
   "source": [
    "from itertools import accumulate\n",
    "\n",
    "def ΣνMangoldt(len: int) -> list[int]:\n",
    "    return list(accumulate([νMangoldt(n) for n in srange(1, len)]))\n",
    "\n",
    "def ΣµMangoldt(len: int) -> list[int]:\n",
    "    return list(accumulate([µMangoldt(n) for n in srange(1, len)]))"
   ]
  },
  {
   "cell_type": "code",
   "execution_count": 31,
   "id": "49d2569f",
   "metadata": {
    "vscode": {
     "languageId": "python"
    }
   },
   "outputs": [
    {
     "name": "stdout",
     "output_type": "stream",
     "text": [
      "[1, 3, 6, 8, 13, 14, 21, 25, 28, 29, 40, 43, 56, 57, 58, 74, 91, 93, 112, 117, 118]\n",
      "[1, 3, 6, 8, 13, 14, 21, 23, 26, 27, 38, 39, 52, 53, 54, 56, 73, 74, 93, 94, 95]\n"
     ]
    }
   ],
   "source": [
    "print(ΣνMangoldt(22))\n",
    "print(ΣµMangoldt(22))"
   ]
  },
  {
   "cell_type": "markdown",
   "id": "a3540390",
   "metadata": {},
   "source": [
    "<p style=\"color:brown;font-size:large\">On OEIS you see this:"
   ]
  },
  {
   "cell_type": "code",
   "execution_count": 32,
   "id": "0c8248f1",
   "metadata": {
    "vscode": {
     "languageId": "python"
    }
   },
   "outputs": [],
   "source": [
    "missing = ΣνMangoldt\n",
    "A072107 = ΣµMangoldt"
   ]
  },
  {
   "cell_type": "markdown",
   "id": "b478a811",
   "metadata": {},
   "source": [
    "<h1 style=\"color:#CD5C5C;background:white; line-height: 150%;\n",
    "border-top: thick solid #CD5C5C; float: left; width: 100%; margin-top: 1em;\">\n",
    "Transforms à la Dirichlet</h1>"
   ]
  },
  {
   "cell_type": "code",
   "execution_count": 33,
   "id": "16603542",
   "metadata": {
    "vscode": {
     "languageId": "python"
    }
   },
   "outputs": [],
   "source": [
    "def vT(b, n) -> int:\n",
    "    return sum(ν(n//d)*b(d) for d in divisors(n))\n",
    "\n",
    "def µT(b, n) -> int:\n",
    "    return sum(µ(n//d)*b(d) for d in divisors(n))"
   ]
  },
  {
   "cell_type": "markdown",
   "id": "ec7920b2",
   "metadata": {},
   "source": [
    "<p style=\"color:brown;font-size:large\">Three classical examples for the transforms:\n",
    "\n",
    "* b: x -> 1 <br>\n",
    "* b: x -> x <br>\n",
    "* b: x -> 1 if x = 1 else 0"
   ]
  },
  {
   "cell_type": "code",
   "execution_count": 34,
   "id": "106dc3bf",
   "metadata": {
    "vscode": {
     "languageId": "python"
    }
   },
   "outputs": [
    {
     "name": "stdout",
     "output_type": "stream",
     "text": [
      "[1, 0, 0, 1, 0, 0, 0, 2, 1, 0, 0, 1, 0, 0, 0, 2, 0, 1, 0, 1, 0, 0, 0, 2, 1, 0, 2, 1, 0]\n",
      "[1, 0, 0, 0, 0, 0, 0, 0, 0, 0, 0, 0, 0, 0, 0, 0, 0, 0, 0, 0, 0, 0, 0, 0, 0, 0, 0, 0, 0]\n"
     ]
    }
   ],
   "source": [
    "b = lambda x: 1\n",
    "\n",
    "print([vT(b, n) for n in srange(1, 30)])\n",
    "print([µT(b, n) for n in srange(1, 30)])"
   ]
  },
  {
   "cell_type": "markdown",
   "id": "34623a2b",
   "metadata": {},
   "source": [
    "<p style=\"color:brown;font-size:large\">On the OEIS you see this: A383104, similar to A366988; apparently with the same indicator function for n > 1."
   ]
  },
  {
   "cell_type": "code",
   "execution_count": 35,
   "id": "fb58e6ad",
   "metadata": {
    "vscode": {
     "languageId": "python"
    }
   },
   "outputs": [
    {
     "name": "stdout",
     "output_type": "stream",
     "text": [
      "[1, 1, 2, 3, 4, 2, 6, 7, 7, 4, 10, 7, 12, 6, 8, 14, 16, 8, 18, 13, 12, 10, 22, 17, 21, 12, 22, 19, 28]\n",
      "[1, 1, 2, 2, 4, 2, 6, 4, 6, 4, 10, 4, 12, 6, 8, 8, 16, 6, 18, 8, 12, 10, 22, 8, 20, 12, 18, 12, 28]\n"
     ]
    }
   ],
   "source": [
    "b = lambda x: x\n",
    "\n",
    "print([vT(b, n) for n in srange(1, 30)])\n",
    "print([µT(b, n) for n in srange(1, 30)])"
   ]
  },
  {
   "cell_type": "markdown",
   "id": "c02e3932",
   "metadata": {},
   "source": [
    "<p style=\"color:brown;font-size:large\">This is A383124 in the case ν and Euler's totient function A000010 in the case µ."
   ]
  },
  {
   "cell_type": "code",
   "execution_count": 36,
   "id": "7c3b1888",
   "metadata": {
    "vscode": {
     "languageId": "python"
    }
   },
   "outputs": [
    {
     "name": "stdout",
     "output_type": "stream",
     "text": [
      "[1, -1, -1, 1, -1, 1, -1, 1, 1, 1, -1, 0, -1, 1, 1, 0, -1, 0, -1, 0, 1, 1, -1, 0, 1, 1, 1, 0, -1]\n",
      "[1, -1, -1, 0, -1, 1, -1, 0, 0, 1, -1, 0, -1, 1, 1, 0, -1, 0, -1, 0, 1, 1, -1, 0, 0, 1, 0, 0, -1]\n"
     ]
    }
   ],
   "source": [
    "b = lambda x: 1 if x == 1 else 0\n",
    "\n",
    "print([vT(b, n) for n in srange(1, 30)])\n",
    "print([µT(b, n) for n in srange(1, 30)])"
   ]
  },
  {
   "cell_type": "markdown",
   "id": "d2d67019",
   "metadata": {},
   "source": [
    "<p style=\"color:brown;font-size:large\">The first sequence is missing in OEIS and the second is µ A008683."
   ]
  },
  {
   "cell_type": "markdown",
   "id": "9f22f486",
   "metadata": {},
   "source": [
    "<p style=\"color:brown;font-size:large\">Implemented as sequence-to-sequence transformations:"
   ]
  },
  {
   "cell_type": "code",
   "execution_count": 37,
   "id": "a0de0885",
   "metadata": {
    "vscode": {
     "languageId": "python"
    }
   },
   "outputs": [],
   "source": [
    "def νT(b: Callable[[int], int]) -> Callable[[int], int]:\n",
    "    def νb(n: int) -> int:\n",
    "        return sum(ν(n//d)*b(d) for d in divisors(n))\n",
    "    return νb"
   ]
  },
  {
   "cell_type": "code",
   "execution_count": 38,
   "id": "bac3f452",
   "metadata": {
    "vscode": {
     "languageId": "python"
    }
   },
   "outputs": [
    {
     "name": "stdout",
     "output_type": "stream",
     "text": [
      "[1, 0, 0, 1, 0, 0, 0, 2, 1, 0, 0, 1, 0, 0, 0, 2, 0, 1, 0, 1, 0, 0, 0, 2, 1, 0, 2, 1, 0]\n",
      "[1, 1, 2, 3, 4, 2, 6, 7, 7, 4, 10, 7, 12, 6, 8, 14, 16, 8, 18, 13, 12, 10, 22, 17, 21, 12, 22, 19, 28]\n",
      "[1, -1, -1, 1, -1, 1, -1, 1, 1, 1, -1, 0, -1, 1, 1, 0, -1, 0, -1, 0, 1, 1, -1, 0, 1, 1, 1, 0, -1]\n"
     ]
    }
   ],
   "source": [
    "ν1 = νT(lambda _: 1); \n",
    "νX = νT(lambda x: x); \n",
    "νI = νT(lambda x: 1 if x == 1 else 0)\n",
    "\n",
    "print([ν1(n) for n in range(1, 30)])\n",
    "print([νX(n) for n in range(1, 30)])\n",
    "print([νI(n) for n in range(1, 30)])"
   ]
  },
  {
   "cell_type": "code",
   "execution_count": 39,
   "id": "c5b05db9",
   "metadata": {
    "vscode": {
     "languageId": "python"
    }
   },
   "outputs": [],
   "source": [
    "def µT(b: Callable[[int], int]) -> Callable[[int], int]:\n",
    "    def µb(n: int) -> int:\n",
    "        return sum(µ(n//d)*b(d) for d in divisors(n))\n",
    "    return µb"
   ]
  },
  {
   "cell_type": "code",
   "execution_count": 40,
   "id": "e63ea671",
   "metadata": {
    "vscode": {
     "languageId": "python"
    }
   },
   "outputs": [
    {
     "name": "stdout",
     "output_type": "stream",
     "text": [
      "[1, 0, 0, 0, 0, 0, 0, 0, 0, 0, 0, 0, 0, 0, 0, 0, 0, 0, 0, 0, 0, 0, 0, 0, 0, 0, 0, 0, 0]\n",
      "[1, 1, 2, 2, 4, 2, 6, 4, 6, 4, 10, 4, 12, 6, 8, 8, 16, 6, 18, 8, 12, 10, 22, 8, 20, 12, 18, 12, 28]\n",
      "[1, -1, -1, 0, -1, 1, -1, 0, 0, 1, -1, 0, -1, 1, 1, 0, -1, 0, -1, 0, 1, 1, -1, 0, 0, 1, 0, 0, -1]\n"
     ]
    }
   ],
   "source": [
    "µ1 = µT(lambda _: 1); \n",
    "µX = µT(lambda x: x); \n",
    "µI = µT(lambda x: 1 if x == 1 else 0)\n",
    "\n",
    "print([µ1(n) for n in range(1, 30)])\n",
    "print([µX(n) for n in range(1, 30)])\n",
    "print([µI(n) for n in range(1, 30)])"
   ]
  },
  {
   "cell_type": "markdown",
   "id": "abd1da9c",
   "metadata": {},
   "source": [
    "<p style=\"color:brown;font-size:large;\">Let's check a special case:</p>"
   ]
  },
  {
   "cell_type": "code",
   "execution_count": 41,
   "id": "54cf0f5d",
   "metadata": {
    "vscode": {
     "languageId": "python"
    }
   },
   "outputs": [
    {
     "name": "stdout",
     "output_type": "stream",
     "text": [
      "[1, -2, -2, 2, -2, 4, -2, 0, 2, 4, -2, -3, -2, 4, 4, -1, -2, -3, -2, -3, 4, 4, -2, 0, 2, 4, 0, -3, -2]\n",
      "[1, -2, -2, 2, -2, 4, -2, 0, 2, 4, -2, -3, -2, 4, 4, -1, -2, -3, -2, -3, 4, 4, -2, 0, 2, 4, 0, -3, -2]\n"
     ]
    }
   ],
   "source": [
    "νµ = νT(µ)\n",
    "µν = µT(ν)\n",
    "\n",
    "print([νµ(n) for n in range(1, 30)]) \n",
    "print([µν(n) for n in range(1, 30)]) "
   ]
  },
  {
   "cell_type": "markdown",
   "id": "02a4fb5f",
   "metadata": {},
   "source": [
    "<p style=\"color:brown;font-size:large;\">This is not surprising as the Dirichlet convolution is commutative but we are pleased that it also applies in our case (since we found on two different paths).\n",
    "\n",
    "$$\n",
    "     \\nu * \\mu = \\mu * \\nu  \n",
    "$$\n",
    "\n",
    "$$\n",
    "νT(µ) = µT(ν)\n",
    "$$\n",
    "\n",
    "$$\n",
    "    \\sum_{d \\mid n} \\nu(d) \\, \\mu\\!\\left(\\frac{n}{d}\\right) =\n",
    "    \\sum_{d \\mid n} \\mu(d) \\, \\nu\\!\\left(\\frac{n}{d}\\right)\n",
    "$$"
   ]
  },
  {
   "cell_type": "markdown",
   "id": "b0c5c4b3",
   "metadata": {},
   "source": [
    "<p style=\"color:brown;font-size:large\">In OEIS it has the form A383123:"
   ]
  },
  {
   "cell_type": "code",
   "execution_count": 42,
   "id": "e32797ee",
   "metadata": {
    "vscode": {
     "languageId": "python"
    }
   },
   "outputs": [
    {
     "name": "stdout",
     "output_type": "stream",
     "text": [
      "[1, -2, -2, 2, -2, 4, -2, 0, 2, 4, -2, -3, -2, 4, 4, -1, -2, -3, -2, -3, 4, 4, -2, 0, 2, 4, 0, -3, -2]\n"
     ]
    }
   ],
   "source": [
    "@cached_function\n",
    "def A382883(n: int) -> int: \n",
    "    return n if n < 2 else -sum((1 if j == 1 else valuation(n, j))*A382883(j) \n",
    "                            for j in divisors(n)[:-1])\n",
    "\n",
    "def vT(b: Callable[[int], int]) -> Callable[[int], int]:\n",
    "    @cached_function\n",
    "    def vb(n: int) -> int:\n",
    "        return sum(A382883(n//d)*b(d) for d in divisors(n))\n",
    "    return vb\n",
    "\n",
    "A383123 = vT(moebius)\n",
    "print([A383123(n) for n in range(1, 30)])"
   ]
  },
  {
   "cell_type": "markdown",
   "id": "780c802a",
   "metadata": {},
   "source": [
    "<p style=\"color:brown;font-size:large\">We could iterate:"
   ]
  },
  {
   "cell_type": "code",
   "execution_count": 43,
   "id": "8262a127",
   "metadata": {
    "vscode": {
     "languageId": "python"
    }
   },
   "outputs": [
    {
     "name": "stdout",
     "output_type": "stream",
     "text": [
      "[1, -3, -3, 5, -3, 9, -3, -3, 5, 9, -3, -13, -3, 9, 9, -1, -3, -13, -3, -13, 9, 9, -3, 7, 5, 9, -3, -13, -3]\n",
      "[1, -3, -3, 3, -3, 9, -3, -1, 3, 9, -3, -9, -3, 9, 9, 0, -3, -9, -3, -9, 9, 9, -3, 3, 3, 9, -1, -9, -3]\n"
     ]
    }
   ],
   "source": [
    "A = vT(vT(moebius))\n",
    "print([A(n) for n in range(1, 30)])\n",
    "\n",
    "B = µT(µT(moebius))\n",
    "print([B(n) for n in range(1, 30)])"
   ]
  },
  {
   "cell_type": "code",
   "execution_count": 44,
   "id": "8ab4fccf",
   "metadata": {
    "vscode": {
     "languageId": "python"
    }
   },
   "outputs": [
    {
     "name": "stdout",
     "output_type": "stream",
     "text": [
      "[1, -3, -3, 4, -3, 9, -3, -2, 4, 9, -3, -11, -3, 9, 9, -1, -3, -11, -3, -11, 9, 9, -3, 5, 4, 9, -2, -11, -3]\n",
      "[1, -3, -3, 4, -3, 9, -3, -2, 4, 9, -3, -11, -3, 9, 9, -1, -3, -11, -3, -11, 9, 9, -3, 5, 4, 9, -2, -11, -3]\n"
     ]
    }
   ],
   "source": [
    "A = vT(µT(moebius))\n",
    "B = µT(vT(moebius))\n",
    "\n",
    "print([A(n) for n in range(1, 30)])\n",
    "print([B(n) for n in range(1, 30)])"
   ]
  },
  {
   "cell_type": "markdown",
   "id": "33ec3a05",
   "metadata": {},
   "source": [
    "<h1 style=\"color:#CD5C5C;background:white; line-height: 150%;\n",
    "border-top: thick solid #CD5C5C; float: left; width: 100%; margin-top: 1em;\">\n",
    "The Dirichlet Inverse</h1>"
   ]
  },
  {
   "cell_type": "code",
   "execution_count": 45,
   "id": "08a84a8c",
   "metadata": {
    "vscode": {
     "languageId": "python"
    }
   },
   "outputs": [],
   "source": [
    "def iT(b: Callable[[int], int]) -> Callable[[int], int]:\n",
    "    \"\"\"We assume b(1) = 1!\"\"\"\n",
    "    @cached_function\n",
    "    def g(n: int) -> int:\n",
    "        if n == 1:\n",
    "            return 1\n",
    "        s = sum(g(n//d)*b(d) for d in divisors(n)[1:])\n",
    "        return -s\n",
    "    return g"
   ]
  },
  {
   "cell_type": "markdown",
   "id": "583aa907",
   "metadata": {},
   "source": [
    "<p style=\"color:brown;font-size:large\">The Dirichlet inverse of ν is iν and the Dirichlet inverse of µ is iµ."
   ]
  },
  {
   "cell_type": "code",
   "execution_count": 46,
   "id": "164af96c",
   "metadata": {
    "vscode": {
     "languageId": "python"
    }
   },
   "outputs": [],
   "source": [
    "iν = iT(ν) \n",
    "iµ = iT(µ) \n",
    "\n",
    "# ... and back again\n",
    "iiν = iT(iν)\n",
    "iiµ = iT(iµ)"
   ]
  },
  {
   "cell_type": "code",
   "execution_count": 47,
   "id": "29ec2382",
   "metadata": {
    "vscode": {
     "languageId": "python"
    }
   },
   "outputs": [
    {
     "name": "stdout",
     "output_type": "stream",
     "text": [
      "[1, 1, 1, 0, 1, 1, 1, -2, 0, 1, 1, -1, 1, 1, 1, -3, 1, -1, 1, -1, 1, 1, 1, -5, 0, 1, -2, -1, 1]\n",
      "[1, 1, 1, 1, 1, 1, 1, 1, 1, 1, 1, 1, 1, 1, 1, 1, 1, 1, 1, 1, 1, 1, 1, 1, 1, 1, 1, 1, 1]\n"
     ]
    }
   ],
   "source": [
    "print([iν(n) for n in range(1, 30)])\n",
    "print([iµ(n) for n in range(1, 30)])"
   ]
  },
  {
   "cell_type": "code",
   "execution_count": 48,
   "id": "3bf9b559",
   "metadata": {
    "vscode": {
     "languageId": "python"
    }
   },
   "outputs": [
    {
     "name": "stdout",
     "output_type": "stream",
     "text": [
      "[1, -1, -1, 1, -1, 1, -1, 1, 1, 1, -1, 0, -1, 1, 1, 0, -1, 0, -1, 0, 1, 1, -1, 0, 1, 1, 1, 0, -1]\n",
      "[1, -1, -1, 1, -1, 1, -1, 1, 1, 1, -1, 0, -1, 1, 1, 0, -1, 0, -1, 0, 1, 1, -1, 0, 1, 1, 1, 0, -1]\n"
     ]
    }
   ],
   "source": [
    "print([ν(n) for n in range(1, 30)])\n",
    "print([iiν(n) for n in range(1, 30)])"
   ]
  },
  {
   "cell_type": "code",
   "execution_count": 49,
   "id": "abf3f77d",
   "metadata": {
    "vscode": {
     "languageId": "python"
    }
   },
   "outputs": [
    {
     "name": "stdout",
     "output_type": "stream",
     "text": [
      "[1, -1, -1, 0, -1, 1, -1, 0, 0, 1, -1, 0, -1, 1, 1, 0, -1, 0, -1, 0, 1, 1, -1, 0, 0, 1, 0, 0, -1]\n",
      "[1, -1, -1, 0, -1, 1, -1, 0, 0, 1, -1, 0, -1, 1, 1, 0, -1, 0, -1, 0, 1, 1, -1, 0, 0, 1, 0, 0, -1]\n"
     ]
    }
   ],
   "source": [
    "print([µ(n) for n in range(1, 30)])\n",
    "print([iiµ(n) for n in range(1, 30)])"
   ]
  },
  {
   "cell_type": "markdown",
   "id": "83097643",
   "metadata": {},
   "source": [
    "<p style=\"color:brown;font-size:large\"> A383210 / A000012 / A382883 /  A008683"
   ]
  },
  {
   "cell_type": "code",
   "execution_count": 50,
   "id": "cd6dbaa8",
   "metadata": {
    "vscode": {
     "languageId": "python"
    }
   },
   "outputs": [
    {
     "name": "stdout",
     "output_type": "stream",
     "text": [
      "[1, -1, -1, 0, -1, 1, -1, 0, 0, 1, -1, 0, -1, 1, 1, 0, -1, 0, -1, 0, 1, 1, -1, 0, 0, 1, 0, 0, -1]\n",
      "[1, -2, -3, 0, -5, 6, -7, 0, 0, 10, -11, 0, -13, 14, 15, 0, -17, 0, -19, 0, 21, 22, -23, 0, 0, 26, 0, 0, -29]\n",
      "[1, 0, 0, 0, 0, 0, 0, 0, 0, 0, 0, 0, 0, 0, 0, 0, 0, 0, 0, 0, 0, 0, 0, 0, 0, 0, 0, 0, 0]\n"
     ]
    }
   ],
   "source": [
    "i1 = iT(lambda _: 1) \n",
    "ix = iT(lambda x: x) \n",
    "iI = iT(lambda x: 1 if x == 1 else 0)\n",
    "\n",
    "print([i1(n) for n in range(1, 30)])\n",
    "print([ix(n) for n in range(1, 30)])\n",
    "print([iI(n) for n in range(1, 30)])"
   ]
  },
  {
   "cell_type": "markdown",
   "id": "a0ddb763",
   "metadata": {},
   "source": [
    "<p style=\"color:brown;font-size:large\"> A008683 / A055615 / A000007"
   ]
  },
  {
   "cell_type": "code",
   "execution_count": 51,
   "id": "84eccb70",
   "metadata": {
    "vscode": {
     "languageId": "python"
    }
   },
   "outputs": [
    {
     "name": "stdout",
     "output_type": "stream",
     "text": [
      "[1, 0, 0, -1, 0, 0, 0, -2, -1, 0, 0, -1, 0, 0, 0, -1, 0, -1, 0, -1, 0, 0, 0, -2, -1, 0, -2, -1, 0]\n",
      "[1, -1, -2, -2, -4, 2, -6, -2, -3, 4, -10, 3, -12, 6, 8, 1, -16, 2, -18, 7, 12, 10, -22, 3, -5, 12, -2, 11, -28]\n",
      "[1, 1, 1, 0, 1, 1, 1, -2, 0, 1, 1, -1, 1, 1, 1, -3, 1, -1, 1, -1, 1, 1, 1, -5, 0, 1, -2, -1, 1]\n"
     ]
    }
   ],
   "source": [
    "i1 = iT(νT(lambda _: 1))\n",
    "ix = iT(νT(lambda x: x))\n",
    "iI = iT(νT(lambda x: 1 if x == 1 else 0))\n",
    "\n",
    "print([i1(n) for n in range(1, 30)])\n",
    "print([ix(n) for n in range(1, 30)])\n",
    "print([iI(n) for n in range(1, 30)])"
   ]
  },
  {
   "cell_type": "markdown",
   "id": "512d09e8",
   "metadata": {},
   "source": [
    "<p style=\"color:brown;font-size:large\"> ? / ? / A383211"
   ]
  },
  {
   "cell_type": "code",
   "execution_count": 52,
   "id": "d3af3428",
   "metadata": {
    "vscode": {
     "languageId": "python"
    }
   },
   "outputs": [
    {
     "name": "stdout",
     "output_type": "stream",
     "text": [
      "[1, 0, 0, 0, 0, 0, 0, 0, 0, 0, 0, 0, 0, 0, 0, 0, 0, 0, 0, 0, 0, 0, 0, 0, 0, 0, 0, 0, 0]\n",
      "[1, -1, -2, -1, -4, 2, -6, -1, -2, 4, -10, 2, -12, 6, 8, -1, -16, 2, -18, 4, 12, 10, -22, 2, -4, 12, -2, 6, -28]\n",
      "[1, 1, 1, 1, 1, 1, 1, 1, 1, 1, 1, 1, 1, 1, 1, 1, 1, 1, 1, 1, 1, 1, 1, 1, 1, 1, 1, 1, 1]\n"
     ]
    }
   ],
   "source": [
    "i1 = iT(µT(lambda _: 1))\n",
    "ix = iT(µT(lambda x: x))\n",
    "iI = iT(µT(lambda x: 1 if x == 1 else 0))\n",
    "\n",
    "print([i1(n) for n in range(1, 30)])\n",
    "print([ix(n) for n in range(1, 30)])\n",
    "print([iI(n) for n in range(1, 30)])"
   ]
  },
  {
   "cell_type": "markdown",
   "id": "b3eb71b4",
   "metadata": {},
   "source": [
    "<p style=\"color:brown;font-size:large\">A000007 / A023900 / A000012"
   ]
  },
  {
   "cell_type": "markdown",
   "id": "c268972b",
   "metadata": {},
   "source": [
    "<h1 style=\"color:#CD5C5C;background:white; line-height: 150%;\n",
    "border-top: thick solid #CD5C5C; float: left; width: 100%; margin-top: 1em;\">\n",
    "Some uses in classifying integers</h1>"
   ]
  },
  {
   "cell_type": "markdown",
   "id": "84444114",
   "metadata": {},
   "source": [
    "<p style=\"color:brown;font-size:large\">Examples:  \n",
    "\n",
    "Recall A382883 = ν.\n",
    "\n",
    "ν(99) = 0 because 99 is a number with different exponents in the prime factorization (A059404).\n",
    "\n",
    "ν(2197) = 1 because 2197 is a number of the form p^e where both p and e are prime numbers (A053810).\n",
    "\n",
    "ν(127) = -1 because 127 is a prime number."
   ]
  },
  {
   "cell_type": "markdown",
   "id": "aa66966c",
   "metadata": {},
   "source": [
    "<p style=\"color:brown;font-size:large\">A059404"
   ]
  },
  {
   "cell_type": "code",
   "execution_count": 53,
   "id": "da1408cb",
   "metadata": {
    "vscode": {
     "languageId": "python"
    }
   },
   "outputs": [
    {
     "data": {
      "text/plain": [
       "{0}"
      ]
     },
     "execution_count": 53,
     "metadata": {},
     "output_type": "execute_result"
    }
   ],
   "source": [
    "@cached_function\n",
    "def isA059404(n: int) -> bool: \n",
    "    return 1 < len(set(valuation(n, p) for p in prime_divisors(n)))\n",
    "\n",
    "F = [n for n in range(1, 2000) if isA059404(n)]\n",
    "set([ν(n) for n in F])"
   ]
  },
  {
   "cell_type": "markdown",
   "id": "845abfa0",
   "metadata": {},
   "source": [
    "<p style=\"color:brown;font-size:large\">A053810"
   ]
  },
  {
   "cell_type": "code",
   "execution_count": 54,
   "id": "d0bfa321",
   "metadata": {
    "vscode": {
     "languageId": "python"
    }
   },
   "outputs": [
    {
     "data": {
      "text/plain": [
       "{1}"
      ]
     },
     "execution_count": 54,
     "metadata": {},
     "output_type": "execute_result"
    }
   ],
   "source": [
    "def isA053810(n: int) -> bool:\n",
    "    p = prime_divisors(n)\n",
    "    return len(p) == 1 and is_prime(valuation(n, p[0]))\n",
    "\n",
    "F = [n for n in srange(1, 2000) if isA053810(n)]\n",
    "set([ν(n) for n in F])"
   ]
  },
  {
   "cell_type": "markdown",
   "id": "be72c079",
   "metadata": {},
   "source": [
    "<p style=\"color:brown;font-size:large\">A000040"
   ]
  },
  {
   "cell_type": "code",
   "execution_count": 55,
   "id": "f1f63301",
   "metadata": {
    "vscode": {
     "languageId": "python"
    }
   },
   "outputs": [
    {
     "name": "stdout",
     "output_type": "stream",
     "text": [
      "[-1, -1, -1, -1, -1, -1, -1, -1, -1, -1, -1, -1, -1, -1, -1]\n",
      "[-1, -1, -1, -1, -1, -1, -1, -1, -1, -1, -1, -1, -1, -1, -1]\n"
     ]
    }
   ],
   "source": [
    "F = [p for p in prime_range(50)]\n",
    "\n",
    "print([µ(p) for p in F])\n",
    "print([ν(p) for p in F])"
   ]
  },
  {
   "cell_type": "markdown",
   "id": "b440fbbc",
   "metadata": {},
   "source": [
    "<p style=\"color:brown;font-size:large\">A001248"
   ]
  },
  {
   "cell_type": "code",
   "execution_count": 56,
   "id": "d66ac016",
   "metadata": {
    "vscode": {
     "languageId": "python"
    }
   },
   "outputs": [
    {
     "name": "stdout",
     "output_type": "stream",
     "text": [
      "[0, 0, 0, 0, 0, 0, 0, 0, 0, 0, 0, 0, 0, 0, 0]\n",
      "[1, 1, 1, 1, 1, 1, 1, 1, 1, 1, 1, 1, 1, 1, 1]\n"
     ]
    }
   ],
   "source": [
    "F = [p^2 for p in prime_range(50)]\n",
    "\n",
    "print([µ(p) for p in F])\n",
    "print([ν(p) for p in F])"
   ]
  },
  {
   "cell_type": "markdown",
   "id": "950f3f38",
   "metadata": {},
   "source": [
    "<p style=\"color:brown;font-size:large\">Similar but different from A259183\n"
   ]
  },
  {
   "cell_type": "code",
   "execution_count": 57,
   "id": "83f4054b",
   "metadata": {
    "vscode": {
     "languageId": "python"
    }
   },
   "outputs": [
    {
     "name": "stdout",
     "output_type": "stream",
     "text": [
      "[4, 8, 9, 25, 27, 32, 36, 49, 64, 100, 121, 125, 128]\n"
     ]
    }
   ],
   "source": [
    "F = [n for n in srange(1, 150) if µ(n) != ν(n)]\n",
    "print(F)"
   ]
  },
  {
   "cell_type": "markdown",
   "id": "99c21e39",
   "metadata": {},
   "source": [
    "<p style=\"color:brown;font-size:large\">Similar but different from A323350"
   ]
  },
  {
   "cell_type": "code",
   "execution_count": 58,
   "id": "81576c42",
   "metadata": {
    "vscode": {
     "languageId": "python"
    }
   },
   "outputs": [
    {
     "name": "stdout",
     "output_type": "stream",
     "text": [
      "[0, 1, 1, -1, 1, -1, 1, -1, -1, -1, 1, -1, 1, -1, -1, 0, 1, -1, 1, -1, -1, -1, 1, 0, -1, -1, -1, -1, 1, -1, 1, -1, -1, -1, -1, 0, 1, -1, -1, 0, 1, -1, 1, -1, -1, -1, 1, -1, -1, -1, -1, -1, 1, 0, -1, 0, -1, -1, 1, 0, 1, -1, -1, 1, -1, -1, 1, -1, -1, -1, 1, -1, 1, -1, -1, -1, -1, -1, 1, -1, 0, -1, 1, 0, -1, -1, -1, 0, 1, 0, -1, -1, -1, -1, -1, 1, 1, -1, -1]\n",
      "[0, 1, 1, -1, 1, -1, 1, -1, -1, -1, 1, -1, 1, -1, -1, 1, 1, -1, 1, -1, -1, -1, 1, 1, -1, -1, -1, -1, 1, -1, 1, -1, -1, -1, -1, 1, 1, -1, -1, 1, 1, -1, 1, -1, -1, -1, 1, -1, -1, -1, -1, -1, 1, 1, -1, 1, -1, -1, 1, 1, 1, -1, -1, 1, -1, -1, 1, -1, -1, -1, 1, -1, 1, -1, -1, -1, -1, -1, 1, -1, 1, -1, 1, 1, -1, -1, -1, 1, 1, 1, -1, -1, -1, -1, -1, 1, 1, -1, -1]\n",
      "[16, 24, 36, 40, 54, 56, 60, 81, 84, 88, 90, 100, 104, 126, 132, 135, 136, 140, 150, 152, 156, 184, 189, 196, 198, 204, 210, 220, 225, 228, 232, 234, 248, 250, 256]\n"
     ]
    }
   ],
   "source": [
    "def bigomega(n: int) -> int: \n",
    "    return sloane.A001222(n)\n",
    "F = [bigomega(n) for n in srange(1, 100)]\n",
    "\n",
    "print([µ(n) for n in F])\n",
    "print([ν(n) for n in F])\n",
    "print([n for n in srange(1, 260) if µ(bigomega(n)) != ν(bigomega(n))])"
   ]
  },
  {
   "cell_type": "markdown",
   "id": "1885557b",
   "metadata": {},
   "source": [
    "<p style=\"color:brown;font-size:large\">A120497 ? Positive integers whose number of divisors is a perfect power ?"
   ]
  },
  {
   "cell_type": "code",
   "execution_count": 59,
   "id": "c5c18da0",
   "metadata": {
    "vscode": {
     "languageId": "python"
    }
   },
   "outputs": [
    {
     "name": "stdout",
     "output_type": "stream",
     "text": [
      "[6, 8, 10, 14, 15, 21, 22, 24, 26, 27, 30, 33, 34, 35, 36, 38, 39, 40, 42, 46]\n"
     ]
    }
   ],
   "source": [
    "def tau(n: int) -> int: \n",
    "    return sigma(n, 0)\n",
    "print([n for n in srange(1, 50) if µ(tau(n)) != ν(tau(n))])"
   ]
  },
  {
   "cell_type": "markdown",
   "id": "fb30a00b",
   "metadata": {},
   "source": [
    "<p style=\"color:brown;font-size:large\">Subsequence of A065496 ? "
   ]
  },
  {
   "cell_type": "code",
   "execution_count": 60,
   "id": "6db5ce2d",
   "metadata": {
    "vscode": {
     "languageId": "python"
    }
   },
   "outputs": [
    {
     "name": "stdout",
     "output_type": "stream",
     "text": [
      "[3, 7, 21, 22, 31, 81, 93, 102, 110, 127, 142]\n"
     ]
    }
   ],
   "source": [
    "def s1(n: int) -> int: \n",
    "    return sigma(n, 1)\n",
    "print([n for n in srange(1, 150) if µ(s1(n)) != ν(s1(n))])"
   ]
  },
  {
   "cell_type": "markdown",
   "id": "69d1784d",
   "metadata": {},
   "source": [
    "<p style=\"color:brown;font-size:large\">Clarify their relation to the numbers A059404 with different exponents in their prime factorizations."
   ]
  },
  {
   "cell_type": "code",
   "execution_count": 61,
   "id": "0c43e99d",
   "metadata": {
    "vscode": {
     "languageId": "python"
    }
   },
   "outputs": [
    {
     "name": "stdout",
     "output_type": "stream",
     "text": [
      "[12, 18, 20, 24, 28, 40, 44, 45, 48, 50, 52, 54, 56, 60, 63, 68, 72, 75, 76, 80, 84, 88, 90, 92, 96, 98, 99, 104, 108, 112, 116, 117, 120, 124, 126, 132, 135, 136, 140, 144, 147, 148, 150, 152, 153, 156, 160, 162, 164, 168, 171, 172, 175, 176, 180, 184, 188, 189, 192, 198, 200, 204, 207, 208, 212, 220, 224, 228, 232, 234, 236, 240, 242, 244, 245, 248, 250, 252, 260, 261, 264, 268, 270, 272, 275, 276, 279, 280, 284, 288, 292, 294, 296, 297, 300, 304, 306, 308, 312, 315, 316, 320, 324, 325, 328, 332, 333, 336, 338, 340, 342, 344, 348, 350, 351, 352, 356, 360, 363, 364, 368, 369, 372, 375, 376, 378, 380, 384, 387, 388, 392, 396, 400, 404, 405, 408, 412, 414, 416, 420, 423, 424, 425, 428, 432, 436, 440, 444, 448, 450, 452, 456, 459, 460, 464, 468, 472, 475, 476, 477, 480, 486, 488, 490, 492, 495, 496, 500, 504, 507, 508, 513, 516, 520, 522, 524, 525, 528, 531, 532, 536, 539, 540, 544, 548, 549, 550, 552, 556, 558, 560, 564, 567, 568, 572, 575, 576, 578, 580, 584, 585, 588, 592, 594, 596, 600, 603, 604, 605, 608, 612, 616, 620, 621, 624, 628, 630, 632, 636, 637, 639, 640, 644, 648, 650, 652, 656, 657, 660, 664, 666, 668, 672, 675, 680, 684, 686, 688, 692, 693, 696, 700, 702, 704, 708, 711, 712, 716, 720, 722, 724, 725, 726, 728, 732, 735, 736, 738, 740, 744, 747, 748, 750, 752, 756, 760, 764, 765, 768, 772, 774, 775, 776, 780, 783, 784, 788, 792, 796, 800, 801, 804, 808, 810, 812, 816, 819, 820, 824, 825, 828, 832, 833, 836, 837, 840, 844, 845, 846, 847, 848, 850, 852, 855, 856, 860, 864, 867, 868, 872, 873, 875, 876, 880, 882, 884, 888, 891, 892, 896, 904, 908, 909, 912, 916, 918, 920, 924, 925, 927, 928, 931, 932, 936, 940, 944, 945, 948, 950, 952, 954, 956, 960, 963, 964, 968, 972, 975, 976, 980, 981, 984, 988, 990, 992, 996, 999, 1004, 1008, 1012, 1014, 1016, 1017, 1020, 1025, 1026, 1028, 1029, 1032, 1035, 1036, 1040, 1044, 1048, 1050, 1052, 1053, 1056, 1058, 1060, 1062, 1064, 1068, 1071, 1072, 1075, 1076, 1078, 1080, 1083, 1084, 1088, 1092, 1096, 1098, 1100, 1104, 1107, 1108, 1112, 1116, 1120, 1124, 1125, 1127, 1128, 1132, 1134, 1136, 1140, 1143, 1144, 1148, 1150, 1152, 1160, 1161, 1164, 1168, 1170, 1172, 1175, 1176, 1179, 1180, 1183, 1184, 1188, 1192, 1196, 1197, 1200, 1204, 1206, 1208, 1210, 1212, 1215, 1216, 1220, 1224, 1228, 1232, 1233, 1236, 1240, 1242, 1244, 1248, 1250, 1251, 1252, 1256, 1260, 1264, 1268, 1269, 1272, 1274, 1275, 1276, 1278, 1280, 1284, 1287, 1288, 1292, 1300, 1304, 1305, 1308, 1312, 1314, 1316, 1320, 1323, 1324, 1325, 1328, 1332, 1336, 1340, 1341, 1344, 1348, 1350, 1352, 1356, 1359, 1360, 1364, 1368, 1372, 1375, 1376, 1377, 1380, 1384, 1386, 1388, 1392, 1395, 1396, 1400, 1404, 1408, 1412, 1413, 1416, 1420, 1421, 1422, 1424, 1425, 1428, 1431, 1432, 1436, 1440, 1445, 1448, 1449, 1450, 1452, 1456, 1458, 1460, 1464, 1467, 1468, 1470, 1472, 1475, 1476, 1480, 1484, 1485, 1488, 1492, 1494, 1496, 1500, 1503, 1504, 1508, 1512, 1516, 1519, 1520, 1524, 1525, 1528, 1530, 1532, 1536, 1539, 1540, 1544, 1548, 1550, 1552, 1556, 1557, 1560, 1564, 1566, 1568, 1572, 1573, 1575, 1576, 1580, 1584, 1587, 1588, 1592, 1593, 1596, 1600, 1602, 1604, 1608, 1611, 1612, 1616, 1617, 1620, 1624, 1625, 1628, 1629, 1632, 1636, 1638, 1640, 1644, 1647, 1648, 1650, 1652, 1656, 1660, 1664, 1665, 1666, 1668, 1672, 1674, 1675, 1676, 1680, 1682, 1683, 1684, 1688, 1690, 1692, 1694, 1696, 1700, 1701, 1704, 1708, 1710, 1712, 1715, 1716, 1719, 1720, 1724, 1725, 1728, 1732, 1734, 1736, 1737, 1740, 1744, 1746, 1748, 1750, 1752, 1755, 1756, 1760, 1768, 1772, 1773, 1775, 1776, 1780, 1782, 1784, 1788, 1791, 1792, 1796, 1800, 1804, 1805, 1808, 1809, 1812, 1813, 1815, 1816, 1818, 1820, 1824, 1825, 1827, 1828, 1832, 1836, 1840, 1844, 1845, 1848, 1850, 1852, 1854, 1856, 1859, 1860, 1862, 1863, 1864, 1868, 1872, 1875, 1876, 1880, 1881, 1884, 1888, 1890, 1892, 1896, 1899, 1900, 1904, 1908, 1911, 1912, 1916, 1917, 1920, 1922, 1924, 1925, 1926, 1928, 1932, 1935, 1936, 1940, 1944, 1948, 1950, 1952, 1953, 1956, 1960, 1962, 1964, 1968, 1971, 1972, 1975, 1976, 1980, 1984, 1988, 1989, 1992, 1996, 1998, 2000, 2004, 2007, 2008, 2009, 2012, 2016, 2020, 2023, 2024, 2025, 2028, 2032, 2034, 2036, 2040, 2043, 2044, 2050, 2052, 2056, 2057, 2058, 2060, 2061, 2064, 2068, 2070, 2072, 2075, 2076, 2079, 2080, 2084, 2088, 2092, 2096, 2097, 2100, 2104, 2106, 2107, 2108, 2112, 2115, 2120, 2124, 2125, 2128, 2132, 2133, 2136, 2140, 2142, 2144, 2148, 2150, 2151, 2152, 2156, 2160, 2164, 2166, 2168, 2169, 2172, 2175, 2176, 2178, 2180, 2184, 2188, 2192, 2196, 2200, 2204, 2205, 2208, 2212, 2214, 2216, 2220, 2223, 2224, 2225, 2228, 2232, 2236, 2240, 2241, 2244, 2248, 2250, 2252, 2254, 2256, 2259, 2260, 2264, 2268, 2272, 2275, 2276, 2277, 2280, 2284, 2286, 2288, 2292, 2295, 2296, 2299, 2300, 2303, 2304, 2308, 2312, 2313, 2316, 2320, 2322, 2324, 2325, 2328, 2331, 2332, 2336, 2340, 2344, 2348, 2349, 2350, 2352, 2356, 2358, 2360, 2364, 2366, 2367, 2368, 2372, 2375, 2376, 2380, 2384, 2385, 2388, 2392, 2394, 2396, 2400, 2403, 2404, 2408, 2412, 2416, 2420, 2421, 2424, 2425, 2428, 2430, 2432, 2436, 2439, 2440, 2444, 2448, 2450, 2452, 2456, 2457, 2460, 2464, 2466, 2468, 2472, 2475, 2476, 2480, 2484, 2488, 2492, 2493, 2496, 2499, 2500, 2502, 2504, 2508, 2511, 2512, 2516, 2520, 2523, 2524, 2525, 2527, 2528, 2529, 2532, 2535, 2536, 2538, 2540, 2541, 2544, 2547, 2548, 2550, 2552, 2556, 2560, 2564, 2565, 2568, 2572, 2574, 2575, 2576, 2580, 2583, 2584, 2588, 2592, 2596, 2597, 2600, 2604, 2608, 2610, 2612, 2616, 2619, 2620, 2624, 2625, 2628, 2632, 2636, 2637, 2640, 2644, 2645, 2646, 2648, 2650, 2652, 2655, 2656, 2660, 2662, 2664, 2668, 2672, 2673, 2675, 2676, 2680, 2682, 2684, 2688, 2691, 2692, 2695, 2696, 2700, 2704, 2708, 2709, 2712, 2716, 2718, 2720, 2724, 2725, 2727, 2728, 2732, 2736, 2738, 2740, 2745, 2748, 2750, 2752, 2754, 2756, 2760, 2763, 2764, 2768, 2772, 2775, 2776, 2780, 2781, 2783, 2784, 2788, 2790, 2792, 2793, 2796, 2799, 2800, 2804, 2808, 2812, 2816, 2817, 2820, 2824, 2825, 2826, 2828, 2832, 2835, 2836, 2840, 2842, 2844, 2848, 2850, 2852, 2853, 2856, 2860, 2862, 2864, 2868, 2871, 2872, 2873, 2875, 2876, 2880, 2883, 2884, 2888, 2889, 2890, 2891, 2892, 2896, 2898, 2900, 2904, 2907, 2908, 2912, 2916, 2920, 2924, 2925, 2928, 2932, 2934, 2936, 2940, 2943, 2944, 2948, 2950, 2952, 2956, 2960, 2961, 2964, 2968, 2970, 2972, 2975, 2976, 2979, 2980, 2984, 2988, 2989, 2992, 2996, 2997, 3000, 3004, 3006, 3008, 3012, 3015, 3016, 3020, 3024, 3028, 3032, 3033, 3036, 3038, 3040, 3042, 3044, 3048, 3050, 3051, 3052, 3056, 3060, 3064, 3068, 3069, 3072, 3075, 3076, 3078, 3080, 3084, 3087, 3088, 3092, 3096, 3100, 3104, 3105, 3108, 3112, 3114, 3116, 3120, 3123, 3124, 3128, 3132, 3136, 3140, 3141, 3144, 3146, 3148, 3150, 3152, 3156, 3159, 3160, 3164, 3168, 3172, 3174, 3175, 3176, 3177, 3179, 3180, 3184, 3185, 3186, 3188, 3192, 3195, 3196, 3200, 3204, 3208, 3211, 3212, 3213, 3216, 3220, 3222, 3224, 3225, 3228, 3231, 3232, 3234, 3236, 3240, 3244, 3248, 3250, 3252, 3256, 3258, 3260, 3264, 3267, 3268, 3272, 3275, 3276, 3280, 3283, 3284, 3285, 3288, 3292, 3294, 3296, 3300, 3303, 3304, 3308, 3312, 3316, 3320, 3321, 3324, 3325, 3328, 3330, 3332, 3336, 3339, 3340, 3344, 3348, 3350, 3352, 3356, 3357, 3360, 3362, 3366, 3368, 3372, 3376, 3380, 3381, 3384, 3388, 3392, 3393, 3396, 3400, 3402, 3404, 3408, 3411, 3412, 3416, 3420, 3424, 3425, 3428, 3429, 3430, 3432, 3436, 3438, 3440, 3444, 3447, 3448, 3450, 3452, 3456, 3460, 3464, 3465, 3468, 3472, 3474, 3475, 3476, 3479, 3480, 3483, 3484, 3488, 3492, 3496, 3500, 3501, 3504, 3508, 3509, 3510, 3512, 3516, 3519, 3520, 3524, 3525, 3528, 3532, 3536, 3537, 3540, 3544, 3546, 3548, 3549, 3550, 3552, 3555, 3556, 3560, 3564, 3568, 3572, 3573, 3575, 3576, 3577, 3580, 3582, 3584, 3588, 3591, 3592, 3596, 3600, 3604, 3608, 3609, 3610, 3612, 3616, 3618, 3620, 3624, 3625, 3626, 3627, 3628, 3630, 3632, 3636, 3640, 3644, 3645, 3648, 3650, 3652, 3654, 3656, 3660, 3663, 3664, 3668, 3672, 3675, 3676, 3680, 3681, 3684, 3688, 3690, 3692, 3696, 3698, 3699, 3700, 3703, 3704, 3708, 3712, 3716, 3717, 3718, 3720, 3724, 3725, 3726, 3728, 3732, 3735, 3736, 3740, 3744, 3748, 3750, 3751, 3752, 3753, 3756, 3757, 3760, 3762, 3764, 3768, 3771, 3772, 3773, 3775, 3776, 3780, 3784, 3788, 3789, 3792, 3796, 3798, 3800, 3804, 3807, 3808, 3812, 3816, 3820, 3822, 3824, 3825, 3828, 3832, 3834, 3836, 3840, 3843, 3848, 3850, 3852, 3856, 3860, 3861, 3864, 3868, 3870, 3871, 3872, 3875, 3876, 3879, 3880, 3884, 3887, 3888, 3892, 3896, 3897, 3900, 3904, 3906, 3908, 3912, 3915, 3916, 3920, 3924, 3925, 3928, 3932, 3933, 3936, 3940, 3942, 3944, 3948, 3950, 3951, 3952, 3956, 3960, 3964, 3968, 3969, 3971, 3972, 3975, 3976, 3978, 3980, 3984, 3987, 3988, 3992, 3993, 3996, 4000, 4004, 4005, 4008, 4012, 4014, 4016, 4018, 4020, 4023, 4024, 4025, 4028, 4032, 4036, 4040, 4041, 4044, 4046, 4048, 4050, 4052, 4056, 4059, 4060, 4064, 4067, 4068, 4072, 4075, 4076, 4077, 4080, 4084, 4086, 4088, 4092, 4095, 4100, 4104, 4107, 4108, 4112, 4113, 4114, 4116, 4120, 4122, 4124, 4125, 4128, 4131, 4132, 4136, 4140, 4144, 4148, 4149, 4150, 4152, 4156, 4158, 4160, 4164, 4165, 4167, 4168, 4172, 4175, 4176, 4180, 4184, 4185, 4188, 4192, 4194, 4196, 4200, 4203, 4204, 4205, 4208, 4212, 4214, 4216, 4220, 4221, 4224, 4228, 4230, 4232, 4235, 4236, 4239, 4240, 4244, 4248, 4250, 4252, 4256, 4257, 4260, 4263, 4264, 4266, 4268, 4272, 4275, 4276, 4280, 4284, 4288, 4292, 4293, 4296, 4300, 4302, 4304, 4308, 4311, 4312, 4316, 4320, 4324, 4325, 4328, 4329, 4332, 4335, 4336, 4338, 4340, 4344, 4347, 4348, 4350, 4352, 4360, 4361]\n"
     ]
    }
   ],
   "source": [
    "def isA059404(n: int) -> bool: \n",
    "    return 1 < len(set(valuation(n, p) for p in prime_divisors(n)))\n",
    "\n",
    "B = [n for n in range(1, 4362) if isA059404(n)]\n",
    "print(B)"
   ]
  },
  {
   "cell_type": "markdown",
   "id": "45ff5618",
   "metadata": {},
   "source": [
    "<p style=\"color:brown;font-size:large\">The numbers A217261 of the form i^j^k, for i, j, k > 1 ? How are they related to A372405, the exponentially powerful numbers whose prime factorization exponents are all powerful numbers > 1."
   ]
  },
  {
   "cell_type": "code",
   "execution_count": 62,
   "id": "7d40ac6d",
   "metadata": {
    "vscode": {
     "languageId": "python"
    }
   },
   "outputs": [
    {
     "name": "stdout",
     "output_type": "stream",
     "text": [
      "[16, 81, 256, 512, 625, 1296, 2401, 4096, 6561, 10000, 14641, 19683, 20736, 28561, 38416, 50625, 65536, 83521, 104976, 130321, 160000, 194481, 234256, 262144, 279841, 331776, 390625, 456976, 531441, 614656, 707281, 810000, 923521, 1048576, 1185921]\n"
     ]
    }
   ],
   "source": [
    "MAX = 1185922\n",
    "#MAX = 100000000\n",
    "\n",
    "A217261List = sorted(set([x for x in [i^(j^2) \n",
    "              for j in range(2, 120) \n",
    "              for i in range(2, 120)] \n",
    "              if x < MAX]))\n",
    "\n",
    "print(A217261List)"
   ]
  },
  {
   "cell_type": "code",
   "execution_count": 63,
   "id": "d5720777",
   "metadata": {
    "vscode": {
     "languageId": "python"
    }
   },
   "outputs": [
    {
     "name": "stdout",
     "output_type": "stream",
     "text": [
      "[1] 16 0 4\n",
      "[2] 81 0 9\n",
      "[3] 256 0 16\n",
      "[4] 512 0 16*sqrt(2)\n",
      "[5] 625 0 25\n",
      "[6] 1296 0 36\n",
      "[7] 2401 0 49\n",
      "[8] 4096 0 64\n",
      "[9] 6561 0 81\n",
      "[10] 10000 0 100\n",
      "[11] 14641 0 121\n",
      "[12] 19683 0 81*sqrt(3)\n",
      "[13] 20736 0 144\n",
      "[14] 28561 0 169\n",
      "[15] 38416 0 196\n",
      "[16] 50625 0 225\n",
      "[17] 65536 0 256\n",
      "[18] 83521 0 289\n",
      "[19] 104976 0 324\n",
      "[20] 130321 0 361\n",
      "[21] 160000 0 400\n",
      "[22] 194481 0 441\n",
      "[23] 234256 0 484\n",
      "[24] 262144 0 512\n",
      "[25] 279841 0 529\n",
      "[26] 331776 0 576\n",
      "[27] 390625 0 625\n",
      "[28] 456976 0 676\n",
      "[29] 531441 0 729\n",
      "[30] 614656 0 784\n",
      "[31] 707281 0 841\n",
      "[32] 810000 0 900\n",
      "[33] 923521 0 961\n",
      "[34] 1048576 0 1024\n",
      "[35] 1185921 0 1089\n"
     ]
    }
   ],
   "source": [
    "i=1\n",
    "for n in A217261List:\n",
    "    print([i], n, µ(n), sqrt(n))\n",
    "    i += 1"
   ]
  },
  {
   "cell_type": "markdown",
   "id": "aa9d3190",
   "metadata": {},
   "source": [
    "<h1 style=\"color:#CD5C5C;background:white; line-height: 150%;\n",
    "border-top: thick solid #CD5C5C; float: left; width: 100%; margin-top: 1em;\">\n",
    "Appendix</h1>"
   ]
  },
  {
   "cell_type": "code",
   "execution_count": 64,
   "id": "e217f1d2",
   "metadata": {
    "vscode": {
     "languageId": "python"
    }
   },
   "outputs": [
    {
     "name": "stdout",
     "output_type": "stream",
     "text": [
      "CPU times: user 854 ms, sys: 7.93 ms, total: 862 ms\n",
      "Wall time: 893 ms\n"
     ]
    }
   ],
   "source": [
    "%%time\n",
    "\n",
    "[ν(n) for n in range(1, 20000)];"
   ]
  },
  {
   "cell_type": "code",
   "execution_count": 65,
   "id": "f386f860",
   "metadata": {
    "vscode": {
     "languageId": "python"
    }
   },
   "outputs": [
    {
     "name": "stdout",
     "output_type": "stream",
     "text": [
      "CPU times: user 129 ms, sys: 9.43 ms, total: 138 ms\n",
      "Wall time: 141 ms\n"
     ]
    }
   ],
   "source": [
    "%%time\n",
    "\n",
    "[µ(n) for n in range(1, 20000)];"
   ]
  },
  {
   "cell_type": "code",
   "execution_count": 66,
   "id": "c7daed1e",
   "metadata": {
    "vscode": {
     "languageId": "python"
    }
   },
   "outputs": [
    {
     "name": "stdout",
     "output_type": "stream",
     "text": [
      "7723 6155 6121\n"
     ]
    }
   ],
   "source": [
    "c0 = c1 = c2 = 0\n",
    "for n in range(1, 20000):\n",
    "    vn = ν(n)\n",
    "    if vn == 0: c0 +=1\n",
    "    elif vn == 1: c1 +=1\n",
    "    else: c2 += 1    \n",
    "print(c0, c1, c2)"
   ]
  },
  {
   "cell_type": "code",
   "execution_count": 67,
   "id": "8011c658",
   "metadata": {
    "vscode": {
     "languageId": "python"
    }
   },
   "outputs": [
    {
     "name": "stdout",
     "output_type": "stream",
     "text": [
      "7839 6093 6067\n"
     ]
    }
   ],
   "source": [
    "c0 = c1 = c2 = 0\n",
    "for n in range(1, 20000):\n",
    "    µn = µ(n)\n",
    "    if µn == 0: c0 +=1\n",
    "    elif µn == 1: c1 +=1\n",
    "    else: c2 += 1    \n",
    "print(c0, c1, c2)"
   ]
  }
 ],
 "metadata": {
  "kernelspec": {
   "display_name": "SageMath 10.5",
   "language": "sage",
   "name": "sagemath10.5"
  },
  "language_info": {
   "codemirror_mode": {
    "name": "ipython",
    "version": 3
   },
   "file_extension": ".py",
   "mimetype": "text/x-python",
   "name": "sage",
   "nbconvert_exporter": "python",
   "pygments_lexer": "ipython3",
   "version": "3.10.12"
  }
 },
 "nbformat": 4,
 "nbformat_minor": 5
}
